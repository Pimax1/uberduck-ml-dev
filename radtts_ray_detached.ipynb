{
 "cells": [
  {
   "cell_type": "code",
   "execution_count": 1,
   "id": "8251a1e6",
   "metadata": {},
   "outputs": [],
   "source": [
    "import requests\n",
    "import torch\n",
    "from io import BytesIO\n",
    "def get_s3_state_dict(s3_url):\n",
    "    response = requests.get(s3_url, stream=True)\n",
    "    bio = BytesIO(response.content)\n",
    "    state_dict = torch.load(bio)\n",
    "    return state_dict\n",
    "#     model.load_state_dict(loaded[\"model\"])\n",
    "\n",
    "# s3_url = \"https://uberduck-models.s3.us-west-1.amazonaws.com/radtts++ljs-dap.pt\"\n",
    "s3_url = \"https://uberduck-models-us-west-2.s3.us-west-2.amazonaws.com/radtts%2B%2Bljs-dap.pt\"\n",
    "pretrained_dict = get_s3_state_dict(s3_url)['state_dict']\n"
   ]
  },
  {
   "cell_type": "code",
   "execution_count": null,
   "id": "e37a86fe",
   "metadata": {},
   "outputs": [],
   "source": []
  },
  {
   "cell_type": "code",
   "execution_count": 3,
   "id": "4af7b5e6",
   "metadata": {},
   "outputs": [
    {
     "name": "stdout",
     "output_type": "stream",
     "text": [
      "Applying spectral norm to text encoder LSTM\n",
      "Applying spectral norm to context encoder LSTM\n"
     ]
    },
    {
     "name": "stderr",
     "output_type": "stream",
     "text": [
      "/home/ray/default/uberduck_ml_dev/models/common.py:1516: UserWarning: torch.qr is deprecated in favor of torch.linalg.qr and will be removed in a future PyTorch release.\n",
      "The boolean parameter 'some' has been replaced with a string parameter 'mode'.\n",
      "Q, R = torch.qr(A, some)\n",
      "should be replaced with\n",
      "Q, R = torch.linalg.qr(A, 'reduced' if some else 'complete') (Triggered internally at ../aten/src/ATen/native/BatchLinearAlgebra.cpp:2349.)\n",
      "  W = torch.qr(torch.FloatTensor(c, c).normal_())[0]\n",
      "/home/ray/anaconda3/lib/python3.10/site-packages/torch/functional.py:1682: UserWarning: torch.lu is deprecated in favor of torch.linalg.lu_factor / torch.linalg.lu_factor_ex and will be removed in a future PyTorch release.\n",
      "LU, pivots = torch.lu(A, compute_pivots)\n",
      "should be replaced with\n",
      "LU, pivots = torch.linalg.lu_factor(A, compute_pivots)\n",
      "and\n",
      "LU, pivots, info = torch.lu(A, compute_pivots, get_infos=True)\n",
      "should be replaced with\n",
      "LU, pivots, info = torch.linalg.lu_factor_ex(A, compute_pivots) (Triggered internally at ../aten/src/ATen/native/BatchLinearAlgebra.cpp:1915.)\n",
      "  return torch._lu_with_info(A, pivot=pivot, check_errors=(not get_infos))\n"
     ]
    }
   ],
   "source": [
    "import os\n",
    "os.chdir('/home/ray/default')\n",
    "from uberduck_ml_dev.models.radtts import RADTTS\n",
    "from uberduck_ml_dev.exec.train_radtts_with_ray import model_config\n",
    "\n",
    "include_layers = []\n",
    "ignore_layers_warmstart = []\n",
    "# \"warmstart\"\n",
    "model = RADTTS(\n",
    "    **model_config,\n",
    ")\n",
    "\n",
    "if len(include_layers):\n",
    "    pretrained_dict = {k: v for k, v in pretrained_dict.items()\n",
    "                       if any(l in k for l in include_layers)}\n",
    "\n",
    "if len(ignore_layers_warmstart):\n",
    "    pretrained_dict = {k: v for k, v in pretrained_dict.items()\n",
    "                       if all(l not in k for l in ignore_layers_warmstart)}\n",
    "\n",
    "model_dict = model.state_dict()\n",
    "model_dict.update(pretrained_dict)\n",
    "model.load_state_dict(model_dict, strict=False)\n",
    "model = model.cuda()\n",
    "# print(\"Warm started from {}\".format(checkpoint_path))\n",
    "# model.load_state_dict(state_dict['state_dict'])"
   ]
  },
  {
   "cell_type": "code",
   "execution_count": 4,
   "id": "1c2fd460",
   "metadata": {},
   "outputs": [
    {
     "name": "stderr",
     "output_type": "stream",
     "text": [
      "2023-03-08 17:30:39,491\tINFO worker.py:1360 -- Connecting to existing Ray cluster at address: 10.0.38.167:6379...\n",
      "2023-03-08 17:30:39,502\tINFO worker.py:1548 -- Connected to Ray cluster. View the dashboard at \u001b[1m\u001b[32mhttps://console.anyscale.com/api/v2/sessions/ses_ha6my3r3kl4mn9jdylcqnfutq1/services?redirect_to=dashboard \u001b[39m\u001b[22m\n",
      "2023-03-08 17:30:39,558\tINFO packaging.py:330 -- Pushing file package 'gcs://_ray_pkg_cc6c57beec5bd996cace42864eba9f20.zip' (20.65MiB) to Ray cluster...\n",
      "2023-03-08 17:30:39,909\tINFO packaging.py:343 -- Successfully pushed file package 'gcs://_ray_pkg_cc6c57beec5bd996cace42864eba9f20.zip'.\n",
      "(_get_read_tasks pid=144149) 2023-03-08 17:30:41,724\tWARNING file_meta_provider.py:162 -- Expanding 100 path(s). This may be a HIGH LATENCY operation on some cloud storage services. If the specified paths all point to files and never directories, try rerunning this read with `meta_provider=FastFileMetadataProvider()`.\n",
      "2023-03-08 17:30:42,911\tINFO bulk_executor.py:41 -- Executing DAG InputDataBuffer[Input] -> TaskPoolMapOperator[MapBatches(<lambda>)] -> AllToAllOperator[zip] -> AllToAllOperator[zip] -> AllToAllOperator[zip] -> TaskPoolMapOperator[MapBatches(<lambda>)]\n",
      "MapBatches(<lambda>): 100%|██████████| 100/100 [00:02<00:00, 37.60it/s]\n",
      "2023-03-08 17:30:45,741\tINFO bulk_executor.py:41 -- Executing DAG InputDataBuffer[Input] -> TaskPoolMapOperator[read] -> TaskPoolMapOperator[MapBatches(<lambda>)]\n",
      "read:   1%|          | 1/100 [00:01<01:39,  1.01s/it]"
     ]
    },
    {
     "name": "stdout",
     "output_type": "stream",
     "text": [
      "(autoscaler +32s) Tip: use `ray status` to view detailed cluster status. To disable these messages, set RAY_SCHEDULER_EVENTS=0.\n",
      "(autoscaler +32s) Adding 7 node(s) of type worker-node-type-0.\n"
     ]
    },
    {
     "name": "stderr",
     "output_type": "stream",
     "text": [
      "read: 100%|██████████| 100/100 [00:15<00:00,  6.66it/s]\n",
      "MapBatches(<lambda>): 100%|██████████| 100/100 [00:00<00:00, 415.71it/s]\n",
      "2023-03-08 17:31:01,313\tWARNING plan.py:528 -- Warning: The Ray cluster currently does not have any available CPUs. The Dataset job will hang unless more CPUs are freed up. A common reason is that cluster resources are used by Actors or Tune trials; see the following link for more details: https://docs.ray.io/en/master/data/dataset-internals.html#datasets-and-tune\n",
      "2023-03-08 17:31:01,314\tINFO bulk_executor.py:41 -- Executing DAG InputDataBuffer[Input] -> TaskPoolMapOperator[MapBatches(<lambda>)]\n",
      "MapBatches(<lambda>): 100%|██████████| 100/100 [00:00<00:00, 737.48it/s]\n",
      "2023-03-08 17:31:01,766\tINFO bulk_executor.py:41 -- Executing DAG InputDataBuffer[Input] -> TaskPoolMapOperator[MapBatches(<lambda>)]\n",
      "MapBatches(<lambda>): 100%|██████████| 100/100 [00:00<00:00, 465.58it/s]\n",
      "MapBatches(<lambda>): 100%|██████████| 100/100 [00:01<00:00, 83.25it/s]\n"
     ]
    }
   ],
   "source": [
    "from uberduck_ml_dev.exec.train_radtts_with_ray import get_ray_dataset\n",
    "ray_dataset = get_ray_dataset()\n",
    "batch = ray_dataset.take(6)"
   ]
  },
  {
   "cell_type": "code",
   "execution_count": 5,
   "id": "a505fe61",
   "metadata": {},
   "outputs": [],
   "source": [
    "from uberduck_ml_dev.exec.train_radtts_with_ray import ray_df_to_batch_radtts, get_text"
   ]
  },
  {
   "cell_type": "code",
   "execution_count": 1,
   "id": "d9c11095",
   "metadata": {},
   "outputs": [
    {
     "ename": "NameError",
     "evalue": "name 'get_text' is not defined",
     "output_type": "error",
     "traceback": [
      "\u001b[0;31m---------------------------------------------------------------------------\u001b[0m",
      "\u001b[0;31mNameError\u001b[0m                                 Traceback (most recent call last)",
      "Cell \u001b[0;32mIn[1], line 1\u001b[0m\n\u001b[0;32m----> 1\u001b[0m \u001b[43mget_text\u001b[49m(\u001b[38;5;124m'\u001b[39m\u001b[38;5;124myour mom\u001b[39m\u001b[38;5;124m'\u001b[39m)\n\u001b[1;32m      2\u001b[0m \u001b[38;5;66;03m# tensor([  8,  99,  89,  95,  92,   8, 155, 103, 155,   8])\u001b[39;00m\n",
      "\u001b[0;31mNameError\u001b[0m: name 'get_text' is not defined"
     ]
    }
   ],
   "source": [
    "get_text('your mom')\n",
    "# tensor([  8,  99,  89,  95,  92,   8, 155, 103, 155,   8])\n"
   ]
  },
  {
   "cell_type": "code",
   "execution_count": 13,
   "id": "838c8c7b",
   "metadata": {},
   "outputs": [
    {
     "name": "stderr",
     "output_type": "stream",
     "text": [
      "/home/ray/default/uberduck_ml_dev/exec/train_radtts_with_ray.py:504: UserWarning: The given NumPy array is not writable, and PyTorch does not support non-writable tensors. This means writing to this tensor will result in undefined behavior. You may want to copy the array to protect its data or make it writable before converting it to a tensor. This type of warning will be suppressed for the rest of this program. (Triggered internally at ../torch/csrc/utils/tensor_numpy.cpp:199.)\n",
      "  audio = torch.FloatTensor(wav_data)\n"
     ]
    },
    {
     "name": "stdout",
     "output_type": "stream",
     "text": [
      "(autoscaler +2m44s) Adding 4 node(s) of type worker-node-type-0.\n"
     ]
    }
   ],
   "source": [
    "batch_dict = ray_df_to_batch_radtts(next(ray_dataset.iter_batches(batch_size=6)))"
   ]
  },
  {
   "cell_type": "code",
   "execution_count": null,
   "id": "dd02f015",
   "metadata": {},
   "outputs": [],
   "source": [
    "from uberduck_ml_dev.utils.utils import (\n",
    "    to_gpu,\n",
    ")\n",
    "binarize = False"
   ]
  },
  {
   "cell_type": "code",
   "execution_count": null,
   "id": "e265dd2e",
   "metadata": {},
   "outputs": [],
   "source": [
    "mel = to_gpu(batch_dict['mel'])\n",
    "speaker_ids = to_gpu(batch_dict['speaker_ids'])\n",
    "attn_prior = to_gpu(batch_dict['attn_prior'])\n",
    "f0 = to_gpu(batch_dict['f0'])\n",
    "voiced_mask = to_gpu(batch_dict['voiced_mask'])\n",
    "p_voiced = to_gpu(batch_dict['p_voiced'])\n",
    "text = to_gpu(batch_dict['text'])\n",
    "in_lens = to_gpu(batch_dict['input_lengths'])\n",
    "out_lens = to_gpu(batch_dict['output_lengths'])\n",
    "energy_avg = to_gpu(batch_dict['energy_avg'])\n",
    "\n",
    "with torch.no_grad():\n",
    "    outputs = model(\n",
    "                mel, speaker_ids, text, in_lens, out_lens,\n",
    "                binarize_attention=binarize, attn_prior=attn_prior,\n",
    "                f0=f0, energy_avg=energy_avg,\n",
    "                voiced_mask=voiced_mask, p_voiced=p_voiced)"
   ]
  },
  {
   "cell_type": "code",
   "execution_count": 9,
   "id": "e5e401f7",
   "metadata": {},
   "outputs": [],
   "source": [
    "import os\n",
    "os.chdir('uberduck_ml_dev')"
   ]
  },
  {
   "cell_type": "code",
   "execution_count": 42,
   "id": "0e545e65",
   "metadata": {},
   "outputs": [],
   "source": [
    "import IPython.display as ipd\n",
    "from scipy.io.wavfile import read\n",
    "import numpy as np\n",
    "# ipd.Audio('../crust.wav')\n",
    "audio = read('../crust.wav')[1]\n",
    "audio_norm = (max_wav_value - 1) * audio / (np.abs(audio).max())\n",
    "\n",
    "audio_norm = torch.FloatTensor(audio_norm)\n",
    "audio_norm = audio_norm.unsqueeze(0)\n",
    "audio_norm = torch.autograd.Variable(audio_norm, requires_grad=False)\n",
    "melspec = stft.mel_spectrogram(audio_norm)\n",
    "melspec = torch.squeeze(melspec, 0)"
   ]
  },
  {
   "cell_type": "code",
   "execution_count": 43,
   "id": "24dc63de",
   "metadata": {},
   "outputs": [
    {
     "data": {
      "text/plain": [
       "array([ 9.99938963e-01,  9.99572741e-01,  9.99755852e-01, ...,\n",
       "       -2.44148076e-04, -1.83111057e-04,  9.99633778e-01])"
      ]
     },
     "execution_count": 43,
     "metadata": {},
     "output_type": "execute_result"
    }
   ],
   "source": [
    "audio_norm"
   ]
  },
  {
   "cell_type": "code",
   "execution_count": 11,
   "id": "1e21040c",
   "metadata": {},
   "outputs": [
    {
     "data": {
      "text/plain": [
       "32768.0"
      ]
     },
     "execution_count": 11,
     "metadata": {},
     "output_type": "execute_result"
    }
   ],
   "source": [
    "from uberduck_ml_dev.exec.train_radtts_with_ray import data_config\n",
    "data_config['max_wav_value']"
   ]
  },
  {
   "cell_type": "code",
   "execution_count": 12,
   "id": "384c7f8b",
   "metadata": {},
   "outputs": [],
   "source": [
    "from uberduck_ml_dev.data.audio_processing import TacotronSTFT\n",
    "stft = TacotronSTFT(\n",
    "    filter_length=data_config['filter_length'],\n",
    "    hop_length=data_config['hop_length'],\n",
    "    win_length=data_config['win_length'],\n",
    "    sampling_rate=22050,\n",
    "    n_mel_channels=data_config['n_mel_channels'],\n",
    "    mel_fmin=data_config['mel_fmin'],\n",
    "    mel_fmax=data_config['mel_fmax'],\n",
    ")"
   ]
  },
  {
   "cell_type": "code",
   "execution_count": 27,
   "id": "250c7ca7",
   "metadata": {},
   "outputs": [],
   "source": [
    "from uberduck_ml_dev.models.common import get_mel\n",
    "mel = get_mel(torch.FloatTensor(audio_norm), data_config['max_wav_value'], stft)"
   ]
  },
  {
   "cell_type": "code",
   "execution_count": 18,
   "id": "a51b7595",
   "metadata": {},
   "outputs": [
    {
     "data": {
      "text/plain": [
       "<matplotlib.collections.PathCollection at 0x7f3ee861bf40>"
      ]
     },
     "execution_count": 18,
     "metadata": {},
     "output_type": "execute_result"
    },
    {
     "data": {
      "image/png": "[encoded data removed]",
      "text/plain": [
       "<Figure size 640x480 with 1 Axes>"
      ]
     },
     "metadata": {},
     "output_type": "display_data"
    }
   ],
   "source": [
    "import matplotlib.pyplot as plt\n",
    "plt.scatter( list(range(audio_norm.shape[0])) , torch.FloatTensor(audio_norm))"
   ]
  },
  {
   "cell_type": "code",
   "execution_count": 41,
   "id": "2891abfd",
   "metadata": {},
   "outputs": [
    {
     "data": {
      "text/plain": [
       "tensor([[ 3., 15.,  9.,  ...,  8.,  6., 13.]])"
      ]
     },
     "execution_count": 41,
     "metadata": {},
     "output_type": "execute_result"
    }
   ],
   "source": [
    "audio_norm"
   ]
  },
  {
   "cell_type": "code",
   "execution_count": 44,
   "id": "3220de32",
   "metadata": {},
   "outputs": [],
   "source": [
    "\n",
    "# audio_norm = torch.FloatTensor(audio) / max_wav_value\n"
   ]
  },
  {
   "cell_type": "code",
   "execution_count": 45,
   "id": "06d810dd",
   "metadata": {},
   "outputs": [
    {
     "data": {
      "text/plain": [
       "<Axes: >"
      ]
     },
     "execution_count": 45,
     "metadata": {},
     "output_type": "execute_result"
    },
    {
     "data": {
      "image/png": "[encoded data removed]",
      "text/plain": [
       "<Figure size 640x480 with 2 Axes>"
      ]
     },
     "metadata": {},
     "output_type": "display_data"
    },
    {
     "name": "stdout",
     "output_type": "stream",
     "text": [
      "(autoscaler +32m19s) Adding 1 node(s) of type worker-node-type-1.\n",
      "(autoscaler +33m24s) Resized to 12 CPUs, 2 GPUs.\n"
     ]
    },
    {
     "name": "stderr",
     "output_type": "stream",
     "text": [
      "(raylet, ip=10.0.43.220) /home/ray/anaconda3/lib/python3.10/site-packages/ray/dashboard/agent.py:51: DeprecationWarning: There is no current event loop\n",
      "(raylet, ip=10.0.43.220)   aiogrpc.init_grpc_aio()\n"
     ]
    },
    {
     "name": "stdout",
     "output_type": "stream",
     "text": [
      "(autoscaler +33m54s) Adding 1 node(s) of type worker-node-type-0.\n"
     ]
    },
    {
     "name": "stderr",
     "output_type": "stream",
     "text": [
      "(raylet, ip=10.0.61.205) /home/ray/anaconda3/lib/python3.10/site-packages/ray/dashboard/agent.py:51: DeprecationWarning: There is no current event loop\n",
      "(raylet, ip=10.0.61.205)   aiogrpc.init_grpc_aio()\n"
     ]
    },
    {
     "name": "stdout",
     "output_type": "stream",
     "text": [
      "(autoscaler +34m50s) Resized to 28 CPUs, 2 GPUs.\n",
      "(autoscaler +39m51s) Removing 1 nodes of type worker-node-type-0 (idle).\n",
      "(autoscaler +39m56s) Removing 1 nodes of type worker-node-type-0 (idle).\n",
      "(autoscaler +40m1s) Removing 1 nodes of type worker-node-type-0 (idle).\n",
      "(autoscaler +40m7s) Removing 1 nodes of type worker-node-type-0 (idle).\n",
      "(autoscaler +40m12s) Removing 1 nodes of type worker-node-type-0 (idle).\n",
      "(autoscaler +40m17s) Removing 1 nodes of type worker-node-type-0 (idle).\n",
      "(autoscaler +40m22s) Removing 1 nodes of type worker-node-type-0 (idle).\n",
      "(autoscaler +40m27s) Removing 1 nodes of type worker-node-type-0 (idle).\n",
      "(autoscaler +40m32s) Removing 1 nodes of type worker-node-type-0 (idle).\n",
      "(autoscaler +40m37s) Removing 1 nodes of type worker-node-type-0 (idle).\n",
      "(autoscaler +40m41s) Removing 1 nodes of type worker-node-type-0 (idle).\n",
      "(autoscaler +40m46s) Removing 1 nodes of type worker-node-type-0 (idle).\n",
      "(autoscaler +40m51s) Removing 1 nodes of type worker-node-type-0 (idle).\n",
      "(autoscaler +40m56s) Removing 1 nodes of type worker-node-type-0 (idle).\n",
      "(autoscaler +41m1s) Removing 1 nodes of type worker-node-type-0 (idle).\n",
      "(autoscaler +41m6s) Removing 1 nodes of type worker-node-type-0 (idle).\n",
      "(autoscaler +41m12s) Removing 1 nodes of type worker-node-type-0 (idle).\n",
      "(autoscaler +41m17s) Removing 1 nodes of type worker-node-type-0 (idle).\n",
      "(autoscaler +41m22s) Removing 1 nodes of type worker-node-type-0 (idle).\n",
      "(autoscaler +41m32s) Resized to 12 CPUs, 2 GPUs.\n",
      "(autoscaler +44m52s) Removing 1 nodes of type worker-node-type-1 (idle).\n",
      "(autoscaler +44m57s) Removing 1 nodes of type worker-node-type-1 (idle).\n",
      "(autoscaler +45m2s) Removing 1 nodes of type worker-node-type-1 (idle).\n",
      "(autoscaler +45m7s) Removing 1 nodes of type worker-node-type-1 (idle).\n",
      "(autoscaler +45m12s) Removing 1 nodes of type worker-node-type-1 (idle).\n",
      "(autoscaler +45m18s) Removing 1 nodes of type worker-node-type-1 (idle).\n",
      "(autoscaler +45m23s) Removing 1 nodes of type worker-node-type-1 (idle).\n",
      "(autoscaler +45m28s) Removing 1 nodes of type worker-node-type-1 (idle).\n",
      "(autoscaler +45m33s) Removing 1 nodes of type worker-node-type-1 (idle).\n",
      "(autoscaler +45m38s) Removing 1 nodes of type worker-node-type-1 (idle).\n",
      "(autoscaler +45m43s) Removing 1 nodes of type worker-node-type-1 (idle).\n",
      "(autoscaler +45m48s) Removing 1 nodes of type worker-node-type-1 (idle).\n",
      "(autoscaler +45m53s) Removing 1 nodes of type worker-node-type-1 (idle).\n",
      "(autoscaler +45m58s) Removing 1 nodes of type worker-node-type-1 (idle).\n",
      "(autoscaler +46m3s) Removing 1 nodes of type worker-node-type-1 (idle).\n",
      "(autoscaler +46m8s) Removing 1 nodes of type worker-node-type-1 (idle).\n",
      "(autoscaler +46m12s) Removing 1 nodes of type worker-node-type-1 (idle).\n",
      "(autoscaler +46m17s) Removing 1 nodes of type worker-node-type-1 (idle).\n",
      "(autoscaler +46m23s) Removing 1 nodes of type worker-node-type-1 (idle).\n"
     ]
    }
   ],
   "source": [
    "%matplotlib inline\n",
    "import seaborn as sns\n",
    "sns.heatmap(melspec[:,:])"
   ]
  },
  {
   "cell_type": "code",
   "execution_count": 28,
   "id": "cfcdbd16",
   "metadata": {},
   "outputs": [
    {
     "data": {
      "text/plain": [
       "<Axes: >"
      ]
     },
     "execution_count": 28,
     "metadata": {},
     "output_type": "execute_result"
    },
    {
     "data": {
      "image/png": "[encoded data removed]",
      "text/plain": [
       "<Figure size 640x480 with 2 Axes>"
      ]
     },
     "metadata": {},
     "output_type": "display_data"
    }
   ],
   "source": [
    "%matplotlib inline\n",
    "import seaborn as sns\n",
    "sns.heatmap(mel[:,:])"
   ]
  },
  {
   "cell_type": "code",
   "execution_count": 19,
   "id": "8efe94a7",
   "metadata": {},
   "outputs": [
    {
     "name": "stdout",
     "output_type": "stream",
     "text": [
      "{'z_mel': tensor([[[  5.5805,  -4.8502,  -2.2255,  ...,   0.6527,   0.6527,   0.6527],\n",
      "         [  2.7833,  -6.4030,  -4.0849,  ...,  -0.4161,  -0.4161,  -0.4161],\n",
      "         [ -1.9953,  -1.0113,   8.4573,  ...,  -0.3643,  -0.3643,  -0.3643],\n",
      "         ...,\n",
      "         [ 11.3995,  38.7243,   5.4153,  ...,  -0.2779,  -0.2779,  -0.2779],\n",
      "         [ 41.7488,  13.7454,  -3.9335,  ...,  -3.4180,  -3.4180,  -3.4180],\n",
      "         [ 59.0797, -18.6579,   6.7718,  ...,   7.4148,   7.4148,   7.4148]],\n",
      "\n",
      "        [[  4.7221,  -4.2680,  -1.5898,  ...,   0.6527,   0.6527,   0.6527],\n",
      "         [  2.8044,  -6.3878,  -4.9030,  ...,  -0.4161,  -0.4161,  -0.4161],\n",
      "         [ -1.9617,  -1.7570,   9.0913,  ...,  -0.3643,  -0.3643,  -0.3643],\n",
      "         ...,\n",
      "         [ 14.3625,  39.4538,  10.2159,  ...,  -0.2779,  -0.2779,  -0.2779],\n",
      "         [ 48.7296,  24.3077,  11.8530,  ...,  -3.4180,  -3.4180,  -3.4180],\n",
      "         [ 47.3953,  -7.5014,   2.8491,  ...,   7.4148,   7.4148,   7.4148]],\n",
      "\n",
      "        [[  5.7174,  -4.4648,  -2.5777,  ...,   0.6527,   0.6527,   0.6527],\n",
      "         [  2.6935,  -6.4502,  -4.4671,  ...,  -0.4161,  -0.4161,  -0.4161],\n",
      "         [ -2.5605,  -0.8788,   7.6176,  ...,  -0.3643,  -0.3643,  -0.3643],\n",
      "         ...,\n",
      "         [  7.5182,  41.8885,   3.3397,  ...,  -0.2779,  -0.2779,  -0.2779],\n",
      "         [ 50.1937,  12.3929,   1.1628,  ...,  -3.4180,  -3.4180,  -3.4180],\n",
      "         [ 51.3080, -11.1605,   0.7786,  ...,   7.4148,   7.4148,   7.4148]],\n",
      "\n",
      "        [[  4.3448,  -4.2287,  -1.4398,  ...,   0.6527,   0.6527,   0.6527],\n",
      "         [  2.7750,  -6.1527,  -3.9841,  ...,  -0.4161,  -0.4161,  -0.4161],\n",
      "         [ -2.0263,  -0.8051,   8.7072,  ...,  -0.3643,  -0.3643,  -0.3643],\n",
      "         ...,\n",
      "         [  7.4169,  40.7942,  10.8305,  ...,  -0.2779,  -0.2779,  -0.2779],\n",
      "         [ 49.1094,  29.3683,  14.5820,  ...,  -3.4180,  -3.4180,  -3.4180],\n",
      "         [ 40.3679,   3.7427,  11.2584,  ...,   7.4148,   7.4148,   7.4148]],\n",
      "\n",
      "        [[  5.0192,  -4.0935,  -2.0057,  ...,   0.6527,   0.6527,   0.6527],\n",
      "         [  3.2677,  -5.9960,  -4.7459,  ...,  -0.4161,  -0.4161,  -0.4161],\n",
      "         [ -3.1970,  -0.1629,   8.1536,  ...,  -0.3643,  -0.3643,  -0.3643],\n",
      "         ...,\n",
      "         [ 17.3935,  40.6008,   4.8724,  ...,  -0.2779,  -0.2779,  -0.2779],\n",
      "         [ 34.2661,  17.5590,   2.6444,  ...,  -3.4180,  -3.4180,  -3.4180],\n",
      "         [ 52.8834,  -8.9962,  10.8873,  ...,   7.4148,   7.4148,   7.4148]],\n",
      "\n",
      "        [[  4.9711,  -4.4856,  -2.4365,  ...,  -0.3639,   2.1154,   5.8959],\n",
      "         [  3.2471,  -6.5175,  -5.0680,  ...,  -5.8333,  -4.4031,  -3.1883],\n",
      "         [ -1.8504,  -0.8502,   7.7542,  ...,   6.2914,  16.0077,   5.0584],\n",
      "         ...,\n",
      "         [ 12.6929,  38.3463,   1.4888,  ...,  -0.1382, -25.2902,  -9.1062],\n",
      "         [ 41.2586,  18.6340,  -0.7993,  ...,  13.6495,  42.9993,  -3.7579],\n",
      "         [ 56.4156, -10.5883,   4.3977,  ...,   4.7264,  -7.5536, -20.5996]]],\n",
      "       device='cuda:0'), 'log_det_W_list': [tensor(4.9384, device='cuda:0'), tensor(10.0481, device='cuda:0'), tensor(10.8170, device='cuda:0'), tensor(11.3817, device='cuda:0'), tensor(8.9903, device='cuda:0'), tensor(5.9210, device='cuda:0'), tensor(3.2730, device='cuda:0'), tensor(2.7715, device='cuda:0')], 'log_s_list': [tensor([[[0.6931, 0.6931, 0.6931,  ..., 0.6928, 0.6928, 0.6928],\n",
      "         [0.6931, 0.6931, 0.6931,  ..., 0.6920, 0.6920, 0.6920],\n",
      "         [0.6931, 0.6931, 0.6931,  ..., 0.6928, 0.6928, 0.6928],\n",
      "         ...,\n",
      "         [0.6931, 0.6931, 0.6931,  ..., 0.6904, 0.6904, 0.6904],\n",
      "         [0.6931, 0.6931, 0.6931,  ..., 0.6919, 0.6919, 0.6919],\n",
      "         [0.6931, 0.6918, 0.6931,  ..., 0.6913, 0.6913, 0.6913]],\n",
      "\n",
      "        [[0.6931, 0.6931, 0.6931,  ..., 0.6928, 0.6928, 0.6928],\n",
      "         [0.6931, 0.6931, 0.6931,  ..., 0.6920, 0.6920, 0.6920],\n",
      "         [0.6931, 0.6931, 0.6931,  ..., 0.6928, 0.6928, 0.6928],\n",
      "         ...,\n",
      "         [0.6931, 0.6931, 0.6931,  ..., 0.6904, 0.6904, 0.6904],\n",
      "         [0.6931, 0.6931, 0.6931,  ..., 0.6919, 0.6919, 0.6919],\n",
      "         [0.6931, 0.6915, 0.6931,  ..., 0.6913, 0.6913, 0.6913]],\n",
      "\n",
      "        [[0.6931, 0.6931, 0.6931,  ..., 0.6928, 0.6928, 0.6928],\n",
      "         [0.6931, 0.6931, 0.6931,  ..., 0.6920, 0.6920, 0.6920],\n",
      "         [0.6931, 0.6931, 0.6931,  ..., 0.6928, 0.6928, 0.6928],\n",
      "         ...,\n",
      "         [0.6931, 0.6931, 0.6931,  ..., 0.6904, 0.6904, 0.6904],\n",
      "         [0.6931, 0.6931, 0.6931,  ..., 0.6919, 0.6919, 0.6919],\n",
      "         [0.6931, 0.6912, 0.6931,  ..., 0.6913, 0.6913, 0.6913]],\n",
      "\n",
      "        [[0.6931, 0.6931, 0.6931,  ..., 0.6928, 0.6928, 0.6928],\n",
      "         [0.6931, 0.6931, 0.6931,  ..., 0.6920, 0.6920, 0.6920],\n",
      "         [0.6931, 0.6931, 0.6931,  ..., 0.6928, 0.6928, 0.6928],\n",
      "         ...,\n",
      "         [0.6931, 0.6931, 0.6931,  ..., 0.6904, 0.6904, 0.6904],\n",
      "         [0.6931, 0.6931, 0.6931,  ..., 0.6919, 0.6919, 0.6919],\n",
      "         [0.6931, 0.6901, 0.6931,  ..., 0.6913, 0.6913, 0.6913]],\n",
      "\n",
      "        [[0.6931, 0.6931, 0.6931,  ..., 0.6928, 0.6928, 0.6928],\n",
      "         [0.6931, 0.6931, 0.6931,  ..., 0.6920, 0.6920, 0.6920],\n",
      "         [0.6931, 0.6931, 0.6931,  ..., 0.6928, 0.6928, 0.6928],\n",
      "         ...,\n",
      "         [0.6931, 0.6931, 0.6931,  ..., 0.6904, 0.6904, 0.6904],\n",
      "         [0.6931, 0.6931, 0.6931,  ..., 0.6919, 0.6919, 0.6919],\n",
      "         [0.6931, 0.6910, 0.6931,  ..., 0.6913, 0.6913, 0.6913]],\n",
      "\n",
      "        [[0.6931, 0.6931, 0.6931,  ..., 0.6931, 0.6931, 0.6931],\n",
      "         [0.6931, 0.6931, 0.6931,  ..., 0.6930, 0.6931, 0.6931],\n",
      "         [0.6931, 0.6931, 0.6931,  ..., 0.6931, 0.6931, 0.6931],\n",
      "         ...,\n",
      "         [0.6931, 0.6931, 0.6931,  ..., 0.6922, 0.6931, 0.6930],\n",
      "         [0.6931, 0.6931, 0.6931,  ..., 0.6931, 0.6931, 0.6931],\n",
      "         [0.6931, 0.6913, 0.6931,  ..., 0.6925, 0.6921, 0.6931]]],\n",
      "       device='cuda:0'), tensor([[[0.6931, 0.6931, 0.6931,  ..., 0.6913, 0.6913, 0.6913],\n",
      "         [0.6931, 0.6931, 0.6931,  ..., 0.6925, 0.6925, 0.6925],\n",
      "         [0.6931, 0.6931, 0.6931,  ..., 0.6918, 0.6918, 0.6918],\n",
      "         ...,\n",
      "         [0.6931, 0.6931, 0.6931,  ..., 0.6915, 0.6915, 0.6915],\n",
      "         [0.6931, 0.6930, 0.6931,  ..., 0.6880, 0.6880, 0.6880],\n",
      "         [0.6931, 0.6931, 0.6931,  ..., 0.6928, 0.6928, 0.6928]],\n",
      "\n",
      "        [[0.6931, 0.6931, 0.6931,  ..., 0.6913, 0.6913, 0.6913],\n",
      "         [0.6931, 0.6931, 0.6931,  ..., 0.6925, 0.6925, 0.6925],\n",
      "         [0.6931, 0.6931, 0.6931,  ..., 0.6918, 0.6918, 0.6918],\n",
      "         ...,\n",
      "         [0.6931, 0.6931, 0.6931,  ..., 0.6915, 0.6915, 0.6915],\n",
      "         [0.6931, 0.6930, 0.6931,  ..., 0.6880, 0.6880, 0.6880],\n",
      "         [0.6931, 0.6931, 0.6931,  ..., 0.6928, 0.6928, 0.6928]],\n",
      "\n",
      "        [[0.6931, 0.6931, 0.6931,  ..., 0.6913, 0.6913, 0.6913],\n",
      "         [0.6931, 0.6931, 0.6931,  ..., 0.6925, 0.6925, 0.6925],\n",
      "         [0.6931, 0.6931, 0.6931,  ..., 0.6918, 0.6918, 0.6918],\n",
      "         ...,\n",
      "         [0.6931, 0.6931, 0.6931,  ..., 0.6915, 0.6915, 0.6915],\n",
      "         [0.6931, 0.6930, 0.6931,  ..., 0.6880, 0.6880, 0.6880],\n",
      "         [0.6931, 0.6931, 0.6931,  ..., 0.6928, 0.6928, 0.6928]],\n",
      "\n",
      "        [[0.6931, 0.6931, 0.6931,  ..., 0.6913, 0.6913, 0.6913],\n",
      "         [0.6931, 0.6931, 0.6931,  ..., 0.6925, 0.6925, 0.6925],\n",
      "         [0.6931, 0.6931, 0.6931,  ..., 0.6918, 0.6918, 0.6918],\n",
      "         ...,\n",
      "         [0.6931, 0.6931, 0.6931,  ..., 0.6915, 0.6915, 0.6915],\n",
      "         [0.6931, 0.6931, 0.6930,  ..., 0.6880, 0.6880, 0.6880],\n",
      "         [0.6931, 0.6931, 0.6929,  ..., 0.6928, 0.6928, 0.6928]],\n",
      "\n",
      "        [[0.6931, 0.6931, 0.6931,  ..., 0.6913, 0.6913, 0.6913],\n",
      "         [0.6931, 0.6931, 0.6931,  ..., 0.6925, 0.6925, 0.6925],\n",
      "         [0.6931, 0.6931, 0.6931,  ..., 0.6918, 0.6918, 0.6918],\n",
      "         ...,\n",
      "         [0.6931, 0.6931, 0.6931,  ..., 0.6915, 0.6915, 0.6915],\n",
      "         [0.6931, 0.6930, 0.6931,  ..., 0.6880, 0.6880, 0.6880],\n",
      "         [0.6931, 0.6931, 0.6931,  ..., 0.6928, 0.6928, 0.6928]],\n",
      "\n",
      "        [[0.6931, 0.6931, 0.6931,  ..., 0.6931, 0.6929, 0.6931],\n",
      "         [0.6931, 0.6931, 0.6931,  ..., 0.6931, 0.6931, 0.6931],\n",
      "         [0.6931, 0.6931, 0.6931,  ..., 0.6931, 0.6931, 0.6931],\n",
      "         ...,\n",
      "         [0.6931, 0.6931, 0.6931,  ..., 0.6931, 0.6931, 0.6931],\n",
      "         [0.6931, 0.6930, 0.6931,  ..., 0.6931, 0.6931, 0.6931],\n",
      "         [0.6931, 0.6931, 0.6931,  ..., 0.6931, 0.6931, 0.6931]]],\n",
      "       device='cuda:0'), tensor([[[0.6931, 0.6931, 0.6931,  ..., 0.6922, 0.6922, 0.6922],\n",
      "         [0.6931, 0.6923, 0.6931,  ..., 0.6844, 0.6844, 0.6844],\n",
      "         [0.6931, 0.6931, 0.6931,  ..., 0.6887, 0.6887, 0.6887],\n",
      "         ...,\n",
      "         [0.6931, 0.6931, 0.6931,  ..., 0.6900, 0.6900, 0.6900],\n",
      "         [0.6931, 0.6931, 0.6931,  ..., 0.6909, 0.6909, 0.6909],\n",
      "         [0.6931, 0.6805, 0.6931,  ..., 0.6875, 0.6875, 0.6875]],\n",
      "\n",
      "        [[0.6931, 0.6931, 0.6931,  ..., 0.6922, 0.6922, 0.6922],\n",
      "         [0.6931, 0.6929, 0.6931,  ..., 0.6844, 0.6844, 0.6844],\n",
      "         [0.6931, 0.6931, 0.6931,  ..., 0.6887, 0.6887, 0.6887],\n",
      "         ...,\n",
      "         [0.6931, 0.6931, 0.6931,  ..., 0.6900, 0.6900, 0.6900],\n",
      "         [0.6931, 0.6931, 0.6931,  ..., 0.6909, 0.6909, 0.6909],\n",
      "         [0.6931, 0.6780, 0.6931,  ..., 0.6875, 0.6875, 0.6875]],\n",
      "\n",
      "        [[0.6931, 0.6931, 0.6931,  ..., 0.6922, 0.6922, 0.6922],\n",
      "         [0.6931, 0.6925, 0.6931,  ..., 0.6844, 0.6844, 0.6844],\n",
      "         [0.6931, 0.6931, 0.6931,  ..., 0.6887, 0.6887, 0.6887],\n",
      "         ...,\n",
      "         [0.6931, 0.6931, 0.6931,  ..., 0.6900, 0.6900, 0.6900],\n",
      "         [0.6931, 0.6931, 0.6931,  ..., 0.6909, 0.6909, 0.6909],\n",
      "         [0.6931, 0.6696, 0.6931,  ..., 0.6875, 0.6875, 0.6875]],\n",
      "\n",
      "        [[0.6931, 0.6931, 0.6931,  ..., 0.6922, 0.6922, 0.6922],\n",
      "         [0.6931, 0.6927, 0.6931,  ..., 0.6844, 0.6844, 0.6844],\n",
      "         [0.6931, 0.6931, 0.6931,  ..., 0.6887, 0.6887, 0.6887],\n",
      "         ...,\n",
      "         [0.6931, 0.6931, 0.6931,  ..., 0.6900, 0.6900, 0.6900],\n",
      "         [0.6931, 0.6931, 0.6931,  ..., 0.6909, 0.6909, 0.6909],\n",
      "         [0.6931, 0.6680, 0.6931,  ..., 0.6875, 0.6875, 0.6875]],\n",
      "\n",
      "        [[0.6931, 0.6931, 0.6931,  ..., 0.6922, 0.6922, 0.6922],\n",
      "         [0.6931, 0.6918, 0.6931,  ..., 0.6844, 0.6844, 0.6844],\n",
      "         [0.6931, 0.6931, 0.6931,  ..., 0.6887, 0.6887, 0.6887],\n",
      "         ...,\n",
      "         [0.6931, 0.6931, 0.6931,  ..., 0.6900, 0.6900, 0.6900],\n",
      "         [0.6931, 0.6931, 0.6931,  ..., 0.6909, 0.6909, 0.6909],\n",
      "         [0.6931, 0.6682, 0.6931,  ..., 0.6875, 0.6875, 0.6875]],\n",
      "\n",
      "        [[0.6931, 0.6931, 0.6931,  ..., 0.6931, 0.6931, 0.6931],\n",
      "         [0.6931, 0.6918, 0.6931,  ..., 0.6931, 0.6931, 0.6931],\n",
      "         [0.6931, 0.6931, 0.6931,  ..., 0.6931, 0.6931, 0.6931],\n",
      "         ...,\n",
      "         [0.6931, 0.6931, 0.6931,  ..., 0.6930, 0.6931, 0.6931],\n",
      "         [0.6931, 0.6931, 0.6931,  ..., 0.6931, 0.6931, 0.6931],\n",
      "         [0.6931, 0.6706, 0.6931,  ..., 0.6931, 0.6931, 0.6248]]],\n",
      "       device='cuda:0'), tensor([[[0.6931, 0.6931, 0.6931,  ..., 0.6813, 0.6813, 0.6813],\n",
      "         [0.6931, 0.6925, 0.6931,  ..., 0.6728, 0.6728, 0.6728],\n",
      "         [0.6931, 0.6525, 0.6872,  ..., 0.6810, 0.6810, 0.6810],\n",
      "         ...,\n",
      "         [0.6931, 0.4015, 0.6931,  ..., 0.6847, 0.6847, 0.6847],\n",
      "         [0.6931, 0.6927, 0.6931,  ..., 0.6760, 0.6760, 0.6760],\n",
      "         [0.6929, 0.6436, 0.6931,  ..., 0.6719, 0.6719, 0.6719]],\n",
      "\n",
      "        [[0.6931, 0.6931, 0.6931,  ..., 0.6813, 0.6813, 0.6813],\n",
      "         [0.6931, 0.6926, 0.6931,  ..., 0.6728, 0.6728, 0.6728],\n",
      "         [0.6931, 0.6888, 0.6900,  ..., 0.6810, 0.6810, 0.6810],\n",
      "         ...,\n",
      "         [0.6931, 0.5627, 0.6931,  ..., 0.6847, 0.6847, 0.6847],\n",
      "         [0.6931, 0.6928, 0.6931,  ..., 0.6760, 0.6760, 0.6760],\n",
      "         [0.6930, 0.6229, 0.6931,  ..., 0.6719, 0.6719, 0.6719]],\n",
      "\n",
      "        [[0.6931, 0.6931, 0.6931,  ..., 0.6813, 0.6813, 0.6813],\n",
      "         [0.6931, 0.6928, 0.6931,  ..., 0.6728, 0.6728, 0.6728],\n",
      "         [0.6931, 0.6724, 0.6910,  ..., 0.6810, 0.6810, 0.6810],\n",
      "         ...,\n",
      "         [0.6931, 0.6437, 0.6931,  ..., 0.6847, 0.6847, 0.6847],\n",
      "         [0.6931, 0.6930, 0.6931,  ..., 0.6760, 0.6760, 0.6760],\n",
      "         [0.6926, 0.6593, 0.6931,  ..., 0.6719, 0.6719, 0.6719]],\n",
      "\n",
      "        [[0.6931, 0.6931, 0.6931,  ..., 0.6813, 0.6813, 0.6813],\n",
      "         [0.6931, 0.6928, 0.6931,  ..., 0.6728, 0.6728, 0.6728],\n",
      "         [0.6931, 0.6857, 0.6911,  ..., 0.6810, 0.6810, 0.6810],\n",
      "         ...,\n",
      "         [0.6931, 0.5429, 0.6931,  ..., 0.6847, 0.6847, 0.6847],\n",
      "         [0.6931, 0.6930, 0.6931,  ..., 0.6760, 0.6760, 0.6760],\n",
      "         [0.6931, 0.6588, 0.6931,  ..., 0.6719, 0.6719, 0.6719]],\n",
      "\n",
      "        [[0.6931, 0.6931, 0.6931,  ..., 0.6813, 0.6813, 0.6813],\n",
      "         [0.6931, 0.6928, 0.6931,  ..., 0.6728, 0.6728, 0.6728],\n",
      "         [0.6931, 0.6888, 0.6918,  ..., 0.6810, 0.6810, 0.6810],\n",
      "         ...,\n",
      "         [0.6931, 0.5789, 0.6931,  ..., 0.6847, 0.6847, 0.6847],\n",
      "         [0.6931, 0.6930, 0.6931,  ..., 0.6760, 0.6760, 0.6760],\n",
      "         [0.6931, 0.6567, 0.6931,  ..., 0.6719, 0.6719, 0.6719]],\n",
      "\n",
      "        [[0.6931, 0.6931, 0.6931,  ..., 0.6931, 0.6931, 0.6931],\n",
      "         [0.6931, 0.6927, 0.6931,  ..., 0.6931, 0.6931, 0.6931],\n",
      "         [0.6931, 0.6838, 0.6911,  ..., 0.6919, 0.6930, 0.6931],\n",
      "         ...,\n",
      "         [0.6931, 0.4640, 0.6931,  ..., 0.6931, 0.6931, 0.6931],\n",
      "         [0.6931, 0.6921, 0.6931,  ..., 0.6855, 0.6931, 0.6931],\n",
      "         [0.6930, 0.6588, 0.6931,  ..., 0.6904, 0.6769, 0.6931]]],\n",
      "       device='cuda:0'), tensor([[[0.6931, 0.6931, 0.6931,  ..., 0.6401, 0.6401, 0.6401],\n",
      "         [0.6931, 0.6931, 0.6931,  ..., 0.6384, 0.6384, 0.6384],\n",
      "         [0.6931, 0.6931, 0.6931,  ..., 0.6555, 0.6555, 0.6555],\n",
      "         ...,\n",
      "         [0.6931, 0.6931, 0.6931,  ..., 0.6512, 0.6512, 0.6512],\n",
      "         [0.6931, 0.6924, 0.6931,  ..., 0.6259, 0.6259, 0.6259],\n",
      "         [0.6931, 0.6931, 0.6931,  ..., 0.6545, 0.6545, 0.6545]],\n",
      "\n",
      "        [[0.6931, 0.6931, 0.6931,  ..., 0.6401, 0.6401, 0.6401],\n",
      "         [0.6931, 0.6931, 0.6931,  ..., 0.6384, 0.6384, 0.6384],\n",
      "         [0.6931, 0.6931, 0.6931,  ..., 0.6555, 0.6555, 0.6555],\n",
      "         ...,\n",
      "         [0.6931, 0.6931, 0.6931,  ..., 0.6512, 0.6512, 0.6512],\n",
      "         [0.6931, 0.6916, 0.6931,  ..., 0.6259, 0.6259, 0.6259],\n",
      "         [0.6931, 0.6931, 0.6931,  ..., 0.6545, 0.6545, 0.6545]],\n",
      "\n",
      "        [[0.6931, 0.6931, 0.6931,  ..., 0.6401, 0.6401, 0.6401],\n",
      "         [0.6931, 0.6931, 0.6931,  ..., 0.6384, 0.6384, 0.6384],\n",
      "         [0.6931, 0.6931, 0.6931,  ..., 0.6555, 0.6555, 0.6555],\n",
      "         ...,\n",
      "         [0.6931, 0.6931, 0.6931,  ..., 0.6512, 0.6512, 0.6512],\n",
      "         [0.6931, 0.6928, 0.6931,  ..., 0.6259, 0.6259, 0.6259],\n",
      "         [0.6931, 0.6931, 0.6931,  ..., 0.6545, 0.6545, 0.6545]],\n",
      "\n",
      "        [[0.6931, 0.6931, 0.6931,  ..., 0.6401, 0.6401, 0.6401],\n",
      "         [0.6931, 0.6931, 0.6931,  ..., 0.6384, 0.6384, 0.6384],\n",
      "         [0.6931, 0.6931, 0.6931,  ..., 0.6555, 0.6555, 0.6555],\n",
      "         ...,\n",
      "         [0.6931, 0.6931, 0.6931,  ..., 0.6512, 0.6512, 0.6512],\n",
      "         [0.6930, 0.6906, 0.6931,  ..., 0.6259, 0.6259, 0.6259],\n",
      "         [0.6931, 0.6931, 0.6931,  ..., 0.6545, 0.6545, 0.6545]],\n",
      "\n",
      "        [[0.6931, 0.6931, 0.6931,  ..., 0.6401, 0.6401, 0.6401],\n",
      "         [0.6931, 0.6931, 0.6931,  ..., 0.6384, 0.6384, 0.6384],\n",
      "         [0.6931, 0.6931, 0.6931,  ..., 0.6555, 0.6555, 0.6555],\n",
      "         ...,\n",
      "         [0.6931, 0.6931, 0.6931,  ..., 0.6512, 0.6512, 0.6512],\n",
      "         [0.6931, 0.6914, 0.6931,  ..., 0.6259, 0.6259, 0.6259],\n",
      "         [0.6931, 0.6931, 0.6931,  ..., 0.6545, 0.6545, 0.6545]],\n",
      "\n",
      "        [[0.6931, 0.6931, 0.6931,  ..., 0.6931, 0.6930, 0.6917],\n",
      "         [0.6931, 0.6931, 0.6931,  ..., 0.6931, 0.6931, 0.6931],\n",
      "         [0.6931, 0.6931, 0.6931,  ..., 0.6931, 0.6931, 0.6931],\n",
      "         ...,\n",
      "         [0.6931, 0.6931, 0.6931,  ..., 0.6931, 0.6931, 0.6931],\n",
      "         [0.6931, 0.6922, 0.6931,  ..., 0.6931, 0.6931, 0.6931],\n",
      "         [0.6931, 0.6931, 0.6931,  ..., 0.6931, 0.6924, 0.6930]]],\n",
      "       device='cuda:0'), tensor([[[0.6881, 0.6647, 0.6910,  ..., 0.5591, 0.5591, 0.5591],\n",
      "         [0.6931, 0.6931, 0.6911,  ..., 0.5784, 0.5784, 0.5784],\n",
      "         [0.6931, 0.6931, 0.6931,  ..., 0.5781, 0.5781, 0.5781],\n",
      "         ...,\n",
      "         [0.6931, 0.6927, 0.6909,  ..., 0.5889, 0.5889, 0.5889],\n",
      "         [0.6931, 0.6866, 0.6605,  ..., 0.5398, 0.5398, 0.5398],\n",
      "         [0.6931, 0.6903, 0.6900,  ..., 0.5507, 0.5507, 0.5507]],\n",
      "\n",
      "        [[0.6854, 0.6591, 0.6923,  ..., 0.5591, 0.5591, 0.5591],\n",
      "         [0.6931, 0.6931, 0.6906,  ..., 0.5784, 0.5784, 0.5784],\n",
      "         [0.6931, 0.6931, 0.6931,  ..., 0.5781, 0.5781, 0.5781],\n",
      "         ...,\n",
      "         [0.6931, 0.6928, 0.6902,  ..., 0.5889, 0.5889, 0.5889],\n",
      "         [0.6931, 0.6857, 0.6366,  ..., 0.5398, 0.5398, 0.5398],\n",
      "         [0.6931, 0.6921, 0.6880,  ..., 0.5507, 0.5507, 0.5507]],\n",
      "\n",
      "        [[0.6893, 0.6342, 0.6910,  ..., 0.5591, 0.5591, 0.5591],\n",
      "         [0.6931, 0.6931, 0.6899,  ..., 0.5784, 0.5784, 0.5784],\n",
      "         [0.6931, 0.6931, 0.6931,  ..., 0.5781, 0.5781, 0.5781],\n",
      "         ...,\n",
      "         [0.6931, 0.6931, 0.6920,  ..., 0.5889, 0.5889, 0.5889],\n",
      "         [0.6931, 0.6806, 0.6398,  ..., 0.5398, 0.5398, 0.5398],\n",
      "         [0.6931, 0.6917, 0.6896,  ..., 0.5507, 0.5507, 0.5507]],\n",
      "\n",
      "        [[0.6677, 0.6827, 0.6903,  ..., 0.5591, 0.5591, 0.5591],\n",
      "         [0.6931, 0.6931, 0.6894,  ..., 0.5784, 0.5784, 0.5784],\n",
      "         [0.6931, 0.6931, 0.6931,  ..., 0.5781, 0.5781, 0.5781],\n",
      "         ...,\n",
      "         [0.6931, 0.6927, 0.6818,  ..., 0.5889, 0.5889, 0.5889],\n",
      "         [0.6931, 0.6862, 0.5713,  ..., 0.5398, 0.5398, 0.5398],\n",
      "         [0.6931, 0.6918, 0.6813,  ..., 0.5507, 0.5507, 0.5507]],\n",
      "\n",
      "        [[0.6713, 0.6858, 0.6919,  ..., 0.5591, 0.5591, 0.5591],\n",
      "         [0.6931, 0.6931, 0.6901,  ..., 0.5784, 0.5784, 0.5784],\n",
      "         [0.6931, 0.6931, 0.6931,  ..., 0.5781, 0.5781, 0.5781],\n",
      "         ...,\n",
      "         [0.6931, 0.6929, 0.6884,  ..., 0.5889, 0.5889, 0.5889],\n",
      "         [0.6931, 0.6893, 0.6311,  ..., 0.5398, 0.5398, 0.5398],\n",
      "         [0.6931, 0.6918, 0.6866,  ..., 0.5507, 0.5507, 0.5507]],\n",
      "\n",
      "        [[0.6897, 0.6757, 0.6901,  ..., 0.6931, 0.6931, 0.6930],\n",
      "         [0.6931, 0.6931, 0.6863,  ..., 0.6929, 0.6929, 0.6918],\n",
      "         [0.6931, 0.6931, 0.6931,  ..., 0.6928, 0.6931, 0.6931],\n",
      "         ...,\n",
      "         [0.6931, 0.6930, 0.6910,  ..., 0.6923, 0.6931, 0.6929],\n",
      "         [0.6931, 0.6847, 0.6043,  ..., 0.6909, 0.6856, 0.6929],\n",
      "         [0.6931, 0.6918, 0.6843,  ..., 0.6896, 0.6903, 0.6426]]],\n",
      "       device='cuda:0'), tensor([[[ 3.8955e-01,  6.9260e-01,  6.9311e-01,  ...,  3.5480e-01,\n",
      "           3.5480e-01,  3.5480e-01],\n",
      "         [-7.4644e+00,  6.8174e-01,  6.8794e-01,  ...,  3.5865e-01,\n",
      "           3.5865e-01,  3.5865e-01],\n",
      "         [ 6.8366e-01,  6.9311e-01,  6.7555e-01,  ...,  1.4189e-01,\n",
      "           1.4189e-01,  1.4189e-01],\n",
      "         ...,\n",
      "         [ 6.9289e-01,  6.8903e-01,  6.9309e-01,  ...,  4.0962e-01,\n",
      "           4.0962e-01,  4.0962e-01],\n",
      "         [ 6.9315e-01,  6.8376e-01,  6.9277e-01,  ...,  3.8376e-01,\n",
      "           3.8376e-01,  3.8376e-01],\n",
      "         [ 6.9314e-01,  6.9303e-01,  6.9197e-01,  ...,  4.5128e-01,\n",
      "           4.5128e-01,  4.5128e-01]],\n",
      "\n",
      "        [[-9.6289e-02,  6.9291e-01,  6.9312e-01,  ...,  3.5480e-01,\n",
      "           3.5480e-01,  3.5480e-01],\n",
      "         [-8.4039e+00,  6.8812e-01,  6.6557e-01,  ...,  3.5865e-01,\n",
      "           3.5865e-01,  3.5865e-01],\n",
      "         [ 6.8376e-01,  6.9314e-01,  6.8669e-01,  ...,  1.4189e-01,\n",
      "           1.4189e-01,  1.4189e-01],\n",
      "         ...,\n",
      "         [ 6.9298e-01,  6.9014e-01,  6.9312e-01,  ...,  4.0962e-01,\n",
      "           4.0962e-01,  4.0962e-01],\n",
      "         [ 6.9314e-01,  6.8840e-01,  6.9300e-01,  ...,  3.8376e-01,\n",
      "           3.8376e-01,  3.8376e-01],\n",
      "         [ 6.9313e-01,  6.9266e-01,  6.9280e-01,  ...,  4.5128e-01,\n",
      "           4.5128e-01,  4.5128e-01]],\n",
      "\n",
      "        [[ 8.1310e-03,  6.9264e-01,  6.9311e-01,  ...,  3.5480e-01,\n",
      "           3.5480e-01,  3.5480e-01],\n",
      "         [-7.6371e+00,  6.8580e-01,  6.8611e-01,  ...,  3.5865e-01,\n",
      "           3.5865e-01,  3.5865e-01],\n",
      "         [ 6.8914e-01,  6.9314e-01,  6.5914e-01,  ...,  1.4189e-01,\n",
      "           1.4189e-01,  1.4189e-01],\n",
      "         ...,\n",
      "         [ 6.9302e-01,  6.8793e-01,  6.9312e-01,  ...,  4.0962e-01,\n",
      "           4.0962e-01,  4.0962e-01],\n",
      "         [ 6.9315e-01,  6.8171e-01,  6.9300e-01,  ...,  3.8376e-01,\n",
      "           3.8376e-01,  3.8376e-01],\n",
      "         [ 6.9312e-01,  6.9304e-01,  6.9221e-01,  ...,  4.5128e-01,\n",
      "           4.5128e-01,  4.5128e-01]],\n",
      "\n",
      "        [[ 3.6085e-02,  6.9279e-01,  6.9309e-01,  ...,  3.5480e-01,\n",
      "           3.5480e-01,  3.5480e-01],\n",
      "         [-7.6444e+00,  6.8975e-01,  6.8729e-01,  ...,  3.5865e-01,\n",
      "           3.5865e-01,  3.5865e-01],\n",
      "         [ 6.8451e-01,  6.9313e-01,  6.7967e-01,  ...,  1.4189e-01,\n",
      "           1.4189e-01,  1.4189e-01],\n",
      "         ...,\n",
      "         [ 6.9297e-01,  6.9233e-01,  6.9312e-01,  ...,  4.0962e-01,\n",
      "           4.0962e-01,  4.0962e-01],\n",
      "         [ 6.9314e-01,  6.8890e-01,  6.9305e-01,  ...,  3.8376e-01,\n",
      "           3.8376e-01,  3.8376e-01],\n",
      "         [ 6.9314e-01,  6.9285e-01,  6.9218e-01,  ...,  4.5128e-01,\n",
      "           4.5128e-01,  4.5128e-01]],\n",
      "\n",
      "        [[ 2.2858e-01,  6.9248e-01,  6.9306e-01,  ...,  3.5480e-01,\n",
      "           3.5480e-01,  3.5480e-01],\n",
      "         [-7.1057e+00,  6.7897e-01,  6.8260e-01,  ...,  3.5865e-01,\n",
      "           3.5865e-01,  3.5865e-01],\n",
      "         [ 6.8416e-01,  6.9313e-01,  6.7458e-01,  ...,  1.4189e-01,\n",
      "           1.4189e-01,  1.4189e-01],\n",
      "         ...,\n",
      "         [ 6.9277e-01,  6.9089e-01,  6.9311e-01,  ...,  4.0962e-01,\n",
      "           4.0962e-01,  4.0962e-01],\n",
      "         [ 6.9314e-01,  6.8789e-01,  6.9304e-01,  ...,  3.8376e-01,\n",
      "           3.8376e-01,  3.8376e-01],\n",
      "         [ 6.9313e-01,  6.9295e-01,  6.9234e-01,  ...,  4.5128e-01,\n",
      "           4.5128e-01,  4.5128e-01]],\n",
      "\n",
      "        [[ 4.8913e-01,  6.9259e-01,  6.9311e-01,  ...,  6.2450e-01,\n",
      "           6.8358e-01,  6.8410e-01],\n",
      "         [-7.2111e+00,  6.7986e-01,  6.8629e-01,  ...,  6.7539e-01,\n",
      "           6.8669e-01,  6.8320e-01],\n",
      "         [ 6.9116e-01,  6.9314e-01,  6.7854e-01,  ...,  6.4745e-01,\n",
      "           5.9411e-01,  6.8651e-01],\n",
      "         ...,\n",
      "         [ 6.9286e-01,  6.8635e-01,  6.9311e-01,  ...,  6.8424e-01,\n",
      "           6.8871e-01,  6.9211e-01],\n",
      "         [ 6.9315e-01,  6.8280e-01,  6.9291e-01,  ...,  6.9310e-01,\n",
      "           6.9299e-01,  6.9296e-01],\n",
      "         [ 6.9314e-01,  6.9288e-01,  6.9200e-01,  ...,  6.9241e-01,\n",
      "           6.9183e-01,  6.9157e-01]]], device='cuda:0'), tensor([[[-7.8911e+00, -6.5175e+00,  6.1834e-01,  ...,  5.4846e-02,\n",
      "           5.4846e-02,  5.4846e-02],\n",
      "         [-1.0488e+01, -1.3816e+01, -1.2769e+01,  ...,  3.5017e-01,\n",
      "           3.5017e-01,  3.5017e-01],\n",
      "         [ 5.1438e-01,  5.1238e-01,  6.8837e-01,  ...,  3.0217e-01,\n",
      "           3.0217e-01,  3.0217e-01],\n",
      "         ...,\n",
      "         [-8.4739e+00, -1.5103e+00, -5.9558e+00,  ...,  2.8809e-01,\n",
      "           2.8809e-01,  2.8809e-01],\n",
      "         [-4.1151e-01,  3.8528e-01, -2.6388e+00,  ...,  3.4477e-01,\n",
      "           3.4477e-01,  3.4477e-01],\n",
      "         [ 6.9079e-01,  6.3446e-01, -7.3795e-01,  ...,  2.7893e-01,\n",
      "           2.7893e-01,  2.7893e-01]],\n",
      "\n",
      "        [[-6.1721e+00, -9.3557e+00,  1.0324e-01,  ...,  5.4846e-02,\n",
      "           5.4846e-02,  5.4846e-02],\n",
      "         [-9.1435e+00, -1.3816e+01, -1.0096e+01,  ...,  3.5017e-01,\n",
      "           3.5017e-01,  3.5017e-01],\n",
      "         [ 5.9019e-01,  5.8915e-01,  6.8365e-01,  ...,  3.0217e-01,\n",
      "           3.0217e-01,  3.0217e-01],\n",
      "         ...,\n",
      "         [-9.1263e+00, -1.2907e+00, -6.4684e+00,  ...,  2.8809e-01,\n",
      "           2.8809e-01,  2.8809e-01],\n",
      "         [-7.5055e-01,  3.5205e-01, -2.7341e+00,  ...,  3.4477e-01,\n",
      "           3.4477e-01,  3.4477e-01],\n",
      "         [ 6.9085e-01,  4.0634e-01, -8.5922e-01,  ...,  2.7893e-01,\n",
      "           2.7893e-01,  2.7893e-01]],\n",
      "\n",
      "        [[-1.1703e+01, -3.4811e+00,  6.8452e-01,  ...,  5.4846e-02,\n",
      "           5.4846e-02,  5.4846e-02],\n",
      "         [-8.1684e+00, -1.3758e+01, -8.6249e+00,  ...,  3.5017e-01,\n",
      "           3.5017e-01,  3.5017e-01],\n",
      "         [ 1.7607e-01,  5.5077e-02,  6.8239e-01,  ...,  3.0217e-01,\n",
      "           3.0217e-01,  3.0217e-01],\n",
      "         ...,\n",
      "         [-1.0130e+01, -1.9248e+00, -4.0643e+00,  ...,  2.8809e-01,\n",
      "           2.8809e-01,  2.8809e-01],\n",
      "         [-1.6920e+00, -1.6960e-01, -4.7740e-01,  ...,  3.4477e-01,\n",
      "           3.4477e-01,  3.4477e-01],\n",
      "         [ 6.8745e-01,  5.6821e-01, -4.6635e-01,  ...,  2.7893e-01,\n",
      "           2.7893e-01,  2.7893e-01]],\n",
      "\n",
      "        [[-1.9140e+00, -8.8228e+00,  5.1930e-01,  ...,  5.4846e-02,\n",
      "           5.4846e-02,  5.4846e-02],\n",
      "         [-8.9727e+00, -1.3816e+01, -1.1143e+01,  ...,  3.5017e-01,\n",
      "           3.5017e-01,  3.5017e-01],\n",
      "         [ 3.2560e-01,  6.1054e-01,  6.6477e-01,  ...,  3.0217e-01,\n",
      "           3.0217e-01,  3.0217e-01],\n",
      "         ...,\n",
      "         [-1.0804e+01, -1.5413e+00, -5.4166e+00,  ...,  2.8809e-01,\n",
      "           2.8809e-01,  2.8809e-01],\n",
      "         [-8.1467e-01,  3.1219e-01, -2.2935e+00,  ...,  3.4477e-01,\n",
      "           3.4477e-01,  3.4477e-01],\n",
      "         [ 6.9119e-01,  2.8059e-01,  1.9567e-01,  ...,  2.7893e-01,\n",
      "           2.7893e-01,  2.7893e-01]],\n",
      "\n",
      "        [[-5.8470e+00, -5.3174e+00,  6.7203e-01,  ...,  5.4846e-02,\n",
      "           5.4846e-02,  5.4846e-02],\n",
      "         [-1.1323e+01, -1.3816e+01, -1.1168e+01,  ...,  3.5017e-01,\n",
      "           3.5017e-01,  3.5017e-01],\n",
      "         [ 6.4587e-01,  6.3080e-01,  6.6610e-01,  ...,  3.0217e-01,\n",
      "           3.0217e-01,  3.0217e-01],\n",
      "         ...,\n",
      "         [-7.3197e+00, -7.4462e-01, -4.3646e+00,  ...,  2.8809e-01,\n",
      "           2.8809e-01,  2.8809e-01],\n",
      "         [-1.3779e-02,  3.4898e-01, -2.0968e+00,  ...,  3.4477e-01,\n",
      "           3.4477e-01,  3.4477e-01],\n",
      "         [ 6.9160e-01,  5.5426e-01,  2.4001e-01,  ...,  2.7893e-01,\n",
      "           2.7893e-01,  2.7893e-01]],\n",
      "\n",
      "        [[-9.4905e+00, -3.8239e+00,  6.1111e-01,  ...,  6.9315e-01,\n",
      "           6.9315e-01,  6.9315e-01],\n",
      "         [-1.1703e+01, -1.3816e+01, -1.1348e+01,  ..., -5.2292e+00,\n",
      "          -1.3510e+01, -1.3758e+01],\n",
      "         [ 5.9412e-01,  2.8110e-01,  6.7336e-01,  ...,  6.9079e-01,\n",
      "           6.9258e-01,  6.6025e-01],\n",
      "         ...,\n",
      "         [-8.1325e+00, -1.8586e+00, -6.2226e+00,  ...,  5.1521e-02,\n",
      "           4.5481e-01, -4.7405e+00],\n",
      "         [-7.0180e-01,  5.4635e-01, -1.7600e+00,  ...,  6.5986e-01,\n",
      "           6.5804e-01,  3.6552e-01],\n",
      "         [ 6.8899e-01,  6.2975e-01, -7.8431e-01,  ...,  6.9282e-01,\n",
      "           6.9315e-01,  6.9189e-01]]], device='cuda:0')], 'duration_model_outputs': None, 'f0_model_outputs': None, 'energy_model_outputs': None, 'vpred_model_outputs': None, 'attn_soft': tensor([[[[0.0000e+00, 0.0000e+00, 0.0000e+00,  ..., 0.0000e+00,\n",
      "           0.0000e+00, 0.0000e+00],\n",
      "          [0.0000e+00, 0.0000e+00, 0.0000e+00,  ..., 0.0000e+00,\n",
      "           0.0000e+00, 0.0000e+00],\n",
      "          [0.0000e+00, 0.0000e+00, 0.0000e+00,  ..., 0.0000e+00,\n",
      "           0.0000e+00, 0.0000e+00],\n",
      "          ...,\n",
      "          [8.7944e-01, 3.2835e-04, 1.6448e-05,  ..., 1.2922e-07,\n",
      "           9.6882e-15, 1.6199e-07],\n",
      "          [8.7944e-01, 3.2835e-04, 1.6448e-05,  ..., 1.2922e-07,\n",
      "           9.6882e-15, 1.6199e-07],\n",
      "          [8.7944e-01, 3.2835e-04, 1.6448e-05,  ..., 1.2922e-07,\n",
      "           9.6882e-15, 1.6199e-07]]],\n",
      "\n",
      "\n",
      "        [[[4.2475e-38, 0.0000e+00, 0.0000e+00,  ..., 0.0000e+00,\n",
      "           0.0000e+00, 0.0000e+00],\n",
      "          [0.0000e+00, 0.0000e+00, 0.0000e+00,  ..., 0.0000e+00,\n",
      "           0.0000e+00, 0.0000e+00],\n",
      "          [0.0000e+00, 0.0000e+00, 0.0000e+00,  ..., 0.0000e+00,\n",
      "           0.0000e+00, 0.0000e+00],\n",
      "          ...,\n",
      "          [5.1818e-05, 1.5576e-13, 1.6738e-14,  ..., 0.0000e+00,\n",
      "           0.0000e+00, 0.0000e+00],\n",
      "          [5.1818e-05, 1.5576e-13, 1.6738e-14,  ..., 0.0000e+00,\n",
      "           0.0000e+00, 0.0000e+00],\n",
      "          [5.1818e-05, 1.5576e-13, 1.6738e-14,  ..., 0.0000e+00,\n",
      "           0.0000e+00, 0.0000e+00]]],\n",
      "\n",
      "\n",
      "        [[[0.0000e+00, 0.0000e+00, 0.0000e+00,  ..., 0.0000e+00,\n",
      "           0.0000e+00, 0.0000e+00],\n",
      "          [0.0000e+00, 0.0000e+00, 0.0000e+00,  ..., 0.0000e+00,\n",
      "           0.0000e+00, 0.0000e+00],\n",
      "          [0.0000e+00, 0.0000e+00, 0.0000e+00,  ..., 0.0000e+00,\n",
      "           0.0000e+00, 0.0000e+00],\n",
      "          ...,\n",
      "          [8.6222e-03, 1.1766e-08, 8.6094e-10,  ..., 0.0000e+00,\n",
      "           0.0000e+00, 0.0000e+00],\n",
      "          [8.6222e-03, 1.1766e-08, 8.6094e-10,  ..., 0.0000e+00,\n",
      "           0.0000e+00, 0.0000e+00],\n",
      "          [8.6222e-03, 1.1766e-08, 8.6094e-10,  ..., 0.0000e+00,\n",
      "           0.0000e+00, 0.0000e+00]]],\n",
      "\n",
      "\n",
      "        [[[0.0000e+00, 0.0000e+00, 0.0000e+00,  ..., 0.0000e+00,\n",
      "           0.0000e+00, 0.0000e+00],\n",
      "          [0.0000e+00, 0.0000e+00, 0.0000e+00,  ..., 0.0000e+00,\n",
      "           0.0000e+00, 0.0000e+00],\n",
      "          [0.0000e+00, 0.0000e+00, 0.0000e+00,  ..., 0.0000e+00,\n",
      "           0.0000e+00, 0.0000e+00],\n",
      "          ...,\n",
      "          [9.1344e-01, 3.4104e-04, 1.7084e-05,  ..., 0.0000e+00,\n",
      "           0.0000e+00, 0.0000e+00],\n",
      "          [9.1344e-01, 3.4104e-04, 1.7084e-05,  ..., 0.0000e+00,\n",
      "           0.0000e+00, 0.0000e+00],\n",
      "          [9.1344e-01, 3.4104e-04, 1.7084e-05,  ..., 0.0000e+00,\n",
      "           0.0000e+00, 0.0000e+00]]],\n",
      "\n",
      "\n",
      "        [[[0.0000e+00, 0.0000e+00, 0.0000e+00,  ..., 0.0000e+00,\n",
      "           0.0000e+00, 0.0000e+00],\n",
      "          [0.0000e+00, 3.1014e-16, 0.0000e+00,  ..., 0.0000e+00,\n",
      "           0.0000e+00, 0.0000e+00],\n",
      "          [0.0000e+00, 4.8461e-16, 0.0000e+00,  ..., 0.0000e+00,\n",
      "           0.0000e+00, 0.0000e+00],\n",
      "          ...,\n",
      "          [1.9457e-04, 2.1172e-12, 7.3378e-07,  ..., 0.0000e+00,\n",
      "           0.0000e+00, 0.0000e+00],\n",
      "          [1.9457e-04, 2.1172e-12, 7.3378e-07,  ..., 0.0000e+00,\n",
      "           0.0000e+00, 0.0000e+00],\n",
      "          [1.9457e-04, 2.1172e-12, 7.3378e-07,  ..., 0.0000e+00,\n",
      "           0.0000e+00, 0.0000e+00]]],\n",
      "\n",
      "\n",
      "        [[[0.0000e+00, 0.0000e+00, 0.0000e+00,  ..., 0.0000e+00,\n",
      "           0.0000e+00, 0.0000e+00],\n",
      "          [0.0000e+00, 0.0000e+00, 0.0000e+00,  ..., 0.0000e+00,\n",
      "           0.0000e+00, 0.0000e+00],\n",
      "          [0.0000e+00, 0.0000e+00, 0.0000e+00,  ..., 0.0000e+00,\n",
      "           0.0000e+00, 0.0000e+00],\n",
      "          ...,\n",
      "          [0.0000e+00, 0.0000e+00, 0.0000e+00,  ..., 0.0000e+00,\n",
      "           0.0000e+00, 0.0000e+00],\n",
      "          [0.0000e+00, 0.0000e+00, 0.0000e+00,  ..., 0.0000e+00,\n",
      "           0.0000e+00, 0.0000e+00],\n",
      "          [0.0000e+00, 0.0000e+00, 0.0000e+00,  ..., 0.0000e+00,\n",
      "           0.0000e+00, 0.0000e+00]]]], device='cuda:0'), 'attn': tensor([[[[0.0000e+00, 0.0000e+00, 0.0000e+00,  ..., 0.0000e+00,\n",
      "           0.0000e+00, 0.0000e+00],\n",
      "          [0.0000e+00, 0.0000e+00, 0.0000e+00,  ..., 0.0000e+00,\n",
      "           0.0000e+00, 0.0000e+00],\n",
      "          [0.0000e+00, 0.0000e+00, 0.0000e+00,  ..., 0.0000e+00,\n",
      "           0.0000e+00, 0.0000e+00],\n",
      "          ...,\n",
      "          [8.7944e-01, 3.2835e-04, 1.6448e-05,  ..., 1.2922e-07,\n",
      "           9.6882e-15, 1.6199e-07],\n",
      "          [8.7944e-01, 3.2835e-04, 1.6448e-05,  ..., 1.2922e-07,\n",
      "           9.6882e-15, 1.6199e-07],\n",
      "          [8.7944e-01, 3.2835e-04, 1.6448e-05,  ..., 1.2922e-07,\n",
      "           9.6882e-15, 1.6199e-07]]],\n",
      "\n",
      "\n",
      "        [[[4.2475e-38, 0.0000e+00, 0.0000e+00,  ..., 0.0000e+00,\n",
      "           0.0000e+00, 0.0000e+00],\n",
      "          [0.0000e+00, 0.0000e+00, 0.0000e+00,  ..., 0.0000e+00,\n",
      "           0.0000e+00, 0.0000e+00],\n",
      "          [0.0000e+00, 0.0000e+00, 0.0000e+00,  ..., 0.0000e+00,\n",
      "           0.0000e+00, 0.0000e+00],\n",
      "          ...,\n",
      "          [5.1818e-05, 1.5576e-13, 1.6738e-14,  ..., 0.0000e+00,\n",
      "           0.0000e+00, 0.0000e+00],\n",
      "          [5.1818e-05, 1.5576e-13, 1.6738e-14,  ..., 0.0000e+00,\n",
      "           0.0000e+00, 0.0000e+00],\n",
      "          [5.1818e-05, 1.5576e-13, 1.6738e-14,  ..., 0.0000e+00,\n",
      "           0.0000e+00, 0.0000e+00]]],\n",
      "\n",
      "\n",
      "        [[[0.0000e+00, 0.0000e+00, 0.0000e+00,  ..., 0.0000e+00,\n",
      "           0.0000e+00, 0.0000e+00],\n",
      "          [0.0000e+00, 0.0000e+00, 0.0000e+00,  ..., 0.0000e+00,\n",
      "           0.0000e+00, 0.0000e+00],\n",
      "          [0.0000e+00, 0.0000e+00, 0.0000e+00,  ..., 0.0000e+00,\n",
      "           0.0000e+00, 0.0000e+00],\n",
      "          ...,\n",
      "          [8.6222e-03, 1.1766e-08, 8.6094e-10,  ..., 0.0000e+00,\n",
      "           0.0000e+00, 0.0000e+00],\n",
      "          [8.6222e-03, 1.1766e-08, 8.6094e-10,  ..., 0.0000e+00,\n",
      "           0.0000e+00, 0.0000e+00],\n",
      "          [8.6222e-03, 1.1766e-08, 8.6094e-10,  ..., 0.0000e+00,\n",
      "           0.0000e+00, 0.0000e+00]]],\n",
      "\n",
      "\n",
      "        [[[0.0000e+00, 0.0000e+00, 0.0000e+00,  ..., 0.0000e+00,\n",
      "           0.0000e+00, 0.0000e+00],\n",
      "          [0.0000e+00, 0.0000e+00, 0.0000e+00,  ..., 0.0000e+00,\n",
      "           0.0000e+00, 0.0000e+00],\n",
      "          [0.0000e+00, 0.0000e+00, 0.0000e+00,  ..., 0.0000e+00,\n",
      "           0.0000e+00, 0.0000e+00],\n",
      "          ...,\n",
      "          [9.1344e-01, 3.4104e-04, 1.7084e-05,  ..., 0.0000e+00,\n",
      "           0.0000e+00, 0.0000e+00],\n",
      "          [9.1344e-01, 3.4104e-04, 1.7084e-05,  ..., 0.0000e+00,\n",
      "           0.0000e+00, 0.0000e+00],\n",
      "          [9.1344e-01, 3.4104e-04, 1.7084e-05,  ..., 0.0000e+00,\n",
      "           0.0000e+00, 0.0000e+00]]],\n",
      "\n",
      "\n",
      "        [[[0.0000e+00, 0.0000e+00, 0.0000e+00,  ..., 0.0000e+00,\n",
      "           0.0000e+00, 0.0000e+00],\n",
      "          [0.0000e+00, 3.1014e-16, 0.0000e+00,  ..., 0.0000e+00,\n",
      "           0.0000e+00, 0.0000e+00],\n",
      "          [0.0000e+00, 4.8461e-16, 0.0000e+00,  ..., 0.0000e+00,\n",
      "           0.0000e+00, 0.0000e+00],\n",
      "          ...,\n",
      "          [1.9457e-04, 2.1172e-12, 7.3378e-07,  ..., 0.0000e+00,\n",
      "           0.0000e+00, 0.0000e+00],\n",
      "          [1.9457e-04, 2.1172e-12, 7.3378e-07,  ..., 0.0000e+00,\n",
      "           0.0000e+00, 0.0000e+00],\n",
      "          [1.9457e-04, 2.1172e-12, 7.3378e-07,  ..., 0.0000e+00,\n",
      "           0.0000e+00, 0.0000e+00]]],\n",
      "\n",
      "\n",
      "        [[[0.0000e+00, 0.0000e+00, 0.0000e+00,  ..., 0.0000e+00,\n",
      "           0.0000e+00, 0.0000e+00],\n",
      "          [0.0000e+00, 0.0000e+00, 0.0000e+00,  ..., 0.0000e+00,\n",
      "           0.0000e+00, 0.0000e+00],\n",
      "          [0.0000e+00, 0.0000e+00, 0.0000e+00,  ..., 0.0000e+00,\n",
      "           0.0000e+00, 0.0000e+00],\n",
      "          ...,\n",
      "          [0.0000e+00, 0.0000e+00, 0.0000e+00,  ..., 0.0000e+00,\n",
      "           0.0000e+00, 0.0000e+00],\n",
      "          [0.0000e+00, 0.0000e+00, 0.0000e+00,  ..., 0.0000e+00,\n",
      "           0.0000e+00, 0.0000e+00],\n",
      "          [0.0000e+00, 0.0000e+00, 0.0000e+00,  ..., 0.0000e+00,\n",
      "           0.0000e+00, 0.0000e+00]]]], device='cuda:0'), 'text_embeddings': tensor([[[-1.9312, -1.3304, -1.9312,  ..., -1.9312, -0.0251, -1.9312],\n",
      "         [ 1.1498,  0.0762,  1.1498,  ...,  1.1498,  0.0835,  1.1498],\n",
      "         [ 0.0284,  1.0190,  0.0284,  ...,  0.0284, -0.6419,  0.0284],\n",
      "         ...,\n",
      "         [-0.0448, -1.8133, -0.0448,  ..., -0.0448, -0.6722, -0.0448],\n",
      "         [ 0.2482,  1.0383,  0.2482,  ...,  0.2482,  0.1305,  0.2482],\n",
      "         [-0.8700, -1.0670, -0.8700,  ..., -0.8700,  0.0999, -0.8700]],\n",
      "\n",
      "        [[-1.9312,  0.2947, -1.9312,  ..., -1.9312, -1.9312, -1.9312],\n",
      "         [ 1.1498, -0.2296,  1.1498,  ...,  1.1498,  1.1498,  1.1498],\n",
      "         [ 0.0284, -2.2828,  0.0284,  ...,  0.0284,  0.0284,  0.0284],\n",
      "         ...,\n",
      "         [-0.0448, -1.1658, -0.0448,  ..., -0.0448, -0.0448, -0.0448],\n",
      "         [ 0.2482,  0.3483,  0.2482,  ...,  0.2482,  0.2482,  0.2482],\n",
      "         [-0.8700, -2.2417, -0.8700,  ..., -0.8700, -0.8700, -0.8700]],\n",
      "\n",
      "        [[-1.9312,  0.3683, -1.9312,  ..., -1.9312, -1.9312, -1.9312],\n",
      "         [ 1.1498, -1.6437,  1.1498,  ...,  1.1498,  1.1498,  1.1498],\n",
      "         [ 0.0284, -1.3564,  0.0284,  ...,  0.0284,  0.0284,  0.0284],\n",
      "         ...,\n",
      "         [-0.0448, -0.7181, -0.0448,  ..., -0.0448, -0.0448, -0.0448],\n",
      "         [ 0.2482,  0.1933,  0.2482,  ...,  0.2482,  0.2482,  0.2482],\n",
      "         [-0.8700, -0.5973, -0.8700,  ..., -0.8700, -0.8700, -0.8700]],\n",
      "\n",
      "        [[-1.9312, -1.3304, -1.9312,  ..., -1.9312, -1.9312, -1.9312],\n",
      "         [ 1.1498,  0.0762,  1.1498,  ...,  1.1498,  1.1498,  1.1498],\n",
      "         [ 0.0284,  1.0190,  0.0284,  ...,  0.0284,  0.0284,  0.0284],\n",
      "         ...,\n",
      "         [-0.0448, -1.8133, -0.0448,  ..., -0.0448, -0.0448, -0.0448],\n",
      "         [ 0.2482,  1.0383,  0.2482,  ...,  0.2482,  0.2482,  0.2482],\n",
      "         [-0.8700, -1.0670, -0.8700,  ..., -0.8700, -0.8700, -0.8700]],\n",
      "\n",
      "        [[-1.9312, -1.6556, -1.9312,  ..., -1.9312, -1.9312, -1.9312],\n",
      "         [ 1.1498, -0.5095,  1.1498,  ...,  1.1498,  1.1498,  1.1498],\n",
      "         [ 0.0284, -0.2902,  0.0284,  ...,  0.0284,  0.0284,  0.0284],\n",
      "         ...,\n",
      "         [-0.0448, -0.2500, -0.0448,  ..., -0.0448, -0.0448, -0.0448],\n",
      "         [ 0.2482,  0.7220,  0.2482,  ...,  0.2482,  0.2482,  0.2482],\n",
      "         [-0.8700, -1.2936, -0.8700,  ..., -0.8700, -0.8700, -0.8700]],\n",
      "\n",
      "        [[-1.9312, -0.5528, -1.9312,  ..., -1.9312, -1.9312, -1.9312],\n",
      "         [ 1.1498,  0.6253,  1.1498,  ...,  1.1498,  1.1498,  1.1498],\n",
      "         [ 0.0284, -1.5715,  0.0284,  ...,  0.0284,  0.0284,  0.0284],\n",
      "         ...,\n",
      "         [-0.0448, -0.7119, -0.0448,  ..., -0.0448, -0.0448, -0.0448],\n",
      "         [ 0.2482, -1.7024,  0.2482,  ...,  0.2482,  0.2482,  0.2482],\n",
      "         [-0.8700, -2.1486, -0.8700,  ..., -0.8700, -0.8700, -0.8700]]],\n",
      "       device='cuda:0'), 'attn_logprob': tensor([[[[-237.1511, -333.2452, -176.0042,  ..., -205.0574, -406.1951,\n",
      "           -346.1575],\n",
      "          [-343.7010, -284.5498, -243.7318,  ..., -280.8052, -305.6604,\n",
      "           -280.1678],\n",
      "          [-343.5759, -283.9631, -243.0875,  ..., -280.3972, -305.5142,\n",
      "           -280.0386],\n",
      "          ...,\n",
      "          [ -18.5492,  -26.4421,  -29.4360,  ...,  -34.2824,  -50.6886,\n",
      "            -34.0564],\n",
      "          [ -18.5492,  -26.4421,  -29.4360,  ...,  -34.2824,  -50.6886,\n",
      "            -34.0564],\n",
      "          [ -18.5492,  -26.4421,  -29.4360,  ...,  -34.2824,  -50.6886,\n",
      "            -34.0564]]],\n",
      "\n",
      "\n",
      "        [[[-103.6225, -415.3396, -188.0552,  ..., -185.4729, -185.4729,\n",
      "           -288.2991],\n",
      "          [-361.7942, -382.3238, -318.4544,  ...,  -20.9856,  -20.9856,\n",
      "           -231.6128],\n",
      "          [-361.9223, -382.0462, -318.1322,  ...,  -20.9856,  -20.9856,\n",
      "           -231.6128],\n",
      "          ...,\n",
      "          [ -28.2885,  -47.9111,  -50.1418,  ...,  -71.7714,  -71.7714,\n",
      "            -40.4101],\n",
      "          [ -28.2885,  -47.9111,  -50.1418,  ...,  -71.7714,  -71.7714,\n",
      "            -40.4101],\n",
      "          [ -28.2885,  -47.9111,  -50.1418,  ...,  -71.7714,  -71.7714,\n",
      "            -40.4101]]],\n",
      "\n",
      "\n",
      "        [[[-123.5540, -193.8620, -133.1994,  ..., -149.6378, -149.6378,\n",
      "           -252.4639],\n",
      "          [-376.9555, -298.1820, -244.5037,  ...,  -21.3651,  -21.3651,\n",
      "           -231.9923],\n",
      "          [-377.0270, -297.8349, -244.0661,  ...,  -21.3651,  -21.3651,\n",
      "           -231.9389],\n",
      "          ...,\n",
      "          [ -23.1741,  -36.6787,  -39.2937,  ...,  -71.5330,  -71.5330,\n",
      "            -40.1717],\n",
      "          [ -23.1741,  -36.6787,  -39.2937,  ...,  -71.5330,  -71.5330,\n",
      "            -40.1717],\n",
      "          [ -23.1741,  -36.6787,  -39.2937,  ...,  -71.5330,  -71.5330,\n",
      "            -40.1717]]],\n",
      "\n",
      "\n",
      "        [[[-205.0966, -301.3737, -144.3168,  ..., -170.0288, -170.0288,\n",
      "           -272.8549],\n",
      "          [-429.4866, -370.5241, -329.8894,  ...,  -23.2490,  -23.2490,\n",
      "           -233.8762],\n",
      "          [-429.2977, -369.9566, -329.1607,  ...,  -23.2490,  -23.2490,\n",
      "           -233.6494],\n",
      "          ...,\n",
      "          [ -18.5112,  -26.4042,  -29.3980,  ...,  -73.9428,  -73.9428,\n",
      "            -42.5815],\n",
      "          [ -18.5112,  -26.4042,  -29.3980,  ...,  -73.9428,  -73.9428,\n",
      "            -42.5815],\n",
      "          [ -18.5112,  -26.4042,  -29.3980,  ...,  -73.9428,  -73.9428,\n",
      "            -42.5815]]],\n",
      "\n",
      "\n",
      "        [[[-196.6029, -145.0176, -169.7924,  ..., -180.9568, -180.9568,\n",
      "           -283.7830],\n",
      "          [-340.6920, -160.1325, -351.7045,  ...,  -23.3407,  -23.3407,\n",
      "           -233.7618],\n",
      "          [-340.7766, -159.7652, -351.4261,  ...,  -23.3407,  -23.3407,\n",
      "           -233.7152],\n",
      "          ...,\n",
      "          [ -26.9654,  -45.3016,  -32.5457,  ...,  -72.2440,  -72.2440,\n",
      "            -40.8828],\n",
      "          [ -26.9654,  -45.3016,  -32.5457,  ...,  -72.2440,  -72.2440,\n",
      "            -40.8828],\n",
      "          [ -26.9654,  -45.3016,  -32.5457,  ...,  -72.2440,  -72.2440,\n",
      "            -40.8828]]],\n",
      "\n",
      "\n",
      "        [[[-114.8226, -230.0905, -208.9570,  ..., -138.0090, -138.0090,\n",
      "           -240.8352],\n",
      "          [-312.0328, -286.9957, -396.4320,  ...,  -23.8006,  -23.8006,\n",
      "           -234.4278],\n",
      "          [-312.0748, -286.6316, -396.0230,  ...,  -23.8006,  -23.8006,\n",
      "           -234.4278],\n",
      "          ...,\n",
      "          [-330.3697, -302.4693, -410.7390,  ...,  -23.8006,  -23.8006,\n",
      "           -234.4278],\n",
      "          [-330.3697, -302.4693, -410.7390,  ...,  -23.8006,  -23.8006,\n",
      "           -234.4278],\n",
      "          [-297.5227, -331.0974, -405.4158,  ...,  -23.8006,  -23.8006,\n",
      "           -276.2376]]]], device='cuda:0')}\n"
     ]
    }
   ],
   "source": [
    "print(outputs)"
   ]
  },
  {
   "cell_type": "code",
   "execution_count": null,
   "id": "fc17063f",
   "metadata": {},
   "outputs": [],
   "source": []
  },
  {
   "cell_type": "code",
   "execution_count": null,
   "id": "d0f3a987",
   "metadata": {},
   "outputs": [],
   "source": []
  },
  {
   "cell_type": "code",
   "execution_count": null,
   "id": "345891ff",
   "metadata": {},
   "outputs": [],
   "source": []
  },
  {
   "cell_type": "code",
   "execution_count": 1,
   "id": "19a66384",
   "metadata": {},
   "outputs": [],
   "source": [
    "from uberduck_ml_dev.exec.train_radtts_with_ray import get_ray_dataset, train_func, train_config, model_config\n",
    "from ray.train.torch import TorchTrainer, TorchCheckpoint, TorchTrainer\n",
    "from ray.air.config import ScalingConfig, RunConfig\n",
    "from ray.tune import SyncConfig\n",
    "\n",
    "class TorchCheckpointFixed(TorchCheckpoint):\n",
    "    def __setstate__(self, state: dict):\n",
    "        if \"_data_dict\" in state and state[\"_data_dict\"]:\n",
    "            state = state.copy()\n",
    "            state[\"_data_dict\"] = self._decode_data_dict(state[\"_data_dict\"])\n",
    "        super(TorchCheckpoint, self).__setstate__(state)\n",
    "\n",
    "\n",
    "# result = trainer.fit()"
   ]
  },
  {
   "cell_type": "code",
   "execution_count": 2,
   "id": "5f2d789c",
   "metadata": {},
   "outputs": [],
   "source": [
    "from ray.air.integrations.wandb import  setup_wandb"
   ]
  },
  {
   "cell_type": "code",
   "execution_count": 3,
   "id": "600e7b25",
   "metadata": {},
   "outputs": [
    {
     "name": "stderr",
     "output_type": "stream",
     "text": [
      "2023-03-08 14:27:33,779\tINFO worker.py:1360 -- Connecting to existing Ray cluster at address: 10.0.38.167:6379...\n",
      "2023-03-08 14:27:33,828\tINFO worker.py:1548 -- Connected to Ray cluster. View the dashboard at \u001b[1m\u001b[32mhttps://console.anyscale.com/api/v2/sessions/ses_ha6my3r3kl4mn9jdylcqnfutq1/services?redirect_to=dashboard \u001b[39m\u001b[22m\n",
      "2023-03-08 14:27:34,150\tINFO packaging.py:330 -- Pushing file package 'gcs://_ray_pkg_78efb00b2d4bf87cf2071ad4d319358d.zip' (7.03MiB) to Ray cluster...\n",
      "2023-03-08 14:27:34,245\tINFO packaging.py:343 -- Successfully pushed file package 'gcs://_ray_pkg_78efb00b2d4bf87cf2071ad4d319358d.zip'.\n",
      "(_get_read_tasks pid=25299) 2023-03-08 14:27:35,903\tWARNING file_meta_provider.py:162 -- Expanding 100 path(s). This may be a HIGH LATENCY operation on some cloud storage services. If the specified paths all point to files and never directories, try rerunning this read with `meta_provider=FastFileMetadataProvider()`.\n"
     ]
    }
   ],
   "source": [
    "ray_dataset = get_ray_dataset()"
   ]
  },
  {
   "cell_type": "code",
   "execution_count": 4,
   "id": "e83cf34a",
   "metadata": {},
   "outputs": [],
   "source": [
    "\n",
    "train_config['n_group_size'] = model_config['n_group_size']\n",
    "train_config['dur_model_config'] = model_config['dur_model_config']\n",
    "train_config['f0_model_config'] = model_config['f0_model_config']\n",
    "train_config['energy_model_config'] = model_config['energy_model_config']\n",
    "train_config['v_model_config']=model_config['v_model_config']\n",
    "\n",
    "trainer = TorchTrainer(\n",
    "    train_loop_per_worker=train_func,\n",
    "    train_loop_config=train_config,\n",
    "    scaling_config=ScalingConfig(\n",
    "        num_workers=2, use_gpu=True, resources_per_worker=dict(CPU=4, GPU=1)\n",
    "    ),\n",
    "    run_config=RunConfig(\n",
    "        sync_config=SyncConfig(upload_dir=\"s3://uberduck-anyscale-data/checkpoints\")\n",
    "    ),\n",
    "    datasets={\"train\": ray_dataset},\n",
    ")\n"
   ]
  },
  {
   "cell_type": "code",
   "execution_count": 5,
   "id": "68b870da",
   "metadata": {},
   "outputs": [
    {
     "name": "stderr",
     "output_type": "stream",
     "text": [
      "2023-03-07 16:35:52,269\tWARNING session.py:100 -- In neither tune session nor train session!\n",
      "/home/ray/anaconda3/lib/python3.10/site-packages/ray/air/session.py:28: UserWarning: `get_trial_id` is meant to only be called inside a function that is executed by a Tuner or Trainer. Returning `None`.\n",
      "  warnings.warn(\n",
      "2023-03-07 16:35:52,271\tWARNING session.py:100 -- In neither tune session nor train session!\n",
      "/home/ray/anaconda3/lib/python3.10/site-packages/ray/air/session.py:28: UserWarning: `get_trial_name` is meant to only be called inside a function that is executed by a Tuner or Trainer. Returning `None`.\n",
      "  warnings.warn(\n",
      "2023-03-07 16:35:52,272\tWARNING session.py:100 -- In neither tune session nor train session!\n",
      "/home/ray/anaconda3/lib/python3.10/site-packages/ray/air/session.py:28: UserWarning: `get_experiment_name` is meant to only be called inside a function that is executed by a Tuner or Trainer. Returning `None`.\n",
      "  warnings.warn(\n",
      "wandb: Currently logged in as: uberduck. Use `wandb login --relogin` to force relogin\n"
     ]
    },
    {
     "data": {
      "text/html": [
       "wandb version 0.13.11 is available!  To upgrade, please run:\n",
       " $ pip install wandb --upgrade"
      ],
      "text/plain": [
       "<IPython.core.display.HTML object>"
      ]
     },
     "metadata": {},
     "output_type": "display_data"
    },
    {
     "data": {
      "text/html": [
       "Tracking run with wandb version 0.13.10"
      ],
      "text/plain": [
       "<IPython.core.display.HTML object>"
      ]
     },
     "metadata": {},
     "output_type": "display_data"
    },
    {
     "data": {
      "text/html": [
       "Run data is saved locally in <code>/home/ray/default/wandb/run-20230307_163553-e0id39cs</code>"
      ],
      "text/plain": [
       "<IPython.core.display.HTML object>"
      ]
     },
     "metadata": {},
     "output_type": "display_data"
    },
    {
     "data": {
      "text/html": [
       "Syncing run <strong><a href='https://wandb.ai/uberduck/radtts-ray/runs/e0id39cs' target=\"_blank\">fresh-brook-47</a></strong> to <a href='https://wandb.ai/uberduck/radtts-ray' target=\"_blank\">Weights & Biases</a> (<a href='https://wandb.me/run' target=\"_blank\">docs</a>)<br/>"
      ],
      "text/plain": [
       "<IPython.core.display.HTML object>"
      ]
     },
     "metadata": {},
     "output_type": "display_data"
    },
    {
     "data": {
      "text/html": [
       " View project at <a href='https://wandb.ai/uberduck/radtts-ray' target=\"_blank\">https://wandb.ai/uberduck/radtts-ray</a>"
      ],
      "text/plain": [
       "<IPython.core.display.HTML object>"
      ]
     },
     "metadata": {},
     "output_type": "display_data"
    },
    {
     "data": {
      "text/html": [
       " View run at <a href='https://wandb.ai/uberduck/radtts-ray/runs/e0id39cs' target=\"_blank\">https://wandb.ai/uberduck/radtts-ray/runs/e0id39cs</a>"
      ],
      "text/plain": [
       "<IPython.core.display.HTML object>"
      ]
     },
     "metadata": {},
     "output_type": "display_data"
    },
    {
     "data": {
      "text/html": [
       "<button onClick=\"this.nextSibling.style.display='block';this.style.display='none';\">Display W&B run</button><iframe src='https://wandb.ai/uberduck/radtts-ray/runs/e0id39cs?jupyter=true' style='border:none;width:100%;height:420px;display:none;'></iframe>"
      ],
      "text/plain": [
       "<wandb.sdk.wandb_run.Run at 0x7f0524702da0>"
      ]
     },
     "execution_count": 5,
     "metadata": {},
     "output_type": "execute_result"
    }
   ],
   "source": [
    "config = train_config\n",
    "setup_wandb(config, project=\"radtts-ray\", rank_zero_only=False)"
   ]
  },
  {
   "cell_type": "code",
   "execution_count": 8,
   "id": "c6c9514c",
   "metadata": {},
   "outputs": [
    {
     "name": "stdout",
     "output_type": "stream",
     "text": [
      "CUDA AVAILABLE:  True\n"
     ]
    },
    {
     "ename": "NameError",
     "evalue": "name 'RADTTS' is not defined",
     "output_type": "error",
     "traceback": [
      "\u001b[0;31m---------------------------------------------------------------------------\u001b[0m",
      "\u001b[0;31mNameError\u001b[0m                                 Traceback (most recent call last)",
      "Cell \u001b[0;32mIn[8], line 11\u001b[0m\n\u001b[1;32m      9\u001b[0m kl_loss_start_iter \u001b[38;5;241m=\u001b[39m config[\u001b[38;5;124m'\u001b[39m\u001b[38;5;124mkl_loss_start_iter\u001b[39m\u001b[38;5;124m'\u001b[39m]\n\u001b[1;32m     10\u001b[0m binarization_start_iter \u001b[38;5;241m=\u001b[39m config[\u001b[38;5;124m'\u001b[39m\u001b[38;5;124mbinarization_start_iter\u001b[39m\u001b[38;5;124m'\u001b[39m]\n\u001b[0;32m---> 11\u001b[0m model \u001b[38;5;241m=\u001b[39m \u001b[43mRADTTS\u001b[49m(\n\u001b[1;32m     12\u001b[0m     \u001b[38;5;241m*\u001b[39m\u001b[38;5;241m*\u001b[39mmodel_config,\n\u001b[1;32m     13\u001b[0m )\n\u001b[1;32m     14\u001b[0m model \u001b[38;5;241m=\u001b[39m train\u001b[38;5;241m.\u001b[39mtorch\u001b[38;5;241m.\u001b[39mprepare_model(model, parallel_strategy_kwargs \u001b[38;5;241m=\u001b[39m \u001b[38;5;28mdict\u001b[39m(find_unused_parameters\u001b[38;5;241m=\u001b[39m\u001b[38;5;28;01mTrue\u001b[39;00m))\n",
      "\u001b[0;31mNameError\u001b[0m: name 'RADTTS' is not defined"
     ]
    }
   ],
   "source": [
    "import torch\n",
    "\n",
    "print(\"CUDA AVAILABLE: \", torch.cuda.is_available())\n",
    "epochs = config[\"epochs\"]\n",
    "batch_size = config[\"batch_size\"]\n",
    "steps_per_sample = config[\"steps_per_sample\"]\n",
    "# gin_channels = config[\"gin_channels\"]\n",
    "sigma = config['sigma']\n",
    "kl_loss_start_iter = config['kl_loss_start_iter']\n",
    "binarization_start_iter = config['binarization_start_iter']\n"
   ]
  },
  {
   "cell_type": "code",
   "execution_count": 5,
   "id": "ac660b8e",
   "metadata": {},
   "outputs": [
    {
     "name": "stdout",
     "output_type": "stream",
     "text": [
      "Applying spectral norm to text encoder LSTM\n",
      "Applying spectral norm to context encoder LSTM\n"
     ]
    },
    {
     "name": "stderr",
     "output_type": "stream",
     "text": [
      "/home/ray/default/uberduck_ml_dev/models/common.py:1516: UserWarning: torch.qr is deprecated in favor of torch.linalg.qr and will be removed in a future PyTorch release.\n",
      "The boolean parameter 'some' has been replaced with a string parameter 'mode'.\n",
      "Q, R = torch.qr(A, some)\n",
      "should be replaced with\n",
      "Q, R = torch.linalg.qr(A, 'reduced' if some else 'complete') (Triggered internally at ../aten/src/ATen/native/BatchLinearAlgebra.cpp:2349.)\n",
      "  W = torch.qr(torch.FloatTensor(c, c).normal_())[0]\n",
      "/home/ray/anaconda3/lib/python3.10/site-packages/torch/functional.py:1682: UserWarning: torch.lu is deprecated in favor of torch.linalg.lu_factor / torch.linalg.lu_factor_ex and will be removed in a future PyTorch release.\n",
      "LU, pivots = torch.lu(A, compute_pivots)\n",
      "should be replaced with\n",
      "LU, pivots = torch.linalg.lu_factor(A, compute_pivots)\n",
      "and\n",
      "LU, pivots, info = torch.lu(A, compute_pivots, get_infos=True)\n",
      "should be replaced with\n",
      "LU, pivots, info = torch.linalg.lu_factor_ex(A, compute_pivots) (Triggered internally at ../aten/src/ATen/native/BatchLinearAlgebra.cpp:1915.)\n",
      "  return torch._lu_with_info(A, pivot=pivot, check_errors=(not get_infos))\n"
     ]
    }
   ],
   "source": [
    "\n",
    "# import ray.train as train\n",
    "# model = train.torch.prepare_model(model, parallel_strategy_kwargs = dict(find_unused_parameters=True))"
   ]
  },
  {
   "cell_type": "code",
   "execution_count": 7,
   "id": "3604e32e",
   "metadata": {},
   "outputs": [
    {
     "ename": "NameError",
     "evalue": "name 'state_dict' is not defined",
     "output_type": "error",
     "traceback": [
      "\u001b[0;31m---------------------------------------------------------------------------\u001b[0m",
      "\u001b[0;31mNameError\u001b[0m                                 Traceback (most recent call last)",
      "Cell \u001b[0;32mIn[7], line 1\u001b[0m\n\u001b[0;32m----> 1\u001b[0m model\u001b[38;5;241m.\u001b[39mload_state_dict(\u001b[43mstate_dict\u001b[49m)\n",
      "\u001b[0;31mNameError\u001b[0m: name 'state_dict' is not defined"
     ]
    }
   ],
   "source": []
  },
  {
   "cell_type": "code",
   "execution_count": null,
   "id": "6c7bb88c",
   "metadata": {},
   "outputs": [],
   "source": [
    "\n",
    "\n",
    "# discriminator = MultiPeriodDiscriminator(MODEL_CONFIG[\"use_spectral_norm\"])\n",
    "# discriminator = train.torch.prepare_model(discriminator)\n",
    "\n",
    "checkpoint_dict = _load_checkpoint_dict()\n",
    "if checkpoint_dict is None:\n",
    "    global_step = 0\n",
    "    start_epoch = 0\n",
    "else:\n",
    "    global_step = checkpoint_dict[\"global_step\"]\n",
    "    start_epoch = checkpoint_dict[\"epoch\"]\n",
    "    if session.get_world_size() > 1:\n",
    "        model_sd = checkpoint_dict[\"model\"]\n",
    "        # NOTE(zach): Add audio embedding state dict if it is not present.\n",
    "        # NOTE(zach): Pass strict=False due to different nuber of gin_channels\n",
    "        model.load_state_dict(model_sd, strict=False)\n",
    "    else:\n",
    "        model_sd = _fix_state_dict(checkpoint_dict[\"model\"])\n",
    "        # NOTE(zach): Pass strict=False due to different nuber of gin_channels\n",
    "        model.load_state_dict(model_sd, strict=False)\n",
    "    del checkpoint_dict\n",
    "\n",
    "# NOTE (Sam): replace with RAdam\n",
    "optim = torch.optim.Adam(\n",
    "    model.parameters(),\n",
    "    lr = config[\"learning_rate\"],\n",
    "    weight_decay = config[\"weight_decay\"]\n",
    ")\n",
    "scheduler = ExponentialLR(\n",
    "    optim,\n",
    "    config[\"weight_decay\"],\n",
    "    last_epoch=-1,\n",
    ")\n",
    "dataset_shard = session.get_dataset_shard(\"train\")\n",
    "global_step = 0\n",
    "scaler = GradScaler()\n",
    "\n",
    "criterion = RADTTSLoss(\n",
    "    sigma,\n",
    "    config['n_group_size'],\n",
    "    config['dur_model_config'],\n",
    "    config['f0_model_config'],\n",
    "    config['energy_model_config'],\n",
    "    vpred_model_config=config['v_model_config'],\n",
    "    loss_weights=config['loss_weights']\n",
    ")\n",
    "attention_kl_loss = AttentionBinarizationLoss()\n",
    "iteration = 0\n",
    "for epoch in range(start_epoch, start_epoch + epochs):\n",
    "    for batch_idx, ray_batch_df in enumerate(\n",
    "        dataset_shard.iter_batches(batch_size=batch_size)\n",
    "    ):\n",
    "        torch.cuda.empty_cache()\n",
    "        _train_step(\n",
    "            ray_batch_df,\n",
    "            model,\n",
    "            optim,\n",
    "            global_step,\n",
    "            steps_per_sample,\n",
    "            scaler,\n",
    "            scheduler,\n",
    "            criterion,\n",
    "            attention_kl_loss,\n",
    "            iteration,\n",
    "            kl_loss_start_iter,\n",
    "            binarization_start_iter,\n",
    "        )\n",
    "        global_step += 1\n",
    "    if session.get_world_rank() == 0:\n",
    "        # TODO(zach): Also save wandb artifact here.\n",
    "        checkpoint = Checkpoint.from_dict(\n",
    "            dict(\n",
    "                epoch=epoch,\n",
    "                global_step=global_step,\n",
    "                model=model.state_dict(),\n",
    "            )\n",
    "        )\n",
    "        session.report({}, checkpoint=checkpoint)\n",
    "        artifact = wandb.Artifact(\n",
    "            f\"artifact_epoch{epoch}_step{global_step}\", \"model\"\n",
    "        )\n",
    "        with tempfile.TemporaryDirectory() as tempdirname:\n",
    "            checkpoint.to_directory(tempdirname)\n",
    "            artifact.add_dir(tempdirname)\n",
    "            wandb.log_artifact(artifact)\n",
    "        iteration += 1"
   ]
  },
  {
   "cell_type": "code",
   "execution_count": 3,
   "id": "71db4e40",
   "metadata": {},
   "outputs": [
    {
     "name": "stderr",
     "output_type": "stream",
     "text": [
      "2023-03-07 16:19:08,608\tINFO worker.py:1360 -- Connecting to existing Ray cluster at address: 10.0.37.211:6379...\n",
      "2023-03-07 16:19:08,633\tINFO worker.py:1548 -- Connected to Ray cluster. View the dashboard at \u001b[1m\u001b[32mhttps://console.anyscale.com/api/v2/sessions/ses_ha6my3r3kl4mn9jdylcqnfutq1/services?redirect_to=dashboard \u001b[39m\u001b[22m\n",
      "2023-03-07 16:19:08,653\tINFO packaging.py:330 -- Pushing file package 'gcs://_ray_pkg_ee2356972b78dbfda1fe20807a72a9e9.zip' (6.85MiB) to Ray cluster...\n",
      "2023-03-07 16:19:08,744\tINFO packaging.py:343 -- Successfully pushed file package 'gcs://_ray_pkg_ee2356972b78dbfda1fe20807a72a9e9.zip'.\n",
      "(_get_read_tasks pid=5467, ip=10.0.46.245) 2023-03-07 16:19:10,287\tWARNING file_meta_provider.py:162 -- Expanding 100 path(s). This may be a HIGH LATENCY operation on some cloud storage services. If the specified paths all point to files and never directories, try rerunning this read with `meta_provider=FastFileMetadataProvider()`.\n"
     ]
    },
    {
     "data": {
      "text/html": [
       "<div class=\"tuneStatus\">\n",
       "  <div style=\"display: flex;flex-direction: row\">\n",
       "    <div style=\"display: flex;flex-direction: column;\">\n",
       "      <h3>Tune Status</h3>\n",
       "      <table>\n",
       "<tbody>\n",
       "<tr><td>Current time:</td><td>2023-03-07 16:23:56</td></tr>\n",
       "<tr><td>Running for: </td><td>00:04:44.92        </td></tr>\n",
       "<tr><td>Memory:      </td><td>7.1/15.3 GiB       </td></tr>\n",
       "</tbody>\n",
       "</table>\n",
       "    </div>\n",
       "    <div class=\"vDivider\"></div>\n",
       "    <div class=\"systemInfo\">\n",
       "      <h3>System Info</h3>\n",
       "      Using FIFO scheduling algorithm.<br>Resources requested: 9.0/184 CPUs, 2.0/6 GPUs, 0.0/484.53 GiB heap, 0.0/208.25 GiB objects (0.0/6.0 accelerator_type:T4)\n",
       "    </div>\n",
       "    \n",
       "  </div>\n",
       "  <div class=\"hDivider\"></div>\n",
       "  <div class=\"trialStatus\">\n",
       "    <h3>Trial Status</h3>\n",
       "    <table>\n",
       "<thead>\n",
       "<tr><th>Trial name              </th><th>status  </th><th>loc             </th></tr>\n",
       "</thead>\n",
       "<tbody>\n",
       "<tr><td>TorchTrainer_d9af1_00000</td><td>RUNNING </td><td>10.0.46.245:5550</td></tr>\n",
       "</tbody>\n",
       "</table>\n",
       "  </div>\n",
       "</div>\n",
       "<style>\n",
       ".tuneStatus {\n",
       "  color: var(--jp-ui-font-color1);\n",
       "}\n",
       ".tuneStatus .systemInfo {\n",
       "  display: flex;\n",
       "  flex-direction: column;\n",
       "}\n",
       ".tuneStatus td {\n",
       "  white-space: nowrap;\n",
       "}\n",
       ".tuneStatus .trialStatus {\n",
       "  display: flex;\n",
       "  flex-direction: column;\n",
       "}\n",
       ".tuneStatus h3 {\n",
       "  font-weight: bold;\n",
       "}\n",
       ".tuneStatus .hDivider {\n",
       "  border-bottom-width: var(--jp-border-width);\n",
       "  border-bottom-color: var(--jp-border-color0);\n",
       "  border-bottom-style: solid;\n",
       "}\n",
       ".tuneStatus .vDivider {\n",
       "  border-left-width: var(--jp-border-width);\n",
       "  border-left-color: var(--jp-border-color0);\n",
       "  border-left-style: solid;\n",
       "  margin: 0.5em 1em 0.5em 1em;\n",
       "}\n",
       "</style>\n"
      ],
      "text/plain": [
       "<IPython.core.display.HTML object>"
      ]
     },
     "metadata": {},
     "output_type": "display_data"
    },
    {
     "name": "stderr",
     "output_type": "stream",
     "text": [
      "2023-03-07 16:19:11,683\tWARNING trial_runner.py:1333 -- The maximum number of pending trials has been automatically set to the number of available cluster CPUs, which is high (202 CPUs/pending trials). If you're running an experiment with a large number of trials, this could lead to scheduling overhead. In this case, consider setting the `TUNE_MAX_PENDING_TRIALS_PG` environment variable to the desired maximum number of concurrent trials.\n",
      "(RayTrainWorker pid=235, ip=10.0.45.178) 2023-03-07 16:19:23,587\tINFO config.py:86 -- Setting up process group for: env:// [rank=0, world_size=2]\n",
      "(TorchTrainer pid=5550, ip=10.0.46.245) 2023-03-07 16:19:24,250\tINFO bulk_executor.py:41 -- Executing DAG InputDataBuffer[Input] -> TaskPoolMapOperator[MapBatches(<lambda>)] -> AllToAllOperator[zip] -> AllToAllOperator[zip] -> AllToAllOperator[zip] -> TaskPoolMapOperator[MapBatches(<lambda>)] -> AllToAllOperator[randomize_block_order]\n",
      "(TorchTrainer pid=5550, ip=10.0.46.245) 2023-03-07 16:19:27,668\tINFO bulk_executor.py:41 -- Executing DAG InputDataBuffer[Input] -> TaskPoolMapOperator[read] -> TaskPoolMapOperator[MapBatches(<lambda>)]\n",
      "(TorchTrainer pid=5550, ip=10.0.46.245) 2023-03-07 16:19:33,962\tINFO bulk_executor.py:41 -- Executing DAG InputDataBuffer[Input] -> TaskPoolMapOperator[MapBatches(<lambda>)]\n",
      "(TorchTrainer pid=5550, ip=10.0.46.245) 2023-03-07 16:19:34,065\tINFO bulk_executor.py:41 -- Executing DAG InputDataBuffer[Input] -> TaskPoolMapOperator[MapBatches(<lambda>)]\n",
      "(TorchTrainer pid=5550, ip=10.0.46.245) /home/ray/anaconda3/lib/python3.10/site-packages/ray/train/_internal/dataset_iterator.py:64: UserWarning: session.get_dataset_shard returns a ray.data.DatasetIterator instead of a Dataset/DatasetPipeline as of Ray v2.3. Use iter_torch_batches(), to_tf(), or iter_batches() to iterate over one epoch. See https://docs.ray.io/en/latest/data/api/dataset_iterator.html for full DatasetIterator docs.\n",
      "(TorchTrainer pid=5550, ip=10.0.46.245)   warnings.warn(\n",
      "(RayTrainWorker pid=235, ip=10.0.45.178) [nltk_data] Downloading package averaged_perceptron_tagger to\n",
      "(RayTrainWorker pid=235, ip=10.0.45.178) [nltk_data]     /home/ray/nltk_data...\n",
      "(RayTrainWorker pid=235, ip=10.0.45.178) [nltk_data]   Unzipping taggers/averaged_perceptron_tagger.zip.\n",
      "(RayTrainWorker pid=417, ip=10.0.17.31) wandb: Currently logged in as: uberduck. Use `wandb login --relogin` to force relogin\n",
      "(RayTrainWorker pid=235, ip=10.0.45.178) wandb: Currently logged in as: uberduck. Use `wandb login --relogin` to force relogin\n",
      "(RayTrainWorker pid=417, ip=10.0.17.31) wandb: wandb version 0.13.11 is available!  To upgrade, please run:\n",
      "(RayTrainWorker pid=417, ip=10.0.17.31) wandb:  $ pip install wandb --upgrade\n",
      "(RayTrainWorker pid=417, ip=10.0.17.31) wandb: Tracking run with wandb version 0.13.10\n",
      "(RayTrainWorker pid=417, ip=10.0.17.31) wandb: Run data is saved locally in /home/ray/ray_results/TorchTrainer_2023-03-07_16-19-11/TorchTrainer_d9af1_00000_0_2023-03-07_16-19-13/rank_1/wandb/run-20230307_161948-d9af1_00000\n",
      "(RayTrainWorker pid=417, ip=10.0.17.31) wandb: Run `wandb offline` to turn off syncing.\n",
      "(RayTrainWorker pid=417, ip=10.0.17.31) wandb: Syncing run TorchTrainer_d9af1_00000\n",
      "(RayTrainWorker pid=417, ip=10.0.17.31) wandb: ⭐️ View project at https://wandb.ai/uberduck/radtts-ray\n",
      "(RayTrainWorker pid=417, ip=10.0.17.31) wandb: 🚀 View run at https://wandb.ai/uberduck/radtts-ray/runs/d9af1_00000\n"
     ]
    },
    {
     "name": "stdout",
     "output_type": "stream",
     "text": [
      "(RayTrainWorker pid=417, ip=10.0.17.31) CUDA AVAILABLE:  True\n",
      "(RayTrainWorker pid=417, ip=10.0.17.31) Applying spectral norm to text encoder LSTM\n",
      "(RayTrainWorker pid=417, ip=10.0.17.31) Applying spectral norm to context encoder LSTM\n"
     ]
    },
    {
     "name": "stderr",
     "output_type": "stream",
     "text": [
      "(RayTrainWorker pid=417, ip=10.0.17.31) /tmp/ray/session_2023-03-06_08-59-42_925397_141/runtime_resources/working_dir_files/_ray_pkg_ee2356972b78dbfda1fe20807a72a9e9/uberduck_ml_dev/models/common.py:1516: UserWarning: torch.qr is deprecated in favor of torch.linalg.qr and will be removed in a future PyTorch release.\n",
      "(RayTrainWorker pid=417, ip=10.0.17.31) The boolean parameter 'some' has been replaced with a string parameter 'mode'.\n",
      "(RayTrainWorker pid=417, ip=10.0.17.31) Q, R = torch.qr(A, some)\n",
      "(RayTrainWorker pid=417, ip=10.0.17.31) should be replaced with\n",
      "(RayTrainWorker pid=417, ip=10.0.17.31) Q, R = torch.linalg.qr(A, 'reduced' if some else 'complete') (Triggered internally at ../aten/src/ATen/native/BatchLinearAlgebra.cpp:2349.)\n",
      "(RayTrainWorker pid=417, ip=10.0.17.31)   W = torch.qr(torch.FloatTensor(c, c).normal_())[0]\n",
      "(RayTrainWorker pid=417, ip=10.0.17.31) /home/ray/anaconda3/lib/python3.10/site-packages/torch/functional.py:1682: UserWarning: torch.lu is deprecated in favor of torch.linalg.lu_factor / torch.linalg.lu_factor_ex and will be removed in a future PyTorch release.\n",
      "(RayTrainWorker pid=417, ip=10.0.17.31) LU, pivots = torch.lu(A, compute_pivots)\n",
      "(RayTrainWorker pid=417, ip=10.0.17.31) should be replaced with\n",
      "(RayTrainWorker pid=417, ip=10.0.17.31) LU, pivots = torch.linalg.lu_factor(A, compute_pivots)\n",
      "(RayTrainWorker pid=417, ip=10.0.17.31) and\n",
      "(RayTrainWorker pid=417, ip=10.0.17.31) LU, pivots, info = torch.lu(A, compute_pivots, get_infos=True)\n",
      "(RayTrainWorker pid=417, ip=10.0.17.31) should be replaced with\n",
      "(RayTrainWorker pid=417, ip=10.0.17.31) LU, pivots, info = torch.linalg.lu_factor_ex(A, compute_pivots) (Triggered internally at ../aten/src/ATen/native/BatchLinearAlgebra.cpp:1915.)\n",
      "(RayTrainWorker pid=417, ip=10.0.17.31)   return torch._lu_with_info(A, pivot=pivot, check_errors=(not get_infos))\n",
      "(RayTrainWorker pid=235, ip=10.0.45.178) wandb: wandb version 0.13.11 is available!  To upgrade, please run:\n",
      "(RayTrainWorker pid=235, ip=10.0.45.178) wandb:  $ pip install wandb --upgrade\n",
      "(RayTrainWorker pid=235, ip=10.0.45.178) wandb: Tracking run with wandb version 0.13.10\n",
      "(RayTrainWorker pid=235, ip=10.0.45.178) wandb: Run data is saved locally in /home/ray/ray_results/TorchTrainer_2023-03-07_16-19-11/TorchTrainer_d9af1_00000_0_2023-03-07_16-19-13/rank_0/wandb/run-20230307_161948-d9af1_00000\n",
      "(RayTrainWorker pid=235, ip=10.0.45.178) wandb: Run `wandb offline` to turn off syncing.\n",
      "(RayTrainWorker pid=235, ip=10.0.45.178) wandb: Syncing run TorchTrainer_d9af1_00000\n",
      "(RayTrainWorker pid=235, ip=10.0.45.178) wandb: ⭐️ View project at https://wandb.ai/uberduck/radtts-ray\n",
      "(RayTrainWorker pid=235, ip=10.0.45.178) wandb: 🚀 View run at https://wandb.ai/uberduck/radtts-ray/runs/d9af1_00000\n"
     ]
    },
    {
     "name": "stdout",
     "output_type": "stream",
     "text": [
      "(RayTrainWorker pid=235, ip=10.0.45.178) CUDA AVAILABLE:  True\n",
      "(RayTrainWorker pid=235, ip=10.0.45.178) Applying spectral norm to text encoder LSTM\n"
     ]
    },
    {
     "name": "stderr",
     "output_type": "stream",
     "text": [
      "(RayTrainWorker pid=235, ip=10.0.45.178) /tmp/ray/session_2023-03-06_08-59-42_925397_141/runtime_resources/working_dir_files/_ray_pkg_ee2356972b78dbfda1fe20807a72a9e9/uberduck_ml_dev/models/common.py:1516: UserWarning: torch.qr is deprecated in favor of torch.linalg.qr and will be removed in a future PyTorch release.\n",
      "(RayTrainWorker pid=235, ip=10.0.45.178) The boolean parameter 'some' has been replaced with a string parameter 'mode'.\n",
      "(RayTrainWorker pid=235, ip=10.0.45.178) Q, R = torch.qr(A, some)\n",
      "(RayTrainWorker pid=235, ip=10.0.45.178) should be replaced with\n",
      "(RayTrainWorker pid=235, ip=10.0.45.178) Q, R = torch.linalg.qr(A, 'reduced' if some else 'complete') (Triggered internally at ../aten/src/ATen/native/BatchLinearAlgebra.cpp:2349.)\n",
      "(RayTrainWorker pid=235, ip=10.0.45.178)   W = torch.qr(torch.FloatTensor(c, c).normal_())[0]\n",
      "(RayTrainWorker pid=235, ip=10.0.45.178) /home/ray/anaconda3/lib/python3.10/site-packages/torch/functional.py:1682: UserWarning: torch.lu is deprecated in favor of torch.linalg.lu_factor / torch.linalg.lu_factor_ex and will be removed in a future PyTorch release.\n",
      "(RayTrainWorker pid=235, ip=10.0.45.178) LU, pivots = torch.lu(A, compute_pivots)\n",
      "(RayTrainWorker pid=235, ip=10.0.45.178) should be replaced with\n",
      "(RayTrainWorker pid=235, ip=10.0.45.178) LU, pivots = torch.linalg.lu_factor(A, compute_pivots)\n",
      "(RayTrainWorker pid=235, ip=10.0.45.178) and\n",
      "(RayTrainWorker pid=235, ip=10.0.45.178) LU, pivots, info = torch.lu(A, compute_pivots, get_infos=True)\n",
      "(RayTrainWorker pid=235, ip=10.0.45.178) should be replaced with\n",
      "(RayTrainWorker pid=235, ip=10.0.45.178) LU, pivots, info = torch.linalg.lu_factor_ex(A, compute_pivots) (Triggered internally at ../aten/src/ATen/native/BatchLinearAlgebra.cpp:1915.)\n",
      "(RayTrainWorker pid=235, ip=10.0.45.178)   return torch._lu_with_info(A, pivot=pivot, check_errors=(not get_infos))\n"
     ]
    },
    {
     "name": "stdout",
     "output_type": "stream",
     "text": [
      "(RayTrainWorker pid=235, ip=10.0.45.178) Applying spectral norm to context encoder LSTM\n"
     ]
    },
    {
     "name": "stderr",
     "output_type": "stream",
     "text": [
      "(RayTrainWorker pid=417, ip=10.0.17.31) 2023-03-07 16:20:06,289\tINFO train_loop_utils.py:307 -- Moving model to device: cuda:0\n",
      "(RayTrainWorker pid=235, ip=10.0.45.178) 2023-03-07 16:20:06,824\tINFO train_loop_utils.py:307 -- Moving model to device: cuda:0\n",
      "(RayTrainWorker pid=417, ip=10.0.17.31) 2023-03-07 16:20:08,136\tINFO train_loop_utils.py:367 -- Wrapping provided model in DistributedDataParallel.\n",
      "(RayTrainWorker pid=235, ip=10.0.45.178) 2023-03-07 16:20:09,592\tINFO train_loop_utils.py:367 -- Wrapping provided model in DistributedDataParallel.\n",
      "(RayTrainWorker pid=417, ip=10.0.17.31) /tmp/ray/session_2023-03-06_08-59-42_925397_141/runtime_resources/working_dir_files/_ray_pkg_ee2356972b78dbfda1fe20807a72a9e9/uberduck_ml_dev/exec/train_radtts_with_ray.py:492: UserWarning: The given NumPy array is not writable, and PyTorch does not support non-writable tensors. This means writing to this tensor will result in undefined behavior. You may want to copy the array to protect its data or make it writable before converting it to a tensor. This type of warning will be suppressed for the rest of this program. (Triggered internally at ../torch/csrc/utils/tensor_numpy.cpp:199.)\n",
      "(RayTrainWorker pid=417, ip=10.0.17.31)   audio = torch.FloatTensor(wav_data)\n",
      "(RayTrainWorker pid=235, ip=10.0.45.178) /tmp/ray/session_2023-03-06_08-59-42_925397_141/runtime_resources/working_dir_files/_ray_pkg_ee2356972b78dbfda1fe20807a72a9e9/uberduck_ml_dev/exec/train_radtts_with_ray.py:492: UserWarning: The given NumPy array is not writable, and PyTorch does not support non-writable tensors. This means writing to this tensor will result in undefined behavior. You may want to copy the array to protect its data or make it writable before converting it to a tensor. This type of warning will be suppressed for the rest of this program. (Triggered internally at ../torch/csrc/utils/tensor_numpy.cpp:199.)\n",
      "(RayTrainWorker pid=235, ip=10.0.45.178)   audio = torch.FloatTensor(wav_data)\n",
      "(RayTrainWorker pid=417, ip=10.0.17.31) /home/ray/anaconda3/lib/python3.10/site-packages/torch/nn/modules/rnn.py:777: UserWarning: RNN module weights are not part of single contiguous chunk of memory. This means they need to be compacted at every call, possibly greatly increasing memory usage. To compact weights again call flatten_parameters(). (Triggered internally at ../aten/src/ATen/native/cudnn/RNN.cpp:968.)\n",
      "(RayTrainWorker pid=417, ip=10.0.17.31)   result = _VF.lstm(input, batch_sizes, hx, self._flat_weights, self.bias,\n",
      "(RayTrainWorker pid=235, ip=10.0.45.178) /home/ray/anaconda3/lib/python3.10/site-packages/torch/nn/modules/rnn.py:777: UserWarning: RNN module weights are not part of single contiguous chunk of memory. This means they need to be compacted at every call, possibly greatly increasing memory usage. To compact weights again call flatten_parameters(). (Triggered internally at ../aten/src/ATen/native/cudnn/RNN.cpp:968.)\n",
      "(RayTrainWorker pid=235, ip=10.0.45.178)   result = _VF.lstm(input, batch_sizes, hx, self._flat_weights, self.bias,\n",
      "(RayTrainWorker pid=417, ip=10.0.17.31) /home/ray/anaconda3/lib/python3.10/site-packages/torch/autograd/__init__.py:197: UserWarning: Grad strides do not match bucket view strides. This may indicate grad was not created according to the gradient layout contract, or that the param's strides changed since DDP was constructed.  This is not an error, but may impair performance.\n",
      "(RayTrainWorker pid=417, ip=10.0.17.31) grad.sizes() = [1, 512], strides() = [1, 1]\n",
      "(RayTrainWorker pid=417, ip=10.0.17.31) bucket_view.sizes() = [1, 512], strides() = [512, 1] (Triggered internally at ../torch/csrc/distributed/c10d/reducer.cpp:325.)\n",
      "(RayTrainWorker pid=417, ip=10.0.17.31)   Variable._execution_engine.run_backward(  # Calls into the C++ engine to run the backward pass\n",
      "(RayTrainWorker pid=235, ip=10.0.45.178) /home/ray/anaconda3/lib/python3.10/site-packages/torch/autograd/__init__.py:197: UserWarning: Grad strides do not match bucket view strides. This may indicate grad was not created according to the gradient layout contract, or that the param's strides changed since DDP was constructed.  This is not an error, but may impair performance.\n",
      "(RayTrainWorker pid=235, ip=10.0.45.178) grad.sizes() = [1, 512], strides() = [1, 1]\n",
      "(RayTrainWorker pid=235, ip=10.0.45.178) bucket_view.sizes() = [1, 512], strides() = [512, 1] (Triggered internally at ../torch/csrc/distributed/c10d/reducer.cpp:325.)\n",
      "(RayTrainWorker pid=235, ip=10.0.45.178)   Variable._execution_engine.run_backward(  # Calls into the C++ engine to run the backward pass\n"
     ]
    },
    {
     "name": "stdout",
     "output_type": "stream",
     "text": [
      "(RayTrainWorker pid=235, ip=10.0.45.178) Loss: 66.75837707519531\n",
      "(RayTrainWorker pid=417, ip=10.0.17.31) Loss: 66.7209243774414\n"
     ]
    },
    {
     "name": "stderr",
     "output_type": "stream",
     "text": [
      "(RayTrainWorker pid=235, ip=10.0.45.178) /home/ray/anaconda3/lib/python3.10/site-packages/torch/nn/modules/rnn.py:777: UserWarning: RNN module weights are not part of single contiguous chunk of memory. This means they need to be compacted at every call, possibly greatly increasing memory usage. To compact weights again call flatten_parameters(). (Triggered internally at ../aten/src/ATen/native/cudnn/RNN.cpp:968.)\n",
      "(RayTrainWorker pid=235, ip=10.0.45.178)   result = _VF.lstm(input, batch_sizes, hx, self._flat_weights, self.bias,\n",
      "(RayTrainWorker pid=417, ip=10.0.17.31) /home/ray/anaconda3/lib/python3.10/site-packages/torch/nn/modules/rnn.py:777: UserWarning: RNN module weights are not part of single contiguous chunk of memory. This means they need to be compacted at every call, possibly greatly increasing memory usage. To compact weights again call flatten_parameters(). (Triggered internally at ../aten/src/ATen/native/cudnn/RNN.cpp:968.)\n",
      "(RayTrainWorker pid=417, ip=10.0.17.31)   result = _VF.lstm(input, batch_sizes, hx, self._flat_weights, self.bias,\n"
     ]
    },
    {
     "name": "stdout",
     "output_type": "stream",
     "text": [
      "(RayTrainWorker pid=417, ip=10.0.17.31) Loss: 5.840334415435791\n",
      "(RayTrainWorker pid=235, ip=10.0.45.178) Loss: 5.75288200378418\n"
     ]
    },
    {
     "name": "stderr",
     "output_type": "stream",
     "text": [
      "(RayTrainWorker pid=235, ip=10.0.45.178) /home/ray/anaconda3/lib/python3.10/site-packages/torch/nn/modules/rnn.py:777: UserWarning: RNN module weights are not part of single contiguous chunk of memory. This means they need to be compacted at every call, possibly greatly increasing memory usage. To compact weights again call flatten_parameters(). (Triggered internally at ../aten/src/ATen/native/cudnn/RNN.cpp:968.)\n",
      "(RayTrainWorker pid=235, ip=10.0.45.178)   result = _VF.lstm(input, batch_sizes, hx, self._flat_weights, self.bias,\n",
      "(RayTrainWorker pid=417, ip=10.0.17.31) /home/ray/anaconda3/lib/python3.10/site-packages/torch/nn/modules/rnn.py:777: UserWarning: RNN module weights are not part of single contiguous chunk of memory. This means they need to be compacted at every call, possibly greatly increasing memory usage. To compact weights again call flatten_parameters(). (Triggered internally at ../aten/src/ATen/native/cudnn/RNN.cpp:968.)\n",
      "(RayTrainWorker pid=417, ip=10.0.17.31)   result = _VF.lstm(input, batch_sizes, hx, self._flat_weights, self.bias,\n"
     ]
    },
    {
     "name": "stdout",
     "output_type": "stream",
     "text": [
      "(RayTrainWorker pid=417, ip=10.0.17.31) Loss: 5.8561625480651855\n",
      "(RayTrainWorker pid=235, ip=10.0.45.178) Loss: 5.837704658508301\n"
     ]
    },
    {
     "name": "stderr",
     "output_type": "stream",
     "text": [
      "(RayTrainWorker pid=235, ip=10.0.45.178) /home/ray/anaconda3/lib/python3.10/site-packages/torch/nn/modules/rnn.py:777: UserWarning: RNN module weights are not part of single contiguous chunk of memory. This means they need to be compacted at every call, possibly greatly increasing memory usage. To compact weights again call flatten_parameters(). (Triggered internally at ../aten/src/ATen/native/cudnn/RNN.cpp:968.)\n",
      "(RayTrainWorker pid=235, ip=10.0.45.178)   result = _VF.lstm(input, batch_sizes, hx, self._flat_weights, self.bias,\n",
      "(RayTrainWorker pid=417, ip=10.0.17.31) /home/ray/anaconda3/lib/python3.10/site-packages/torch/nn/modules/rnn.py:777: UserWarning: RNN module weights are not part of single contiguous chunk of memory. This means they need to be compacted at every call, possibly greatly increasing memory usage. To compact weights again call flatten_parameters(). (Triggered internally at ../aten/src/ATen/native/cudnn/RNN.cpp:968.)\n",
      "(RayTrainWorker pid=417, ip=10.0.17.31)   result = _VF.lstm(input, batch_sizes, hx, self._flat_weights, self.bias,\n"
     ]
    },
    {
     "name": "stdout",
     "output_type": "stream",
     "text": [
      "(RayTrainWorker pid=235, ip=10.0.45.178) Loss: 5.733274459838867\n",
      "(RayTrainWorker pid=417, ip=10.0.17.31) Loss: 5.9500956535339355\n"
     ]
    },
    {
     "name": "stderr",
     "output_type": "stream",
     "text": [
      "2023-03-07 16:23:53,988\tWARNING tune.py:150 -- Stop signal received (e.g. via SIGINT/Ctrl+C), ending Ray Tune run. This will try to checkpoint the experiment state one last time. Press CTRL+C (or send SIGINT/SIGKILL/SIGTERM) to skip. \n",
      "2023-03-07 16:23:56,613\tERROR tune.py:821 -- Trials did not complete: [TorchTrainer_d9af1_00000]\n",
      "2023-03-07 16:23:56,614\tINFO tune.py:825 -- Total run time: 285.09 seconds (283.31 seconds for the tuning loop).\n",
      "2023-03-07 16:23:56,614\tWARNING tune.py:831 -- Experiment has been interrupted, but the most recent state was saved. You can continue running this experiment by passing `resume=True` to `tune.run()`\n",
      "(TorchTrainer pid=5550, ip=10.0.46.245) 2023-03-07 16:23:56,616\tINFO utils.py:57 -- Worker 1 has failed.\n"
     ]
    }
   ],
   "source": []
  },
  {
   "cell_type": "code",
   "execution_count": null,
   "id": "6e8aabd1",
   "metadata": {},
   "outputs": [],
   "source": []
  },
  {
   "cell_type": "code",
   "execution_count": 6,
   "id": "3829106e",
   "metadata": {},
   "outputs": [],
   "source": []
  },
  {
   "cell_type": "code",
   "execution_count": 7,
   "id": "3dcae56d",
   "metadata": {},
   "outputs": [],
   "source": [
    "import os\n",
    "os.environ[\n",
    "        \"TORCH_DISTRIBUTED_DEBUG\"\n",
    "    ] = \"DETAIL\""
   ]
  },
  {
   "cell_type": "code",
   "execution_count": 8,
   "id": "5083023f",
   "metadata": {},
   "outputs": [
    {
     "data": {
      "text/html": [
       "<div class=\"tuneStatus\">\n",
       "  <div style=\"display: flex;flex-direction: row\">\n",
       "    <div style=\"display: flex;flex-direction: column;\">\n",
       "      <h3>Tune Status</h3>\n",
       "      <table>\n",
       "<tbody>\n",
       "<tr><td>Current time:</td><td>2023-03-07 15:42:30</td></tr>\n",
       "<tr><td>Running for: </td><td>00:32:54.52        </td></tr>\n",
       "<tr><td>Memory:      </td><td>5.6/15.3 GiB       </td></tr>\n",
       "</tbody>\n",
       "</table>\n",
       "    </div>\n",
       "    <div class=\"vDivider\"></div>\n",
       "    <div class=\"systemInfo\">\n",
       "      <h3>System Info</h3>\n",
       "      Using FIFO scheduling algorithm.<br>Resources requested: 0/24 CPUs, 0/2 GPUs, 0.0/61.09 GiB heap, 0.0/26.77 GiB objects (0.0/2.0 accelerator_type:T4)\n",
       "    </div>\n",
       "    <div class=\"vDivider\"></div>\n",
       "<div class=\"messages\">\n",
       "  <h3>Messages</h3>\n",
       "  \n",
       "  \n",
       "  Number of errored trials: 1<br><table>\n",
       "<thead>\n",
       "<tr><th>Trial name              </th><th style=\"text-align: right;\">  # failures</th><th>error file                                                                                                     </th></tr>\n",
       "</thead>\n",
       "<tbody>\n",
       "<tr><td>TorchTrainer_209d8_00000</td><td style=\"text-align: right;\">           1</td><td>/home/ray/ray_results/TorchTrainer_2023-03-07_15-09-35/TorchTrainer_209d8_00000_0_2023-03-07_15-09-37/error.txt</td></tr>\n",
       "</tbody>\n",
       "</table>\n",
       "</div>\n",
       "<style>\n",
       ".messages {\n",
       "  color: var(--jp-ui-font-color1);\n",
       "  display: flex;\n",
       "  flex-direction: column;\n",
       "  padding-left: 1em;\n",
       "  overflow-y: auto;\n",
       "}\n",
       ".messages h3 {\n",
       "  font-weight: bold;\n",
       "}\n",
       ".vDivider {\n",
       "  border-left-width: var(--jp-border-width);\n",
       "  border-left-color: var(--jp-border-color0);\n",
       "  border-left-style: solid;\n",
       "  margin: 0.5em 1em 0.5em 1em;\n",
       "}\n",
       "</style>\n",
       "\n",
       "  </div>\n",
       "  <div class=\"hDivider\"></div>\n",
       "  <div class=\"trialStatus\">\n",
       "    <h3>Trial Status</h3>\n",
       "    <table>\n",
       "<thead>\n",
       "<tr><th>Trial name              </th><th>status  </th><th>loc            </th></tr>\n",
       "</thead>\n",
       "<tbody>\n",
       "<tr><td>TorchTrainer_209d8_00000</td><td>ERROR   </td><td>10.0.48.48:3738</td></tr>\n",
       "</tbody>\n",
       "</table>\n",
       "  </div>\n",
       "</div>\n",
       "<style>\n",
       ".tuneStatus {\n",
       "  color: var(--jp-ui-font-color1);\n",
       "}\n",
       ".tuneStatus .systemInfo {\n",
       "  display: flex;\n",
       "  flex-direction: column;\n",
       "}\n",
       ".tuneStatus td {\n",
       "  white-space: nowrap;\n",
       "}\n",
       ".tuneStatus .trialStatus {\n",
       "  display: flex;\n",
       "  flex-direction: column;\n",
       "}\n",
       ".tuneStatus h3 {\n",
       "  font-weight: bold;\n",
       "}\n",
       ".tuneStatus .hDivider {\n",
       "  border-bottom-width: var(--jp-border-width);\n",
       "  border-bottom-color: var(--jp-border-color0);\n",
       "  border-bottom-style: solid;\n",
       "}\n",
       ".tuneStatus .vDivider {\n",
       "  border-left-width: var(--jp-border-width);\n",
       "  border-left-color: var(--jp-border-color0);\n",
       "  border-left-style: solid;\n",
       "  margin: 0.5em 1em 0.5em 1em;\n",
       "}\n",
       "</style>\n"
      ],
      "text/plain": [
       "<IPython.core.display.HTML object>"
      ]
     },
     "metadata": {},
     "output_type": "display_data"
    },
    {
     "name": "stderr",
     "output_type": "stream",
     "text": [
      "(RayTrainWorker pid=303, ip=10.0.5.7) 2023-03-07 15:09:46,491\tINFO config.py:86 -- Setting up process group for: env:// [rank=0, world_size=2]\n",
      "(TorchTrainer pid=3738, ip=10.0.48.48) 2023-03-07 15:09:46,610\tINFO bulk_executor.py:41 -- Executing DAG InputDataBuffer[Input] -> TaskPoolMapOperator[MapBatches(<lambda>)] -> AllToAllOperator[zip] -> AllToAllOperator[zip] -> AllToAllOperator[zip] -> TaskPoolMapOperator[MapBatches(<lambda>)] -> AllToAllOperator[randomize_block_order]\n",
      "(TorchTrainer pid=3738, ip=10.0.48.48) 2023-03-07 15:09:49,880\tINFO bulk_executor.py:41 -- Executing DAG InputDataBuffer[Input] -> TaskPoolMapOperator[read] -> TaskPoolMapOperator[MapBatches(<lambda>)]\n",
      "(TorchTrainer pid=3738, ip=10.0.48.48) 2023-03-07 15:09:55,809\tWARNING plan.py:528 -- Warning: The Ray cluster currently does not have any available CPUs. The Dataset job will hang unless more CPUs are freed up. A common reason is that cluster resources are used by Actors or Tune trials; see the following link for more details: https://docs.ray.io/en/master/data/dataset-internals.html#datasets-and-tune\n",
      "(TorchTrainer pid=3738, ip=10.0.48.48) 2023-03-07 15:09:55,809\tINFO bulk_executor.py:41 -- Executing DAG InputDataBuffer[Input] -> TaskPoolMapOperator[MapBatches(<lambda>)]\n",
      "(TorchTrainer pid=3738, ip=10.0.48.48) 2023-03-07 15:09:55,955\tINFO bulk_executor.py:41 -- Executing DAG InputDataBuffer[Input] -> TaskPoolMapOperator[MapBatches(<lambda>)]\n"
     ]
    },
    {
     "name": "stdout",
     "output_type": "stream",
     "text": [
      "(autoscaler +26s) Tip: use `ray status` to view detailed cluster status. To disable these messages, set RAY_SCHEDULER_EVENTS=0.\n",
      "(autoscaler +26s) Adding 5 node(s) of type worker-node-type-0.\n"
     ]
    },
    {
     "name": "stderr",
     "output_type": "stream",
     "text": [
      "(TorchTrainer pid=3738, ip=10.0.48.48) /home/ray/anaconda3/lib/python3.10/site-packages/ray/train/_internal/dataset_iterator.py:64: UserWarning: session.get_dataset_shard returns a ray.data.DatasetIterator instead of a Dataset/DatasetPipeline as of Ray v2.3. Use iter_torch_batches(), to_tf(), or iter_batches() to iterate over one epoch. See https://docs.ray.io/en/latest/data/api/dataset_iterator.html for full DatasetIterator docs.\n",
      "(TorchTrainer pid=3738, ip=10.0.48.48)   warnings.warn(\n",
      "(RayTrainWorker pid=1124519) wandb: Currently logged in as: uberduck. Use `wandb login --relogin` to force relogin\n",
      "(RayTrainWorker pid=303, ip=10.0.5.7) wandb: Currently logged in as: uberduck. Use `wandb login --relogin` to force relogin\n",
      "(RayTrainWorker pid=1124519) wandb: wandb version 0.13.11 is available!  To upgrade, please run:\n",
      "(RayTrainWorker pid=1124519) wandb:  $ pip install wandb --upgrade\n",
      "(RayTrainWorker pid=1124519) wandb: Tracking run with wandb version 0.13.10\n",
      "(RayTrainWorker pid=1124519) wandb: Run data is saved locally in /home/ray/ray_results/TorchTrainer_2023-03-07_15-09-35/TorchTrainer_209d8_00000_0_2023-03-07_15-09-37/rank_1/wandb/run-20230307_151001-209d8_00000\n",
      "(RayTrainWorker pid=1124519) wandb: Run `wandb offline` to turn off syncing.\n",
      "(RayTrainWorker pid=1124519) wandb: Syncing run TorchTrainer_209d8_00000\n",
      "(RayTrainWorker pid=1124519) wandb: ⭐️ View project at https://wandb.ai/uberduck/radtts-ray\n",
      "(RayTrainWorker pid=1124519) wandb: 🚀 View run at https://wandb.ai/uberduck/radtts-ray/runs/209d8_00000\n"
     ]
    },
    {
     "name": "stdout",
     "output_type": "stream",
     "text": [
      "(RayTrainWorker pid=1124519) CUDA AVAILABLE:  True\n",
      "(RayTrainWorker pid=1124519) Applying spectral norm to text encoder LSTM\n"
     ]
    },
    {
     "name": "stderr",
     "output_type": "stream",
     "text": [
      "(RayTrainWorker pid=1124519) /tmp/ray/session_2023-03-06_08-59-42_925397_141/runtime_resources/working_dir_files/_ray_pkg_eccc6979c79037b7d167507f1405cae4/uberduck_ml_dev/models/common.py:1516: UserWarning: torch.qr is deprecated in favor of torch.linalg.qr and will be removed in a future PyTorch release.\n",
      "(RayTrainWorker pid=1124519) The boolean parameter 'some' has been replaced with a string parameter 'mode'.\n",
      "(RayTrainWorker pid=1124519) Q, R = torch.qr(A, some)\n",
      "(RayTrainWorker pid=1124519) should be replaced with\n",
      "(RayTrainWorker pid=1124519) Q, R = torch.linalg.qr(A, 'reduced' if some else 'complete') (Triggered internally at ../aten/src/ATen/native/BatchLinearAlgebra.cpp:2349.)\n",
      "(RayTrainWorker pid=1124519)   W = torch.qr(torch.FloatTensor(c, c).normal_())[0]\n",
      "(RayTrainWorker pid=1124519) /home/ray/anaconda3/lib/python3.10/site-packages/torch/functional.py:1682: UserWarning: torch.lu is deprecated in favor of torch.linalg.lu_factor / torch.linalg.lu_factor_ex and will be removed in a future PyTorch release.\n",
      "(RayTrainWorker pid=1124519) LU, pivots = torch.lu(A, compute_pivots)\n",
      "(RayTrainWorker pid=1124519) should be replaced with\n",
      "(RayTrainWorker pid=1124519) LU, pivots = torch.linalg.lu_factor(A, compute_pivots)\n",
      "(RayTrainWorker pid=1124519) and\n",
      "(RayTrainWorker pid=1124519) LU, pivots, info = torch.lu(A, compute_pivots, get_infos=True)\n",
      "(RayTrainWorker pid=1124519) should be replaced with\n",
      "(RayTrainWorker pid=1124519) LU, pivots, info = torch.linalg.lu_factor_ex(A, compute_pivots) (Triggered internally at ../aten/src/ATen/native/BatchLinearAlgebra.cpp:1915.)\n",
      "(RayTrainWorker pid=1124519)   return torch._lu_with_info(A, pivot=pivot, check_errors=(not get_infos))\n"
     ]
    },
    {
     "name": "stdout",
     "output_type": "stream",
     "text": [
      "(RayTrainWorker pid=1124519) Applying spectral norm to context encoder LSTM\n",
      "(RayTrainWorker pid=303, ip=10.0.5.7) CUDA AVAILABLE:  True\n"
     ]
    },
    {
     "name": "stderr",
     "output_type": "stream",
     "text": [
      "(RayTrainWorker pid=303, ip=10.0.5.7) wandb: wandb version 0.13.11 is available!  To upgrade, please run:\n",
      "(RayTrainWorker pid=303, ip=10.0.5.7) wandb:  $ pip install wandb --upgrade\n",
      "(RayTrainWorker pid=303, ip=10.0.5.7) wandb: Tracking run with wandb version 0.13.10\n",
      "(RayTrainWorker pid=303, ip=10.0.5.7) wandb: Run data is saved locally in /home/ray/ray_results/TorchTrainer_2023-03-07_15-09-35/TorchTrainer_209d8_00000_0_2023-03-07_15-09-37/rank_0/wandb/run-20230307_151002-209d8_00000\n",
      "(RayTrainWorker pid=303, ip=10.0.5.7) wandb: Run `wandb offline` to turn off syncing.\n",
      "(RayTrainWorker pid=303, ip=10.0.5.7) wandb: Syncing run TorchTrainer_209d8_00000\n",
      "(RayTrainWorker pid=303, ip=10.0.5.7) wandb: ⭐️ View project at https://wandb.ai/uberduck/radtts-ray\n",
      "(RayTrainWorker pid=303, ip=10.0.5.7) wandb: 🚀 View run at https://wandb.ai/uberduck/radtts-ray/runs/209d8_00000\n"
     ]
    },
    {
     "name": "stdout",
     "output_type": "stream",
     "text": [
      "(RayTrainWorker pid=303, ip=10.0.5.7) Applying spectral norm to text encoder LSTM\n",
      "(RayTrainWorker pid=303, ip=10.0.5.7) Applying spectral norm to context encoder LSTM\n"
     ]
    },
    {
     "name": "stderr",
     "output_type": "stream",
     "text": [
      "(RayTrainWorker pid=303, ip=10.0.5.7) /tmp/ray/session_2023-03-06_08-59-42_925397_141/runtime_resources/working_dir_files/_ray_pkg_eccc6979c79037b7d167507f1405cae4/uberduck_ml_dev/models/common.py:1516: UserWarning: torch.qr is deprecated in favor of torch.linalg.qr and will be removed in a future PyTorch release.\n",
      "(RayTrainWorker pid=303, ip=10.0.5.7) The boolean parameter 'some' has been replaced with a string parameter 'mode'.\n",
      "(RayTrainWorker pid=303, ip=10.0.5.7) Q, R = torch.qr(A, some)\n",
      "(RayTrainWorker pid=303, ip=10.0.5.7) should be replaced with\n",
      "(RayTrainWorker pid=303, ip=10.0.5.7) Q, R = torch.linalg.qr(A, 'reduced' if some else 'complete') (Triggered internally at ../aten/src/ATen/native/BatchLinearAlgebra.cpp:2349.)\n",
      "(RayTrainWorker pid=303, ip=10.0.5.7)   W = torch.qr(torch.FloatTensor(c, c).normal_())[0]\n",
      "(RayTrainWorker pid=303, ip=10.0.5.7) /home/ray/anaconda3/lib/python3.10/site-packages/torch/functional.py:1682: UserWarning: torch.lu is deprecated in favor of torch.linalg.lu_factor / torch.linalg.lu_factor_ex and will be removed in a future PyTorch release.\n",
      "(RayTrainWorker pid=303, ip=10.0.5.7) LU, pivots = torch.lu(A, compute_pivots)\n",
      "(RayTrainWorker pid=303, ip=10.0.5.7) should be replaced with\n",
      "(RayTrainWorker pid=303, ip=10.0.5.7) LU, pivots = torch.linalg.lu_factor(A, compute_pivots)\n",
      "(RayTrainWorker pid=303, ip=10.0.5.7) and\n",
      "(RayTrainWorker pid=303, ip=10.0.5.7) LU, pivots, info = torch.lu(A, compute_pivots, get_infos=True)\n",
      "(RayTrainWorker pid=303, ip=10.0.5.7) should be replaced with\n",
      "(RayTrainWorker pid=303, ip=10.0.5.7) LU, pivots, info = torch.linalg.lu_factor_ex(A, compute_pivots) (Triggered internally at ../aten/src/ATen/native/BatchLinearAlgebra.cpp:1915.)\n",
      "(RayTrainWorker pid=303, ip=10.0.5.7)   return torch._lu_with_info(A, pivot=pivot, check_errors=(not get_infos))\n",
      "(RayTrainWorker pid=1124519) 2023-03-07 15:10:19,948\tINFO train_loop_utils.py:307 -- Moving model to device: cuda:0\n",
      "(RayTrainWorker pid=303, ip=10.0.5.7) 2023-03-07 15:10:20,219\tINFO train_loop_utils.py:307 -- Moving model to device: cuda:0\n",
      "(RayTrainWorker pid=1124519) 2023-03-07 15:10:21,843\tINFO train_loop_utils.py:367 -- Wrapping provided model in DistributedDataParallel.\n",
      "(RayTrainWorker pid=303, ip=10.0.5.7) 2023-03-07 15:10:22,005\tINFO train_loop_utils.py:367 -- Wrapping provided model in DistributedDataParallel.\n",
      "(RayTrainWorker pid=1124519) /tmp/ray/session_2023-03-06_08-59-42_925397_141/runtime_resources/working_dir_files/_ray_pkg_eccc6979c79037b7d167507f1405cae4/uberduck_ml_dev/exec/train_radtts_with_ray.py:492: UserWarning: The given NumPy array is not writable, and PyTorch does not support non-writable tensors. This means writing to this tensor will result in undefined behavior. You may want to copy the array to protect its data or make it writable before converting it to a tensor. This type of warning will be suppressed for the rest of this program. (Triggered internally at ../torch/csrc/utils/tensor_numpy.cpp:199.)\n",
      "(RayTrainWorker pid=1124519)   audio = torch.FloatTensor(wav_data)\n",
      "(RayTrainWorker pid=303, ip=10.0.5.7) /tmp/ray/session_2023-03-06_08-59-42_925397_141/runtime_resources/working_dir_files/_ray_pkg_eccc6979c79037b7d167507f1405cae4/uberduck_ml_dev/exec/train_radtts_with_ray.py:492: UserWarning: The given NumPy array is not writable, and PyTorch does not support non-writable tensors. This means writing to this tensor will result in undefined behavior. You may want to copy the array to protect its data or make it writable before converting it to a tensor. This type of warning will be suppressed for the rest of this program. (Triggered internally at ../torch/csrc/utils/tensor_numpy.cpp:199.)\n",
      "(RayTrainWorker pid=303, ip=10.0.5.7)   audio = torch.FloatTensor(wav_data)\n",
      "(RayTrainWorker pid=303, ip=10.0.5.7) /home/ray/anaconda3/lib/python3.10/site-packages/torch/nn/modules/rnn.py:777: UserWarning: RNN module weights are not part of single contiguous chunk of memory. This means they need to be compacted at every call, possibly greatly increasing memory usage. To compact weights again call flatten_parameters(). (Triggered internally at ../aten/src/ATen/native/cudnn/RNN.cpp:968.)\n",
      "(RayTrainWorker pid=303, ip=10.0.5.7)   result = _VF.lstm(input, batch_sizes, hx, self._flat_weights, self.bias,\n",
      "(raylet, ip=10.0.14.59) /home/ray/anaconda3/lib/python3.10/site-packages/ray/dashboard/agent.py:51: DeprecationWarning: There is no current event loop\n",
      "(raylet, ip=10.0.14.59)   aiogrpc.init_grpc_aio()\n",
      "(raylet, ip=10.0.12.220) /home/ray/anaconda3/lib/python3.10/site-packages/ray/dashboard/agent.py:51: DeprecationWarning: There is no current event loop\n",
      "(raylet, ip=10.0.12.220)   aiogrpc.init_grpc_aio()\n",
      "(raylet, ip=10.0.57.173) /home/ray/anaconda3/lib/python3.10/site-packages/ray/dashboard/agent.py:51: DeprecationWarning: There is no current event loop\n",
      "(raylet, ip=10.0.57.173)   aiogrpc.init_grpc_aio()\n",
      "(RayTrainWorker pid=1124519) /home/ray/anaconda3/lib/python3.10/site-packages/torch/nn/modules/rnn.py:777: UserWarning: RNN module weights are not part of single contiguous chunk of memory. This means they need to be compacted at every call, possibly greatly increasing memory usage. To compact weights again call flatten_parameters(). (Triggered internally at ../aten/src/ATen/native/cudnn/RNN.cpp:968.)\n",
      "(RayTrainWorker pid=1124519)   result = _VF.lstm(input, batch_sizes, hx, self._flat_weights, self.bias,\n"
     ]
    },
    {
     "name": "stdout",
     "output_type": "stream",
     "text": [
      "(autoscaler +1m22s) Resized to 136 CPUs, 2 GPUs.\n"
     ]
    },
    {
     "name": "stderr",
     "output_type": "stream",
     "text": [
      "(raylet, ip=10.0.21.18) /home/ray/anaconda3/lib/python3.10/site-packages/ray/dashboard/agent.py:51: DeprecationWarning: There is no current event loop\n",
      "(raylet, ip=10.0.21.18)   aiogrpc.init_grpc_aio()\n",
      "(raylet, ip=10.0.55.4) /home/ray/anaconda3/lib/python3.10/site-packages/ray/dashboard/agent.py:51: DeprecationWarning: There is no current event loop\n",
      "(raylet, ip=10.0.55.4)   aiogrpc.init_grpc_aio()\n"
     ]
    },
    {
     "name": "stdout",
     "output_type": "stream",
     "text": [
      "(RayTrainWorker pid=303, ip=10.0.5.7) Loss: 66.58922576904297\n"
     ]
    },
    {
     "name": "stderr",
     "output_type": "stream",
     "text": [
      "(RayTrainWorker pid=303, ip=10.0.5.7) /home/ray/anaconda3/lib/python3.10/site-packages/torch/autograd/__init__.py:197: UserWarning: Grad strides do not match bucket view strides. This may indicate grad was not created according to the gradient layout contract, or that the param's strides changed since DDP was constructed.  This is not an error, but may impair performance.\n",
      "(RayTrainWorker pid=303, ip=10.0.5.7) grad.sizes() = [1, 512], strides() = [1, 1]\n",
      "(RayTrainWorker pid=303, ip=10.0.5.7) bucket_view.sizes() = [1, 512], strides() = [512, 1] (Triggered internally at ../torch/csrc/distributed/c10d/reducer.cpp:325.)\n",
      "(RayTrainWorker pid=303, ip=10.0.5.7)   Variable._execution_engine.run_backward(  # Calls into the C++ engine to run the backward pass\n",
      "(RayTrainWorker pid=303, ip=10.0.5.7) /home/ray/anaconda3/lib/python3.10/site-packages/torch/optim/lr_scheduler.py:138: UserWarning: Detected call of `lr_scheduler.step()` before `optimizer.step()`. In PyTorch 1.1.0 and later, you should call them in the opposite order: `optimizer.step()` before `lr_scheduler.step()`.  Failure to do this will result in PyTorch skipping the first value of the learning rate schedule. See more details at https://pytorch.org/docs/stable/optim.html#how-to-adjust-learning-rate\n",
      "(RayTrainWorker pid=303, ip=10.0.5.7)   warnings.warn(\"Detected call of `lr_scheduler.step()` before `optimizer.step()`. \"\n",
      "(RayTrainWorker pid=1124519) /home/ray/anaconda3/lib/python3.10/site-packages/torch/autograd/__init__.py:197: UserWarning: Grad strides do not match bucket view strides. This may indicate grad was not created according to the gradient layout contract, or that the param's strides changed since DDP was constructed.  This is not an error, but may impair performance.\n",
      "(RayTrainWorker pid=1124519) grad.sizes() = [1, 512], strides() = [1, 1]\n",
      "(RayTrainWorker pid=1124519) bucket_view.sizes() = [1, 512], strides() = [512, 1] (Triggered internally at ../torch/csrc/distributed/c10d/reducer.cpp:325.)\n",
      "(RayTrainWorker pid=1124519)   Variable._execution_engine.run_backward(  # Calls into the C++ engine to run the backward pass\n",
      "(RayTrainWorker pid=1124519) /home/ray/anaconda3/lib/python3.10/site-packages/torch/optim/lr_scheduler.py:138: UserWarning: Detected call of `lr_scheduler.step()` before `optimizer.step()`. In PyTorch 1.1.0 and later, you should call them in the opposite order: `optimizer.step()` before `lr_scheduler.step()`.  Failure to do this will result in PyTorch skipping the first value of the learning rate schedule. See more details at https://pytorch.org/docs/stable/optim.html#how-to-adjust-learning-rate\n",
      "(RayTrainWorker pid=1124519)   warnings.warn(\"Detected call of `lr_scheduler.step()` before `optimizer.step()`. \"\n"
     ]
    },
    {
     "name": "stdout",
     "output_type": "stream",
     "text": [
      "(RayTrainWorker pid=1124519) Loss: 66.71593475341797\n",
      "(autoscaler +1m26s) Resized to 184 CPUs, 2 GPUs.\n"
     ]
    },
    {
     "name": "stderr",
     "output_type": "stream",
     "text": [
      "(RayTrainWorker pid=1124519) /home/ray/anaconda3/lib/python3.10/site-packages/torch/nn/modules/rnn.py:777: UserWarning: RNN module weights are not part of single contiguous chunk of memory. This means they need to be compacted at every call, possibly greatly increasing memory usage. To compact weights again call flatten_parameters(). (Triggered internally at ../aten/src/ATen/native/cudnn/RNN.cpp:968.)\n",
      "(RayTrainWorker pid=1124519)   result = _VF.lstm(input, batch_sizes, hx, self._flat_weights, self.bias,\n",
      "(RayTrainWorker pid=303, ip=10.0.5.7) /home/ray/anaconda3/lib/python3.10/site-packages/torch/nn/modules/rnn.py:777: UserWarning: RNN module weights are not part of single contiguous chunk of memory. This means they need to be compacted at every call, possibly greatly increasing memory usage. To compact weights again call flatten_parameters(). (Triggered internally at ../aten/src/ATen/native/cudnn/RNN.cpp:968.)\n",
      "(RayTrainWorker pid=303, ip=10.0.5.7)   result = _VF.lstm(input, batch_sizes, hx, self._flat_weights, self.bias,\n"
     ]
    },
    {
     "name": "stdout",
     "output_type": "stream",
     "text": [
      "(RayTrainWorker pid=303, ip=10.0.5.7) Loss: 66.75285339355469\n",
      "(RayTrainWorker pid=1124519) Loss: 66.76640319824219\n"
     ]
    },
    {
     "name": "stderr",
     "output_type": "stream",
     "text": [
      "(RayTrainWorker pid=1124519) /home/ray/anaconda3/lib/python3.10/site-packages/torch/nn/modules/rnn.py:777: UserWarning: RNN module weights are not part of single contiguous chunk of memory. This means they need to be compacted at every call, possibly greatly increasing memory usage. To compact weights again call flatten_parameters(). (Triggered internally at ../aten/src/ATen/native/cudnn/RNN.cpp:968.)\n",
      "(RayTrainWorker pid=1124519)   result = _VF.lstm(input, batch_sizes, hx, self._flat_weights, self.bias,\n",
      "(RayTrainWorker pid=303, ip=10.0.5.7) /home/ray/anaconda3/lib/python3.10/site-packages/torch/nn/modules/rnn.py:777: UserWarning: RNN module weights are not part of single contiguous chunk of memory. This means they need to be compacted at every call, possibly greatly increasing memory usage. To compact weights again call flatten_parameters(). (Triggered internally at ../aten/src/ATen/native/cudnn/RNN.cpp:968.)\n",
      "(RayTrainWorker pid=303, ip=10.0.5.7)   result = _VF.lstm(input, batch_sizes, hx, self._flat_weights, self.bias,\n"
     ]
    },
    {
     "name": "stdout",
     "output_type": "stream",
     "text": [
      "(RayTrainWorker pid=303, ip=10.0.5.7) Loss: 66.75389099121094\n",
      "(RayTrainWorker pid=1124519) Loss: 66.77154541015625\n"
     ]
    },
    {
     "name": "stderr",
     "output_type": "stream",
     "text": [
      "(RayTrainWorker pid=303, ip=10.0.5.7) /home/ray/anaconda3/lib/python3.10/site-packages/torch/nn/modules/rnn.py:777: UserWarning: RNN module weights are not part of single contiguous chunk of memory. This means they need to be compacted at every call, possibly greatly increasing memory usage. To compact weights again call flatten_parameters(). (Triggered internally at ../aten/src/ATen/native/cudnn/RNN.cpp:968.)\n",
      "(RayTrainWorker pid=303, ip=10.0.5.7)   result = _VF.lstm(input, batch_sizes, hx, self._flat_weights, self.bias,\n",
      "(RayTrainWorker pid=1124519) /home/ray/anaconda3/lib/python3.10/site-packages/torch/nn/modules/rnn.py:777: UserWarning: RNN module weights are not part of single contiguous chunk of memory. This means they need to be compacted at every call, possibly greatly increasing memory usage. To compact weights again call flatten_parameters(). (Triggered internally at ../aten/src/ATen/native/cudnn/RNN.cpp:968.)\n",
      "(RayTrainWorker pid=1124519)   result = _VF.lstm(input, batch_sizes, hx, self._flat_weights, self.bias,\n"
     ]
    },
    {
     "name": "stdout",
     "output_type": "stream",
     "text": [
      "(RayTrainWorker pid=303, ip=10.0.5.7) Loss: 66.65056610107422\n",
      "(RayTrainWorker pid=1124519) Loss: 66.45819854736328\n",
      "(autoscaler +6m24s) Removing 2 nodes of type worker-node-type-0 (idle).\n",
      "(autoscaler +6m28s) Removing 5 nodes of type worker-node-type-0 (idle).\n",
      "(autoscaler +6m34s) Removing 5 nodes of type worker-node-type-0 (idle).\n",
      "(autoscaler +6m38s) Removing 5 nodes of type worker-node-type-0 (idle).\n",
      "(autoscaler +6m44s) Removing 5 nodes of type worker-node-type-0 (idle).\n",
      "(autoscaler +6m48s) Removing 5 nodes of type worker-node-type-0 (idle).\n",
      "(autoscaler +6m54s) Removing 5 nodes of type worker-node-type-0 (idle).\n",
      "(autoscaler +6m59s) Removing 5 nodes of type worker-node-type-0 (idle).\n",
      "(autoscaler +7m4s) Removing 5 nodes of type worker-node-type-0 (idle).\n",
      "(autoscaler +7m8s) Removing 5 nodes of type worker-node-type-0 (idle).\n",
      "(autoscaler +7m14s) Removing 5 nodes of type worker-node-type-0 (idle).\n",
      "(autoscaler +7m18s) Removing 5 nodes of type worker-node-type-0 (idle).\n",
      "(autoscaler +7m24s) Removing 5 nodes of type worker-node-type-0 (idle).\n",
      "(autoscaler +7m29s) Removing 5 nodes of type worker-node-type-0 (idle).\n",
      "(autoscaler +7m34s) Removing 5 nodes of type worker-node-type-0 (idle).\n",
      "(autoscaler +7m39s) Removing 5 nodes of type worker-node-type-0 (idle).\n",
      "(autoscaler +7m44s) Removing 5 nodes of type worker-node-type-0 (idle).\n",
      "(autoscaler +7m49s) Removing 5 nodes of type worker-node-type-0 (idle).\n",
      "(autoscaler +7m54s) Removing 5 nodes of type worker-node-type-0 (idle).\n",
      "(autoscaler +7m59s) Removing 1 nodes of type worker-node-type-0 (idle).\n",
      "(autoscaler +8m4s) Resized to 120 CPUs, 2 GPUs.\n",
      "(autoscaler +8m4s) Removing 1 nodes of type worker-node-type-0 (idle).\n",
      "(autoscaler +8m9s) Removing 1 nodes of type worker-node-type-0 (idle).\n",
      "(autoscaler +8m14s) Removing 1 nodes of type worker-node-type-0 (idle).\n",
      "(autoscaler +8m19s) Removing 1 nodes of type worker-node-type-0 (idle).\n",
      "(autoscaler +8m25s) Removing 1 nodes of type worker-node-type-0 (idle).\n",
      "(autoscaler +8m35s) Resized to 104 CPUs, 2 GPUs.\n"
     ]
    },
    {
     "name": "stderr",
     "output_type": "stream",
     "text": [
      "(RayTrainWorker pid=1124519) [E ProcessGroupNCCL.cpp:821] [Rank 1] Watchdog caught collective operation timeout: WorkNCCL(SeqNum=123, OpType=BROADCAST, Timeout(ms)=1800000) ran for 1800693 milliseconds before timing out.\n",
      "(RayTrainWorker pid=1124519) [E ProcessGroupNCCL.cpp:456] Some NCCL operations have failed or timed out. Due to the asynchronous nature of CUDA kernels, subsequent GPU operations might run on corrupted/incomplete data.\n",
      "(RayTrainWorker pid=1124519) [E ProcessGroupNCCL.cpp:461] To avoid data inconsistency, we are taking the entire process down.\n",
      "(RayTrainWorker pid=1124519) [2023-03-07 15:42:17,362 E 1124519 1124595] logging.cc:97: Unhandled exception: St13runtime_error. what(): [Rank 1] Watchdog caught collective operation timeout: WorkNCCL(SeqNum=123, OpType=BROADCAST, Timeout(ms)=1800000) ran for 1800693 milliseconds before timing out.\n",
      "(RayTrainWorker pid=1124519) /home/ray/anaconda3/lib/python3.10/site-packages/torch/nn/modules/rnn.py:777: UserWarning: RNN module weights are not part of single contiguous chunk of memory. This means they need to be compacted at every call, possibly greatly increasing memory usage. To compact weights again call flatten_parameters(). (Triggered internally at ../aten/src/ATen/native/cudnn/RNN.cpp:968.)\n",
      "(RayTrainWorker pid=1124519)   result = _VF.lstm(input, batch_sizes, hx, self._flat_weights, self.bias,\n",
      "(RayTrainWorker pid=1124519) [2023-03-07 15:42:17,404 E 1124519 1124595] logging.cc:104: Stack trace: \n",
      "(RayTrainWorker pid=1124519)  /home/ray/anaconda3/lib/python3.10/site-packages/ray/_raylet.so(+0xd5105a) [0x7faa7d9ff05a] ray::operator<<()\n",
      "(RayTrainWorker pid=1124519) /home/ray/anaconda3/lib/python3.10/site-packages/ray/_raylet.so(+0xd53818) [0x7faa7da01818] ray::TerminateHandler()\n",
      "(RayTrainWorker pid=1124519) /home/ray/anaconda3/bin/../lib/libstdc++.so.6(+0xb135a) [0x7faa7cb4135a] __cxxabiv1::__terminate()\n",
      "(RayTrainWorker pid=1124519) /home/ray/anaconda3/bin/../lib/libstdc++.so.6(+0xb13c5) [0x7faa7cb413c5]\n",
      "(RayTrainWorker pid=1124519) /home/ray/anaconda3/bin/../lib/libstdc++.so.6(+0xb134f) [0x7faa7cb4134f]\n",
      "(RayTrainWorker pid=1124519) /home/ray/anaconda3/lib/python3.10/site-packages/torch/lib/libtorch_cuda_cpp.so(_ZN4c10d16ProcessGroupNCCL8WorkNCCL15handleNCCLGuardENS_17ErrorHandlingModeE+0x278) [0x7fa8b398f8b8] c10d::ProcessGroupNCCL::WorkNCCL::handleNCCLGuard()\n",
      "(RayTrainWorker pid=1124519) /home/ray/anaconda3/lib/python3.10/site-packages/torch/lib/libtorch_cuda_cpp.so(_ZN4c10d16ProcessGroupNCCL15workCleanupLoopEv+0x19f) [0x7fa8b39938cf] c10d::ProcessGroupNCCL::workCleanupLoop()\n",
      "(RayTrainWorker pid=1124519) /home/ray/anaconda3/bin/../lib/libstdc++.so.6(+0xdbbf4) [0x7faa7cb6bbf4] execute_native_thread_routine\n",
      "(RayTrainWorker pid=1124519) /usr/lib/x86_64-linux-gnu/libpthread.so.0(+0x8609) [0x7faa7e7e0609] start_thread\n",
      "(RayTrainWorker pid=1124519) /usr/lib/x86_64-linux-gnu/libc.so.6(clone+0x43) [0x7faa7e5ab133] __clone\n",
      "(RayTrainWorker pid=1124519) \n",
      "(RayTrainWorker pid=1124519) *** SIGABRT received at time=1678232537 on cpu 2 ***\n",
      "(RayTrainWorker pid=1124519) PC: @     0x7faa7e4cf00b  (unknown)  raise\n",
      "(RayTrainWorker pid=1124519)     @     0x7faa7e7ec420       4016  (unknown)\n",
      "(RayTrainWorker pid=1124519)     @     0x7faa7cb4135a  (unknown)  __cxxabiv1::__terminate()\n",
      "(RayTrainWorker pid=1124519)     @     0x7faa7cb41070  (unknown)  (unknown)\n",
      "(RayTrainWorker pid=1124519) [2023-03-07 15:42:17,406 E 1124519 1124595] logging.cc:361: *** SIGABRT received at time=1678232537 on cpu 2 ***\n",
      "(RayTrainWorker pid=1124519) [2023-03-07 15:42:17,406 E 1124519 1124595] logging.cc:361: PC: @     0x7faa7e4cf00b  (unknown)  raise\n",
      "(RayTrainWorker pid=1124519) [2023-03-07 15:42:17,406 E 1124519 1124595] logging.cc:361:     @     0x7faa7e7ec420       4016  (unknown)\n",
      "(RayTrainWorker pid=1124519) [2023-03-07 15:42:17,406 E 1124519 1124595] logging.cc:361:     @     0x7faa7cb4135a  (unknown)  __cxxabiv1::__terminate()\n",
      "(RayTrainWorker pid=1124519) [2023-03-07 15:42:17,406 E 1124519 1124595] logging.cc:361:     @     0x7faa7cb41070  (unknown)  (unknown)\n",
      "(RayTrainWorker pid=1124519) Fatal Python error: Aborted\n",
      "(RayTrainWorker pid=1124519) \n",
      "(RayTrainWorker pid=1124519) \n",
      "(RayTrainWorker pid=1124519) Extension modules: msgpack._cmsgpack, setproctitle, google.protobuf.pyext._message, psutil._psutil_linux, psutil._psutil_posix, grpc._cython.cygrpc, numpy.core._multiarray_umath, numpy.core._multiarray_tests, numpy.linalg._umath_linalg, numpy.fft._pocketfft_internal, numpy.random._common, numpy.random.bit_generator, numpy.random._bounded_integers, numpy.random._mt19937, numpy.random.mtrand, numpy.random._philox, numpy.random._pcg64, numpy.random._sfc64, numpy.random._generator, yaml._yaml, ray._raylet, _cffi_backend, charset_normalizer.md, lz4._version, lz4.frame._frame, zstandard.backend_c, pyarrow.lib, pyarrow._hdfsio, pyarrow._fs, pyarrow._hdfs, pyarrow._gcsfs, pyarrow._s3fs, pandas._libs.tslibs.np_datetime, pandas._libs.tslibs.dtypes, pandas._libs.tslibs.base, pandas._libs.tslibs.nattype, pandas._libs.tslibs.timezones, pandas._libs.tslibs.tzconversion, pandas._libs.tslibs.ccalendar, pandas._libs.tslibs.fields, pandas._libs.tslibs.timedeltas, pandas._libs.tslibs.timestamps, pandas._libs.properties, pandas._libs.tslibs.offsets, pandas._libs.tslibs.parsing, pandas._libs.tslibs.conversion, pandas._libs.tslibs.period, pandas._libs.tslibs.vectorized, pandas._libs.ops_dispatch, pandas._libs.missing, pandas._libs.hashtable, pandas._libs.algos, pandas._libs.interval, pandas._libs.tslib, pandas._libs.lib, pandas._libs.hashing, pandas._libs.ops, pyarrow._compute, pandas._libs.arrays, pandas._libs.index, pandas._libs.join, pandas._libs.sparse, pandas._libs.reduction, pandas._libs.indexing, pandas._libs.internals, pandas._libs.writers, pandas._libs.window.aggregations, pandas._libs.window.indexers, pandas._libs.reshape, pandas._libs.tslibs.strptime, pandas._libs.groupby, pandas._libs.testing, pandas._libs.parsers, pandas._libs.json, pydantic.typing, pydantic.errors, pydantic.version, pydantic.utils, pydantic.class_validators, pydantic.config, pydantic.color, pydantic.datetime_parse, pydantic.validators, pydantic.networks, pydantic.types, pydantic.json, pydantic.error_wrappers, pydantic.fields, pydantic.parse, pydantic.schema, pydantic.main, pydantic.dataclasses, pydantic.annotated_types, pydantic.decorator, pydantic.env_settings, pydantic.tools, pydantic, pyarrow._json, torch._C, torch._C._fft, torch._C._linalg, torch._C._nested, torch._C._nn, torch._C._sparse, torch._C._special, scipy._lib._ccallback_c, scipy.sparse._sparsetools, _csparsetools, scipy.sparse._csparsetools, scipy.sparse.linalg._isolve._iterative, scipy.linalg._fblas, scipy.linalg._flapack, scipy.linalg._cythonized_array_utils, scipy.linalg._flinalg, scipy.linalg._solve_toeplitz, scipy.linalg._matfuncs_sqrtm_triu, scipy.linalg.cython_lapack\n",
      "(RayTrainWorker pid=1124519) , scipy.linalg.cython_blas\n",
      "(RayTrainWorker pid=1124519) , scipy.linalg._matfuncs_expm, scipy.linalg._decomp_update, scipy.sparse.linalg._dsolve._superlu, scipy.sparse.linalg._eigen.arpack._arpack, scipy.sparse.csgraph._tools, scipy.sparse.csgraph._shortest_path, scipy.sparse.csgraph._traversal, scipy.sparse.csgraph._min_spanning_tree, scipy.sparse.csgraph._flow, scipy.sparse.csgraph._matching, scipy.sparse.csgraph._reordering, scipy.io.matlab._mio_utils, scipy.io.matlab._streams, scipy.io.matlab._mio5_utils, scipy.signal._sigtools, scipy.special._ufuncs_cxx, scipy.special._ufuncs, scipy.special._specfun, scipy.special._comb, scipy.special._ellip_harm_2, scipy._lib._uarray._uarray, scipy.signal._max_len_seq_inner, scipy.signal._upfirdn_apply, scipy.signal._spline, scipy.optimize._minpack2, scipy.optimize._group_columns, scipy._lib.messagestream, scipy.optimize._trlib._trlib, numpy.linalg.lapack_lite, scipy.optimize._lbfgsb, _moduleTNC, scipy.optimize._moduleTNC, scipy.optimize._cobyla, scipy.optimize._slsqp, scipy.optimize._minpack, scipy.optimize._lsq.givens_elimination, scipy.optimize._zeros, scipy.optimize.__nnls, scipy.optimize._highs.cython.src._highs_wrapper, scipy.optimize._highs._highs_wrapper, scipy.optimize._highs.cython.src._highs_constants, scipy.optimize._highs._highs_constants, scipy.linalg._interpolative, scipy.optimize._bglu_dense, scipy.optimize._lsap, scipy.spatial._ckdtree, scipy.spatial._qhull, scipy.spatial._voronoi, scipy.spatial._distance_wrap, scipy.spatial._hausdorff, scipy.spatial.transform._rotation, scipy.optimize._direct, scipy.integrate._odepack, scipy.integrate._quadpack, scipy.integrate._vode, scipy.integrate._dop, scipy.integrate._lsoda, scipy.interpolate._fitpack, scipy.interpolate.dfitpack, scipy.interpolate._bspl, scipy.interpolate._ppoly, scipy.interpolate.interpnd, scipy.interpolate._rbfinterp_pythran, scipy.interpolate._rgi_cython, scipy.signal._sosfilt, scipy.ndimage._nd_image, _ni_label, scipy.ndimage._ni_label, scipy.signal._spectral, scipy.special.cython_special, scipy.stats._stats, scipy.stats.beta_ufunc, scipy.stats._boost.beta_ufunc, scipy.stats.binom_ufunc, scipy.stats._boost.binom_ufunc, scipy.stats.nbinom_ufunc, scipy.stats._boost.nbinom_ufunc, scipy.stats.hypergeom_ufunc, scipy.stats._boost.hypergeom_ufunc, scipy.stats.ncf_ufunc, scipy.stats._boost.ncf_ufunc, scipy.stats.ncx2_ufunc, scipy.stats._boost.ncx2_ufunc, scipy.stats.nct_ufunc, scipy.stats._boost.nct_ufunc, scipy.stats.skewnorm_ufunc, scipy.stats._boost.skewnorm_ufunc, scipy.stats.invgauss_ufunc, scipy.stats._boost.invgauss_ufunc, scipy.stats._biasedurn, scipy.stats._levy_stable.levyst, scipy.stats._stats_pythran, scipy.stats._statlib, scipy.stats._mvn, scipy.stats._sobol, scipy.stats._qmc_cy, scipy.stats._rcont.rcont, scipy.signal._peak_finding_utils, numba.core.typeconv._typeconv, numba._helperlib, numba._dynfunc, numba._dispatcher, numba.core.runtime._nrt_python, numba.np.ufunc._internal, xxhash._xxhash, scipy.fftpack.convolve, sklearn.__check_build._check_build, sklearn.utils.murmurhash, sklearn.utils._isfinite, sklearn.utils._openmp_helpers, sklearn.decomposition._cdnmf_fast, sklearn.utils._logistic_sigmoid, sklearn.utils.sparsefuncs_fast, sklearn.preprocessing._csr_polynomial_expansion, sklearn.utils._typedefs, sklearn.utils._readonly_array_wrapper, sklearn.metrics._dist_metrics, sklearn.metrics.cluster._expected_mutual_info_fast, sklearn.metrics._pairwise_distances_reduction._datasets_pair, sklearn.utils._cython_blas, sklearn.metrics._pairwise_distances_reduction._base, sklearn.metrics._pairwise_distances_reduction._middle_term_computer, sklearn.utils._heap, sklearn.utils._sorting, sklearn.metrics._pairwise_distances_reduction._argkmin, sklearn.utils._vector_sentinel, sklearn.metrics._pairwise_distances_reduction._radius_neighbors, sklearn.metrics._pairwise_fast, sklearn.utils._random, sklearn.utils._seq_dataset, sklearn.utils.arrayfuncs, sklearn.linear_model._cd_fast, sklearn._loss._loss, sklearn.utils._weight_vector, sklearn.linear_model._sgd_fast, sklearn.linear_model._sag_fast, sklearn.svm._libsvm, sklearn.svm._liblinear, sklearn.svm._libsvm_sparse, sklearn.decomposition._online_lda_fast, sklearn.neighbors._partition_nodes, sklearn.neighbors._ball_tree, sklearn.neighbors._kd_tree, sklearn._isotonic, sklearn.manifold._utils, sklearn.tree._utils, sklearn.tree._tree, sklearn.tree._splitter, sklearn.tree._criterion, sklearn.neighbors._quad_tree, sklearn.manifold._barnes_hut_tsne, sklearn.cluster._k_means_common, sklearn.cluster._k_means_minibatch, sklearn.cluster._k_means_lloyd, sklearn.cluster._k_means_elkan, sklearn.utils._fast_dict, sklearn.cluster._hierarchical_fast, sklearn.cluster._dbscan_inner, sklearn.feature_extraction._hashing_fast, matplotlib._c_internal_utils, PIL._imaging, matplotlib._path, kiwisolver._cext, matplotlib._image, regex._regex, pycrfsuite._pycrfsuite, sklearn.datasets._svmlight_format_fast, lxml._elementpath, lxml.etree, numba.experimental.jitclass._box (total: 288)\n",
      "2023-03-07 15:42:17,840\tWARNING worker.py:1870 -- A worker died or was killed while executing a task by an unexpected system error. To troubleshoot the problem, check the logs for the dead worker. RayTask ID: ffffffffffffffffd92daefe0821b2bbe7d2ce9537000000 Worker ID: 41ed1214279d48f74be588edf9b2dad3b8af30a3d1b82a89f8748441 Node ID: c896a1f2d49a841de85d9f4ade62b71676469b02e6133224652550d8 Worker IP address: 10.0.37.211 Worker port: 10459 Worker PID: 1124519 Worker exit type: SYSTEM_ERROR Worker exit detail: Worker unexpectedly exits with a connection error code 2. End of file. There are some potential root causes. (1) The process is killed by SIGKILL by OOM killer due to high memory usage. (2) ray stop --force is called. (3) The worker is crashed unexpectedly due to SIGSEGV or other unexpected errors.\n",
      "(TorchTrainer pid=3738, ip=10.0.48.48) 2023-03-07 15:42:17,840\tINFO utils.py:57 -- Worker 1 has failed.2023-03-07 15:42:17,865\tERROR trial_runner.py:705 -- Trial TorchTrainer_209d8_00000: Error happened when processing _ExecutorEventType.TRAINING_RESULT.\n",
      "Traceback (most recent call last):\n",
      "  File \"/home/ray/anaconda3/lib/python3.10/site-packages/ray/tune/execution/ray_trial_executor.py\", line 1311, in get_next_executor_event\n",
      "    future_result = ray.get(ready_future)\n",
      "  File \"/home/ray/anaconda3/lib/python3.10/site-packages/ray/_private/client_mode_hook.py\", line 105, in wrapper\n",
      "    return func(*args, **kwargs)\n",
      "  File \"/home/ray/anaconda3/lib/python3.10/site-packages/ray/_private/worker.py\", line 2384, in get\n",
      "    raise value.as_instanceof_cause()\n",
      "ray.exceptions.RayTaskError: \u001b[36mray::_Inner.train()\u001b[39m (pid=3738, ip=10.0.48.48, repr=TorchTrainer)\n",
      "  File \"/home/ray/anaconda3/lib/python3.10/site-packages/ray/tune/trainable/trainable.py\", line 360, in train\n",
      "    raise skipped from exception_cause(skipped)\n",
      "  File \"/home/ray/anaconda3/lib/python3.10/site-packages/ray/tune/trainable/function_trainable.py\", line 336, in entrypoint\n",
      "    return self._trainable_func(\n",
      "  File \"/home/ray/anaconda3/lib/python3.10/site-packages/ray/train/base_trainer.py\", line 737, in _trainable_func\n",
      "    super()._trainable_func(self._merged_config, reporter, checkpoint_dir)\n",
      "  File \"/home/ray/anaconda3/lib/python3.10/site-packages/ray/tune/trainable/function_trainable.py\", line 653, in _trainable_func\n",
      "    output = fn()\n",
      "  File \"/home/ray/anaconda3/lib/python3.10/site-packages/ray/train/base_trainer.py\", line 647, in train_func\n",
      "    trainer.training_loop()\n",
      "  File \"/home/ray/anaconda3/lib/python3.10/site-packages/ray/train/data_parallel_trainer.py\", line 433, in training_loop\n",
      "    self._report(training_iterator)\n",
      "  File \"/home/ray/anaconda3/lib/python3.10/site-packages/ray/train/data_parallel_trainer.py\", line 380, in _report\n",
      "    for results in training_iterator:\n",
      "  File \"/home/ray/anaconda3/lib/python3.10/site-packages/ray/train/trainer.py\", line 134, in __next__\n",
      "    next_results = self._run_with_error_handling(self._fetch_next_result)\n",
      "  File \"/home/ray/anaconda3/lib/python3.10/site-packages/ray/train/trainer.py\", line 97, in _run_with_error_handling\n",
      "    return func()\n",
      "  File \"/home/ray/anaconda3/lib/python3.10/site-packages/ray/train/trainer.py\", line 168, in _fetch_next_result\n",
      "    results = self._backend_executor.get_next_results()\n",
      "  File \"/home/ray/anaconda3/lib/python3.10/site-packages/ray/train/_internal/backend_executor.py\", line 444, in get_next_results\n",
      "    results = self.get_with_failure_handling(futures)\n",
      "  File \"/home/ray/anaconda3/lib/python3.10/site-packages/ray/train/_internal/backend_executor.py\", line 533, in get_with_failure_handling\n",
      "    self._increment_failures()\n",
      "  File \"/home/ray/anaconda3/lib/python3.10/site-packages/ray/train/_internal/backend_executor.py\", line 595, in _increment_failures\n",
      "    raise failure\n",
      "  File \"/home/ray/anaconda3/lib/python3.10/site-packages/ray/train/_internal/utils.py\", line 54, in check_for_failure\n",
      "    ray.get(object_ref)\n",
      "ray.exceptions.RayActorError: The actor died unexpectedly before finishing this task.\n",
      "\tclass_name: RayTrainWorker\n",
      "\tactor_id: d92daefe0821b2bbe7d2ce9537000000\n",
      "\tpid: 1124519\n",
      "\tnamespace: 3cec299d-7eb2-44ca-a17e-0e4e4c288f63\n",
      "\tip: 10.0.37.211\n",
      "The actor is dead because its worker process has died. Worker exit type: SYSTEM_ERROR Worker exit detail: Worker unexpectedly exits with a connection error code 2. End of file. There are some potential root causes. (1) The process is killed by SIGKILL by OOM killer due to high memory usage. (2) ray stop --force is called. (3) The worker is crashed unexpectedly due to SIGSEGV or other unexpected errors.\n",
      "\n"
     ]
    },
    {
     "data": {
      "text/html": [
       "<div class=\"trialProgress\">\n",
       "  <h3>Trial Progress</h3>\n",
       "  <table>\n",
       "<thead>\n",
       "<tr><th>Trial name              </th><th>date               </th><th>hostname     </th><th>node_ip   </th><th style=\"text-align: right;\">  pid</th><th style=\"text-align: right;\">  timestamp</th><th>trial_id   </th></tr>\n",
       "</thead>\n",
       "<tbody>\n",
       "<tr><td>TorchTrainer_209d8_00000</td><td>2023-03-07_15-09-43</td><td>ip-10-0-48-48</td><td>10.0.48.48</td><td style=\"text-align: right;\"> 3738</td><td style=\"text-align: right;\"> 1678230583</td><td>209d8_00000</td></tr>\n",
       "</tbody>\n",
       "</table>\n",
       "</div>\n",
       "<style>\n",
       ".trialProgress {\n",
       "  display: flex;\n",
       "  flex-direction: column;\n",
       "  color: var(--jp-ui-font-color1);\n",
       "}\n",
       ".trialProgress h3 {\n",
       "  font-weight: bold;\n",
       "}\n",
       ".trialProgress td {\n",
       "  white-space: nowrap;\n",
       "}\n",
       "</style>\n"
      ],
      "text/plain": [
       "<IPython.core.display.HTML object>"
      ]
     },
     "metadata": {},
     "output_type": "display_data"
    },
    {
     "name": "stderr",
     "output_type": "stream",
     "text": [
      "2023-03-07 15:42:30,245\tERROR tune.py:821 -- Trials did not complete: [TorchTrainer_209d8_00000]\n",
      "2023-03-07 15:42:30,246\tINFO tune.py:825 -- Total run time: 1974.69 seconds (1962.16 seconds for the tuning loop).\n"
     ]
    },
    {
     "ename": "RayTaskError",
     "evalue": "\u001b[36mray::_Inner.train()\u001b[39m (pid=3738, ip=10.0.48.48, repr=TorchTrainer)\n  File \"/home/ray/anaconda3/lib/python3.10/site-packages/ray/tune/trainable/trainable.py\", line 360, in train\n    raise skipped from exception_cause(skipped)\n  File \"/home/ray/anaconda3/lib/python3.10/site-packages/ray/tune/trainable/function_trainable.py\", line 336, in entrypoint\n    return self._trainable_func(\n  File \"/home/ray/anaconda3/lib/python3.10/site-packages/ray/train/base_trainer.py\", line 737, in _trainable_func\n    super()._trainable_func(self._merged_config, reporter, checkpoint_dir)\n  File \"/home/ray/anaconda3/lib/python3.10/site-packages/ray/tune/trainable/function_trainable.py\", line 653, in _trainable_func\n    output = fn()\n  File \"/home/ray/anaconda3/lib/python3.10/site-packages/ray/train/base_trainer.py\", line 647, in train_func\n    trainer.training_loop()\n  File \"/home/ray/anaconda3/lib/python3.10/site-packages/ray/train/data_parallel_trainer.py\", line 433, in training_loop\n    self._report(training_iterator)\n  File \"/home/ray/anaconda3/lib/python3.10/site-packages/ray/train/data_parallel_trainer.py\", line 380, in _report\n    for results in training_iterator:\n  File \"/home/ray/anaconda3/lib/python3.10/site-packages/ray/train/trainer.py\", line 134, in __next__\n    next_results = self._run_with_error_handling(self._fetch_next_result)\n  File \"/home/ray/anaconda3/lib/python3.10/site-packages/ray/train/trainer.py\", line 97, in _run_with_error_handling\n    return func()\n  File \"/home/ray/anaconda3/lib/python3.10/site-packages/ray/train/trainer.py\", line 168, in _fetch_next_result\n    results = self._backend_executor.get_next_results()\n  File \"/home/ray/anaconda3/lib/python3.10/site-packages/ray/train/_internal/backend_executor.py\", line 444, in get_next_results\n    results = self.get_with_failure_handling(futures)\n  File \"/home/ray/anaconda3/lib/python3.10/site-packages/ray/train/_internal/backend_executor.py\", line 533, in get_with_failure_handling\n    self._increment_failures()\n  File \"/home/ray/anaconda3/lib/python3.10/site-packages/ray/train/_internal/backend_executor.py\", line 595, in _increment_failures\n    raise failure\n  File \"/home/ray/anaconda3/lib/python3.10/site-packages/ray/train/_internal/utils.py\", line 54, in check_for_failure\n    ray.get(object_ref)\nray.exceptions.RayActorError: The actor died unexpectedly before finishing this task.\n\tclass_name: RayTrainWorker\n\tactor_id: d92daefe0821b2bbe7d2ce9537000000\n\tpid: 1124519\n\tnamespace: 3cec299d-7eb2-44ca-a17e-0e4e4c288f63\n\tip: 10.0.37.211\nThe actor is dead because its worker process has died. Worker exit type: SYSTEM_ERROR Worker exit detail: Worker unexpectedly exits with a connection error code 2. End of file. There are some potential root causes. (1) The process is killed by SIGKILL by OOM killer due to high memory usage. (2) ray stop --force is called. (3) The worker is crashed unexpectedly due to SIGSEGV or other unexpected errors.",
     "output_type": "error",
     "traceback": [
      "\u001b[0;31m---------------------------------------------------------------------------\u001b[0m",
      "\u001b[0;31mRayTaskError\u001b[0m                              Traceback (most recent call last)",
      "Cell \u001b[0;32mIn[8], line 1\u001b[0m\n\u001b[0;32m----> 1\u001b[0m result \u001b[38;5;241m=\u001b[39m \u001b[43mtrainer\u001b[49m\u001b[38;5;241;43m.\u001b[39;49m\u001b[43mfit\u001b[49m\u001b[43m(\u001b[49m\u001b[43m)\u001b[49m\n",
      "File \u001b[0;32m~/anaconda3/lib/python3.10/site-packages/ray/train/base_trainer.py:579\u001b[0m, in \u001b[0;36mBaseTrainer.fit\u001b[0;34m(self)\u001b[0m\n\u001b[1;32m    577\u001b[0m     result \u001b[38;5;241m=\u001b[39m result_grid[\u001b[38;5;241m0\u001b[39m]\n\u001b[1;32m    578\u001b[0m     \u001b[38;5;28;01mif\u001b[39;00m result\u001b[38;5;241m.\u001b[39merror:\n\u001b[0;32m--> 579\u001b[0m         \u001b[38;5;28;01mraise\u001b[39;00m result\u001b[38;5;241m.\u001b[39merror\n\u001b[1;32m    580\u001b[0m \u001b[38;5;28;01mexcept\u001b[39;00m TuneError \u001b[38;5;28;01mas\u001b[39;00m e:\n\u001b[1;32m    581\u001b[0m     \u001b[38;5;28;01mraise\u001b[39;00m TrainingFailedError \u001b[38;5;28;01mfrom\u001b[39;00m \u001b[38;5;21;01me\u001b[39;00m\n",
      "\u001b[0;31mRayTaskError\u001b[0m: \u001b[36mray::_Inner.train()\u001b[39m (pid=3738, ip=10.0.48.48, repr=TorchTrainer)\n  File \"/home/ray/anaconda3/lib/python3.10/site-packages/ray/tune/trainable/trainable.py\", line 360, in train\n    raise skipped from exception_cause(skipped)\n  File \"/home/ray/anaconda3/lib/python3.10/site-packages/ray/tune/trainable/function_trainable.py\", line 336, in entrypoint\n    return self._trainable_func(\n  File \"/home/ray/anaconda3/lib/python3.10/site-packages/ray/train/base_trainer.py\", line 737, in _trainable_func\n    super()._trainable_func(self._merged_config, reporter, checkpoint_dir)\n  File \"/home/ray/anaconda3/lib/python3.10/site-packages/ray/tune/trainable/function_trainable.py\", line 653, in _trainable_func\n    output = fn()\n  File \"/home/ray/anaconda3/lib/python3.10/site-packages/ray/train/base_trainer.py\", line 647, in train_func\n    trainer.training_loop()\n  File \"/home/ray/anaconda3/lib/python3.10/site-packages/ray/train/data_parallel_trainer.py\", line 433, in training_loop\n    self._report(training_iterator)\n  File \"/home/ray/anaconda3/lib/python3.10/site-packages/ray/train/data_parallel_trainer.py\", line 380, in _report\n    for results in training_iterator:\n  File \"/home/ray/anaconda3/lib/python3.10/site-packages/ray/train/trainer.py\", line 134, in __next__\n    next_results = self._run_with_error_handling(self._fetch_next_result)\n  File \"/home/ray/anaconda3/lib/python3.10/site-packages/ray/train/trainer.py\", line 97, in _run_with_error_handling\n    return func()\n  File \"/home/ray/anaconda3/lib/python3.10/site-packages/ray/train/trainer.py\", line 168, in _fetch_next_result\n    results = self._backend_executor.get_next_results()\n  File \"/home/ray/anaconda3/lib/python3.10/site-packages/ray/train/_internal/backend_executor.py\", line 444, in get_next_results\n    results = self.get_with_failure_handling(futures)\n  File \"/home/ray/anaconda3/lib/python3.10/site-packages/ray/train/_internal/backend_executor.py\", line 533, in get_with_failure_handling\n    self._increment_failures()\n  File \"/home/ray/anaconda3/lib/python3.10/site-packages/ray/train/_internal/backend_executor.py\", line 595, in _increment_failures\n    raise failure\n  File \"/home/ray/anaconda3/lib/python3.10/site-packages/ray/train/_internal/utils.py\", line 54, in check_for_failure\n    ray.get(object_ref)\nray.exceptions.RayActorError: The actor died unexpectedly before finishing this task.\n\tclass_name: RayTrainWorker\n\tactor_id: d92daefe0821b2bbe7d2ce9537000000\n\tpid: 1124519\n\tnamespace: 3cec299d-7eb2-44ca-a17e-0e4e4c288f63\n\tip: 10.0.37.211\nThe actor is dead because its worker process has died. Worker exit type: SYSTEM_ERROR Worker exit detail: Worker unexpectedly exits with a connection error code 2. End of file. There are some potential root causes. (1) The process is killed by SIGKILL by OOM killer due to high memory usage. (2) ray stop --force is called. (3) The worker is crashed unexpectedly due to SIGSEGV or other unexpected errors."
     ]
    }
   ],
   "source": [
    "result = trainer.fit()"
   ]
  },
  {
   "cell_type": "code",
   "execution_count": 9,
   "id": "a062a694",
   "metadata": {},
   "outputs": [
    {
     "data": {
      "text/plain": [
       "\u001b[0;31mSignature:\u001b[0m\n",
       "\u001b[0mlibrosa_mel_fn\u001b[0m\u001b[0;34m(\u001b[0m\u001b[0;34m\u001b[0m\n",
       "\u001b[0;34m\u001b[0m    \u001b[0msr\u001b[0m\u001b[0;34m,\u001b[0m\u001b[0;34m\u001b[0m\n",
       "\u001b[0;34m\u001b[0m    \u001b[0mn_fft\u001b[0m\u001b[0;34m,\u001b[0m\u001b[0;34m\u001b[0m\n",
       "\u001b[0;34m\u001b[0m    \u001b[0mn_mels\u001b[0m\u001b[0;34m=\u001b[0m\u001b[0;36m128\u001b[0m\u001b[0;34m,\u001b[0m\u001b[0;34m\u001b[0m\n",
       "\u001b[0;34m\u001b[0m    \u001b[0mfmin\u001b[0m\u001b[0;34m=\u001b[0m\u001b[0;36m0.0\u001b[0m\u001b[0;34m,\u001b[0m\u001b[0;34m\u001b[0m\n",
       "\u001b[0;34m\u001b[0m    \u001b[0mfmax\u001b[0m\u001b[0;34m=\u001b[0m\u001b[0;32mNone\u001b[0m\u001b[0;34m,\u001b[0m\u001b[0;34m\u001b[0m\n",
       "\u001b[0;34m\u001b[0m    \u001b[0mhtk\u001b[0m\u001b[0;34m=\u001b[0m\u001b[0;32mFalse\u001b[0m\u001b[0;34m,\u001b[0m\u001b[0;34m\u001b[0m\n",
       "\u001b[0;34m\u001b[0m    \u001b[0mnorm\u001b[0m\u001b[0;34m=\u001b[0m\u001b[0;34m'slaney'\u001b[0m\u001b[0;34m,\u001b[0m\u001b[0;34m\u001b[0m\n",
       "\u001b[0;34m\u001b[0m    \u001b[0mdtype\u001b[0m\u001b[0;34m=\u001b[0m\u001b[0;34m<\u001b[0m\u001b[0;32mclass\u001b[0m \u001b[0;34m'numpy.float32'\u001b[0m\u001b[0;34m>\u001b[0m\u001b[0;34m,\u001b[0m\u001b[0;34m\u001b[0m\n",
       "\u001b[0;34m\u001b[0m\u001b[0;34m)\u001b[0m\u001b[0;34m\u001b[0m\u001b[0;34m\u001b[0m\u001b[0m\n",
       "\u001b[0;31mSource:\u001b[0m   \n",
       "\u001b[0;34m@\u001b[0m\u001b[0mcache\u001b[0m\u001b[0;34m(\u001b[0m\u001b[0mlevel\u001b[0m\u001b[0;34m=\u001b[0m\u001b[0;36m10\u001b[0m\u001b[0;34m)\u001b[0m\u001b[0;34m\u001b[0m\n",
       "\u001b[0;34m\u001b[0m\u001b[0;32mdef\u001b[0m \u001b[0mmel\u001b[0m\u001b[0;34m(\u001b[0m\u001b[0;34m\u001b[0m\n",
       "\u001b[0;34m\u001b[0m    \u001b[0msr\u001b[0m\u001b[0;34m,\u001b[0m\u001b[0;34m\u001b[0m\n",
       "\u001b[0;34m\u001b[0m    \u001b[0mn_fft\u001b[0m\u001b[0;34m,\u001b[0m\u001b[0;34m\u001b[0m\n",
       "\u001b[0;34m\u001b[0m    \u001b[0mn_mels\u001b[0m\u001b[0;34m=\u001b[0m\u001b[0;36m128\u001b[0m\u001b[0;34m,\u001b[0m\u001b[0;34m\u001b[0m\n",
       "\u001b[0;34m\u001b[0m    \u001b[0mfmin\u001b[0m\u001b[0;34m=\u001b[0m\u001b[0;36m0.0\u001b[0m\u001b[0;34m,\u001b[0m\u001b[0;34m\u001b[0m\n",
       "\u001b[0;34m\u001b[0m    \u001b[0mfmax\u001b[0m\u001b[0;34m=\u001b[0m\u001b[0;32mNone\u001b[0m\u001b[0;34m,\u001b[0m\u001b[0;34m\u001b[0m\n",
       "\u001b[0;34m\u001b[0m    \u001b[0mhtk\u001b[0m\u001b[0;34m=\u001b[0m\u001b[0;32mFalse\u001b[0m\u001b[0;34m,\u001b[0m\u001b[0;34m\u001b[0m\n",
       "\u001b[0;34m\u001b[0m    \u001b[0mnorm\u001b[0m\u001b[0;34m=\u001b[0m\u001b[0;34m\"slaney\"\u001b[0m\u001b[0;34m,\u001b[0m\u001b[0;34m\u001b[0m\n",
       "\u001b[0;34m\u001b[0m    \u001b[0mdtype\u001b[0m\u001b[0;34m=\u001b[0m\u001b[0mnp\u001b[0m\u001b[0;34m.\u001b[0m\u001b[0mfloat32\u001b[0m\u001b[0;34m,\u001b[0m\u001b[0;34m\u001b[0m\n",
       "\u001b[0;34m\u001b[0m\u001b[0;34m)\u001b[0m\u001b[0;34m:\u001b[0m\u001b[0;34m\u001b[0m\n",
       "\u001b[0;34m\u001b[0m    \u001b[0;34m\"\"\"Create a Mel filter-bank.\u001b[0m\n",
       "\u001b[0;34m\u001b[0m\n",
       "\u001b[0;34m    This produces a linear transformation matrix to project\u001b[0m\n",
       "\u001b[0;34m    FFT bins onto Mel-frequency bins.\u001b[0m\n",
       "\u001b[0;34m\u001b[0m\n",
       "\u001b[0;34m    Parameters\u001b[0m\n",
       "\u001b[0;34m    ----------\u001b[0m\n",
       "\u001b[0;34m    sr        : number > 0 [scalar]\u001b[0m\n",
       "\u001b[0;34m        sampling rate of the incoming signal\u001b[0m\n",
       "\u001b[0;34m\u001b[0m\n",
       "\u001b[0;34m    n_fft     : int > 0 [scalar]\u001b[0m\n",
       "\u001b[0;34m        number of FFT components\u001b[0m\n",
       "\u001b[0;34m\u001b[0m\n",
       "\u001b[0;34m    n_mels    : int > 0 [scalar]\u001b[0m\n",
       "\u001b[0;34m        number of Mel bands to generate\u001b[0m\n",
       "\u001b[0;34m\u001b[0m\n",
       "\u001b[0;34m    fmin      : float >= 0 [scalar]\u001b[0m\n",
       "\u001b[0;34m        lowest frequency (in Hz)\u001b[0m\n",
       "\u001b[0;34m\u001b[0m\n",
       "\u001b[0;34m    fmax      : float >= 0 [scalar]\u001b[0m\n",
       "\u001b[0;34m        highest frequency (in Hz).\u001b[0m\n",
       "\u001b[0;34m        If `None`, use ``fmax = sr / 2.0``\u001b[0m\n",
       "\u001b[0;34m\u001b[0m\n",
       "\u001b[0;34m    htk       : bool [scalar]\u001b[0m\n",
       "\u001b[0;34m        use HTK formula instead of Slaney\u001b[0m\n",
       "\u001b[0;34m\u001b[0m\n",
       "\u001b[0;34m    norm : {None, 'slaney', or number} [scalar]\u001b[0m\n",
       "\u001b[0;34m        If 'slaney', divide the triangular mel weights by the width of the mel band\u001b[0m\n",
       "\u001b[0;34m        (area normalization).\u001b[0m\n",
       "\u001b[0;34m\u001b[0m\n",
       "\u001b[0;34m        If numeric, use `librosa.util.normalize` to normalize each filter by to unit l_p norm.\u001b[0m\n",
       "\u001b[0;34m        See `librosa.util.normalize` for a full description of supported norm values\u001b[0m\n",
       "\u001b[0;34m        (including `+-np.inf`).\u001b[0m\n",
       "\u001b[0;34m\u001b[0m\n",
       "\u001b[0;34m        Otherwise, leave all the triangles aiming for a peak value of 1.0\u001b[0m\n",
       "\u001b[0;34m\u001b[0m\n",
       "\u001b[0;34m    dtype : np.dtype\u001b[0m\n",
       "\u001b[0;34m        The data type of the output basis.\u001b[0m\n",
       "\u001b[0;34m        By default, uses 32-bit (single-precision) floating point.\u001b[0m\n",
       "\u001b[0;34m\u001b[0m\n",
       "\u001b[0;34m    Returns\u001b[0m\n",
       "\u001b[0;34m    -------\u001b[0m\n",
       "\u001b[0;34m    M         : np.ndarray [shape=(n_mels, 1 + n_fft/2)]\u001b[0m\n",
       "\u001b[0;34m        Mel transform matrix\u001b[0m\n",
       "\u001b[0;34m\u001b[0m\n",
       "\u001b[0;34m    See also\u001b[0m\n",
       "\u001b[0;34m    --------\u001b[0m\n",
       "\u001b[0;34m    librosa.util.normalize\u001b[0m\n",
       "\u001b[0;34m\u001b[0m\n",
       "\u001b[0;34m    Notes\u001b[0m\n",
       "\u001b[0;34m    -----\u001b[0m\n",
       "\u001b[0;34m    This function caches at level 10.\u001b[0m\n",
       "\u001b[0;34m\u001b[0m\n",
       "\u001b[0;34m    Examples\u001b[0m\n",
       "\u001b[0;34m    --------\u001b[0m\n",
       "\u001b[0;34m    >>> melfb = librosa.filters.mel(22050, 2048)\u001b[0m\n",
       "\u001b[0;34m    >>> melfb\u001b[0m\n",
       "\u001b[0;34m    array([[ 0.   ,  0.016, ...,  0.   ,  0.   ],\u001b[0m\n",
       "\u001b[0;34m           [ 0.   ,  0.   , ...,  0.   ,  0.   ],\u001b[0m\n",
       "\u001b[0;34m           ...,\u001b[0m\n",
       "\u001b[0;34m           [ 0.   ,  0.   , ...,  0.   ,  0.   ],\u001b[0m\n",
       "\u001b[0;34m           [ 0.   ,  0.   , ...,  0.   ,  0.   ]])\u001b[0m\n",
       "\u001b[0;34m\u001b[0m\n",
       "\u001b[0;34m\u001b[0m\n",
       "\u001b[0;34m    Clip the maximum frequency to 8KHz\u001b[0m\n",
       "\u001b[0;34m\u001b[0m\n",
       "\u001b[0;34m    >>> librosa.filters.mel(22050, 2048, fmax=8000)\u001b[0m\n",
       "\u001b[0;34m    array([[ 0.  ,  0.02, ...,  0.  ,  0.  ],\u001b[0m\n",
       "\u001b[0;34m           [ 0.  ,  0.  , ...,  0.  ,  0.  ],\u001b[0m\n",
       "\u001b[0;34m           ...,\u001b[0m\n",
       "\u001b[0;34m           [ 0.  ,  0.  , ...,  0.  ,  0.  ],\u001b[0m\n",
       "\u001b[0;34m           [ 0.  ,  0.  , ...,  0.  ,  0.  ]])\u001b[0m\n",
       "\u001b[0;34m\u001b[0m\n",
       "\u001b[0;34m\u001b[0m\n",
       "\u001b[0;34m    >>> import matplotlib.pyplot as plt\u001b[0m\n",
       "\u001b[0;34m    >>> fig, ax = plt.subplots()\u001b[0m\n",
       "\u001b[0;34m    >>> img = librosa.display.specshow(melfb, x_axis='linear', ax=ax)\u001b[0m\n",
       "\u001b[0;34m    >>> ax.set(ylabel='Mel filter', title='Mel filter bank')\u001b[0m\n",
       "\u001b[0;34m    >>> fig.colorbar(img, ax=ax)\u001b[0m\n",
       "\u001b[0;34m    \"\"\"\u001b[0m\u001b[0;34m\u001b[0m\n",
       "\u001b[0;34m\u001b[0m\u001b[0;34m\u001b[0m\n",
       "\u001b[0;34m\u001b[0m    \u001b[0;32mif\u001b[0m \u001b[0mfmax\u001b[0m \u001b[0;32mis\u001b[0m \u001b[0;32mNone\u001b[0m\u001b[0;34m:\u001b[0m\u001b[0;34m\u001b[0m\n",
       "\u001b[0;34m\u001b[0m        \u001b[0mfmax\u001b[0m \u001b[0;34m=\u001b[0m \u001b[0mfloat\u001b[0m\u001b[0;34m(\u001b[0m\u001b[0msr\u001b[0m\u001b[0;34m)\u001b[0m \u001b[0;34m/\u001b[0m \u001b[0;36m2\u001b[0m\u001b[0;34m\u001b[0m\n",
       "\u001b[0;34m\u001b[0m\u001b[0;34m\u001b[0m\n",
       "\u001b[0;34m\u001b[0m    \u001b[0;31m# Initialize the weights\u001b[0m\u001b[0;34m\u001b[0m\n",
       "\u001b[0;34m\u001b[0m    \u001b[0mn_mels\u001b[0m \u001b[0;34m=\u001b[0m \u001b[0mint\u001b[0m\u001b[0;34m(\u001b[0m\u001b[0mn_mels\u001b[0m\u001b[0;34m)\u001b[0m\u001b[0;34m\u001b[0m\n",
       "\u001b[0;34m\u001b[0m    \u001b[0mweights\u001b[0m \u001b[0;34m=\u001b[0m \u001b[0mnp\u001b[0m\u001b[0;34m.\u001b[0m\u001b[0mzeros\u001b[0m\u001b[0;34m(\u001b[0m\u001b[0;34m(\u001b[0m\u001b[0mn_mels\u001b[0m\u001b[0;34m,\u001b[0m \u001b[0mint\u001b[0m\u001b[0;34m(\u001b[0m\u001b[0;36m1\u001b[0m \u001b[0;34m+\u001b[0m \u001b[0mn_fft\u001b[0m \u001b[0;34m//\u001b[0m \u001b[0;36m2\u001b[0m\u001b[0;34m)\u001b[0m\u001b[0;34m)\u001b[0m\u001b[0;34m,\u001b[0m \u001b[0mdtype\u001b[0m\u001b[0;34m=\u001b[0m\u001b[0mdtype\u001b[0m\u001b[0;34m)\u001b[0m\u001b[0;34m\u001b[0m\n",
       "\u001b[0;34m\u001b[0m\u001b[0;34m\u001b[0m\n",
       "\u001b[0;34m\u001b[0m    \u001b[0;31m# Center freqs of each FFT bin\u001b[0m\u001b[0;34m\u001b[0m\n",
       "\u001b[0;34m\u001b[0m    \u001b[0mfftfreqs\u001b[0m \u001b[0;34m=\u001b[0m \u001b[0mfft_frequencies\u001b[0m\u001b[0;34m(\u001b[0m\u001b[0msr\u001b[0m\u001b[0;34m=\u001b[0m\u001b[0msr\u001b[0m\u001b[0;34m,\u001b[0m \u001b[0mn_fft\u001b[0m\u001b[0;34m=\u001b[0m\u001b[0mn_fft\u001b[0m\u001b[0;34m)\u001b[0m\u001b[0;34m\u001b[0m\n",
       "\u001b[0;34m\u001b[0m\u001b[0;34m\u001b[0m\n",
       "\u001b[0;34m\u001b[0m    \u001b[0;31m# 'Center freqs' of mel bands - uniformly spaced between limits\u001b[0m\u001b[0;34m\u001b[0m\n",
       "\u001b[0;34m\u001b[0m    \u001b[0mmel_f\u001b[0m \u001b[0;34m=\u001b[0m \u001b[0mmel_frequencies\u001b[0m\u001b[0;34m(\u001b[0m\u001b[0mn_mels\u001b[0m \u001b[0;34m+\u001b[0m \u001b[0;36m2\u001b[0m\u001b[0;34m,\u001b[0m \u001b[0mfmin\u001b[0m\u001b[0;34m=\u001b[0m\u001b[0mfmin\u001b[0m\u001b[0;34m,\u001b[0m \u001b[0mfmax\u001b[0m\u001b[0;34m=\u001b[0m\u001b[0mfmax\u001b[0m\u001b[0;34m,\u001b[0m \u001b[0mhtk\u001b[0m\u001b[0;34m=\u001b[0m\u001b[0mhtk\u001b[0m\u001b[0;34m)\u001b[0m\u001b[0;34m\u001b[0m\n",
       "\u001b[0;34m\u001b[0m\u001b[0;34m\u001b[0m\n",
       "\u001b[0;34m\u001b[0m    \u001b[0mfdiff\u001b[0m \u001b[0;34m=\u001b[0m \u001b[0mnp\u001b[0m\u001b[0;34m.\u001b[0m\u001b[0mdiff\u001b[0m\u001b[0;34m(\u001b[0m\u001b[0mmel_f\u001b[0m\u001b[0;34m)\u001b[0m\u001b[0;34m\u001b[0m\n",
       "\u001b[0;34m\u001b[0m    \u001b[0mramps\u001b[0m \u001b[0;34m=\u001b[0m \u001b[0mnp\u001b[0m\u001b[0;34m.\u001b[0m\u001b[0msubtract\u001b[0m\u001b[0;34m.\u001b[0m\u001b[0mouter\u001b[0m\u001b[0;34m(\u001b[0m\u001b[0mmel_f\u001b[0m\u001b[0;34m,\u001b[0m \u001b[0mfftfreqs\u001b[0m\u001b[0;34m)\u001b[0m\u001b[0;34m\u001b[0m\n",
       "\u001b[0;34m\u001b[0m\u001b[0;34m\u001b[0m\n",
       "\u001b[0;34m\u001b[0m    \u001b[0;32mfor\u001b[0m \u001b[0mi\u001b[0m \u001b[0;32min\u001b[0m \u001b[0mrange\u001b[0m\u001b[0;34m(\u001b[0m\u001b[0mn_mels\u001b[0m\u001b[0;34m)\u001b[0m\u001b[0;34m:\u001b[0m\u001b[0;34m\u001b[0m\n",
       "\u001b[0;34m\u001b[0m        \u001b[0;31m# lower and upper slopes for all bins\u001b[0m\u001b[0;34m\u001b[0m\n",
       "\u001b[0;34m\u001b[0m        \u001b[0mlower\u001b[0m \u001b[0;34m=\u001b[0m \u001b[0;34m-\u001b[0m\u001b[0mramps\u001b[0m\u001b[0;34m[\u001b[0m\u001b[0mi\u001b[0m\u001b[0;34m]\u001b[0m \u001b[0;34m/\u001b[0m \u001b[0mfdiff\u001b[0m\u001b[0;34m[\u001b[0m\u001b[0mi\u001b[0m\u001b[0;34m]\u001b[0m\u001b[0;34m\u001b[0m\n",
       "\u001b[0;34m\u001b[0m        \u001b[0mupper\u001b[0m \u001b[0;34m=\u001b[0m \u001b[0mramps\u001b[0m\u001b[0;34m[\u001b[0m\u001b[0mi\u001b[0m \u001b[0;34m+\u001b[0m \u001b[0;36m2\u001b[0m\u001b[0;34m]\u001b[0m \u001b[0;34m/\u001b[0m \u001b[0mfdiff\u001b[0m\u001b[0;34m[\u001b[0m\u001b[0mi\u001b[0m \u001b[0;34m+\u001b[0m \u001b[0;36m1\u001b[0m\u001b[0;34m]\u001b[0m\u001b[0;34m\u001b[0m\n",
       "\u001b[0;34m\u001b[0m\u001b[0;34m\u001b[0m\n",
       "\u001b[0;34m\u001b[0m        \u001b[0;31m# .. then intersect them with each other and zero\u001b[0m\u001b[0;34m\u001b[0m\n",
       "\u001b[0;34m\u001b[0m        \u001b[0mweights\u001b[0m\u001b[0;34m[\u001b[0m\u001b[0mi\u001b[0m\u001b[0;34m]\u001b[0m \u001b[0;34m=\u001b[0m \u001b[0mnp\u001b[0m\u001b[0;34m.\u001b[0m\u001b[0mmaximum\u001b[0m\u001b[0;34m(\u001b[0m\u001b[0;36m0\u001b[0m\u001b[0;34m,\u001b[0m \u001b[0mnp\u001b[0m\u001b[0;34m.\u001b[0m\u001b[0mminimum\u001b[0m\u001b[0;34m(\u001b[0m\u001b[0mlower\u001b[0m\u001b[0;34m,\u001b[0m \u001b[0mupper\u001b[0m\u001b[0;34m)\u001b[0m\u001b[0;34m)\u001b[0m\u001b[0;34m\u001b[0m\n",
       "\u001b[0;34m\u001b[0m\u001b[0;34m\u001b[0m\n",
       "\u001b[0;34m\u001b[0m    \u001b[0;32mif\u001b[0m \u001b[0mnorm\u001b[0m \u001b[0;34m==\u001b[0m \u001b[0;34m\"slaney\"\u001b[0m\u001b[0;34m:\u001b[0m\u001b[0;34m\u001b[0m\n",
       "\u001b[0;34m\u001b[0m        \u001b[0;31m# Slaney-style mel is scaled to be approx constant energy per channel\u001b[0m\u001b[0;34m\u001b[0m\n",
       "\u001b[0;34m\u001b[0m        \u001b[0menorm\u001b[0m \u001b[0;34m=\u001b[0m \u001b[0;36m2.0\u001b[0m \u001b[0;34m/\u001b[0m \u001b[0;34m(\u001b[0m\u001b[0mmel_f\u001b[0m\u001b[0;34m[\u001b[0m\u001b[0;36m2\u001b[0m \u001b[0;34m:\u001b[0m \u001b[0mn_mels\u001b[0m \u001b[0;34m+\u001b[0m \u001b[0;36m2\u001b[0m\u001b[0;34m]\u001b[0m \u001b[0;34m-\u001b[0m \u001b[0mmel_f\u001b[0m\u001b[0;34m[\u001b[0m\u001b[0;34m:\u001b[0m\u001b[0mn_mels\u001b[0m\u001b[0;34m]\u001b[0m\u001b[0;34m)\u001b[0m\u001b[0;34m\u001b[0m\n",
       "\u001b[0;34m\u001b[0m        \u001b[0mweights\u001b[0m \u001b[0;34m*=\u001b[0m \u001b[0menorm\u001b[0m\u001b[0;34m[\u001b[0m\u001b[0;34m:\u001b[0m\u001b[0;34m,\u001b[0m \u001b[0mnp\u001b[0m\u001b[0;34m.\u001b[0m\u001b[0mnewaxis\u001b[0m\u001b[0;34m]\u001b[0m\u001b[0;34m\u001b[0m\n",
       "\u001b[0;34m\u001b[0m    \u001b[0;32melse\u001b[0m\u001b[0;34m:\u001b[0m\u001b[0;34m\u001b[0m\n",
       "\u001b[0;34m\u001b[0m        \u001b[0mweights\u001b[0m \u001b[0;34m=\u001b[0m \u001b[0mutil\u001b[0m\u001b[0;34m.\u001b[0m\u001b[0mnormalize\u001b[0m\u001b[0;34m(\u001b[0m\u001b[0mweights\u001b[0m\u001b[0;34m,\u001b[0m \u001b[0mnorm\u001b[0m\u001b[0;34m=\u001b[0m\u001b[0mnorm\u001b[0m\u001b[0;34m,\u001b[0m \u001b[0maxis\u001b[0m\u001b[0;34m=\u001b[0m\u001b[0;34m-\u001b[0m\u001b[0;36m1\u001b[0m\u001b[0;34m)\u001b[0m\u001b[0;34m\u001b[0m\n",
       "\u001b[0;34m\u001b[0m\u001b[0;34m\u001b[0m\n",
       "\u001b[0;34m\u001b[0m    \u001b[0;31m# Only check weights if f_mel[0] is positive\u001b[0m\u001b[0;34m\u001b[0m\n",
       "\u001b[0;34m\u001b[0m    \u001b[0;32mif\u001b[0m \u001b[0;32mnot\u001b[0m \u001b[0mnp\u001b[0m\u001b[0;34m.\u001b[0m\u001b[0mall\u001b[0m\u001b[0;34m(\u001b[0m\u001b[0;34m(\u001b[0m\u001b[0mmel_f\u001b[0m\u001b[0;34m[\u001b[0m\u001b[0;34m:\u001b[0m\u001b[0;34m-\u001b[0m\u001b[0;36m2\u001b[0m\u001b[0;34m]\u001b[0m \u001b[0;34m==\u001b[0m \u001b[0;36m0\u001b[0m\u001b[0;34m)\u001b[0m \u001b[0;34m|\u001b[0m \u001b[0;34m(\u001b[0m\u001b[0mweights\u001b[0m\u001b[0;34m.\u001b[0m\u001b[0mmax\u001b[0m\u001b[0;34m(\u001b[0m\u001b[0maxis\u001b[0m\u001b[0;34m=\u001b[0m\u001b[0;36m1\u001b[0m\u001b[0;34m)\u001b[0m \u001b[0;34m>\u001b[0m \u001b[0;36m0\u001b[0m\u001b[0;34m)\u001b[0m\u001b[0;34m)\u001b[0m\u001b[0;34m:\u001b[0m\u001b[0;34m\u001b[0m\n",
       "\u001b[0;34m\u001b[0m        \u001b[0;31m# This means we have an empty channel somewhere\u001b[0m\u001b[0;34m\u001b[0m\n",
       "\u001b[0;34m\u001b[0m        \u001b[0mwarnings\u001b[0m\u001b[0;34m.\u001b[0m\u001b[0mwarn\u001b[0m\u001b[0;34m(\u001b[0m\u001b[0;34m\u001b[0m\n",
       "\u001b[0;34m\u001b[0m            \u001b[0;34m\"Empty filters detected in mel frequency basis. \"\u001b[0m\u001b[0;34m\u001b[0m\n",
       "\u001b[0;34m\u001b[0m            \u001b[0;34m\"Some channels will produce empty responses. \"\u001b[0m\u001b[0;34m\u001b[0m\n",
       "\u001b[0;34m\u001b[0m            \u001b[0;34m\"Try increasing your sampling rate (and fmax) or \"\u001b[0m\u001b[0;34m\u001b[0m\n",
       "\u001b[0;34m\u001b[0m            \u001b[0;34m\"reducing n_mels.\"\u001b[0m\u001b[0;34m\u001b[0m\n",
       "\u001b[0;34m\u001b[0m        \u001b[0;34m)\u001b[0m\u001b[0;34m\u001b[0m\n",
       "\u001b[0;34m\u001b[0m\u001b[0;34m\u001b[0m\n",
       "\u001b[0;34m\u001b[0m    \u001b[0;32mreturn\u001b[0m \u001b[0mweights\u001b[0m\u001b[0;34m\u001b[0m\u001b[0;34m\u001b[0m\u001b[0m\n",
       "\u001b[0;31mFile:\u001b[0m      ~/anaconda3/lib/python3.10/site-packages/librosa/filters.py\n",
       "\u001b[0;31mType:\u001b[0m      function"
      ]
     },
     "metadata": {},
     "output_type": "display_data"
    }
   ],
   "source": [
    "??librosa_mel_fn"
   ]
  },
  {
   "cell_type": "code",
   "execution_count": 1,
   "id": "2a2c9e9f",
   "metadata": {},
   "outputs": [
    {
     "name": "stdout",
     "output_type": "stream",
     "text": [
      "Help on function mel in module librosa.filters:\n",
      "\n",
      "mel(sr, n_fft, n_mels=128, fmin=0.0, fmax=None, htk=False, norm='slaney', dtype=<class 'numpy.float32'>)\n",
      "    Create a Mel filter-bank.\n",
      "    \n",
      "    This produces a linear transformation matrix to project\n",
      "    FFT bins onto Mel-frequency bins.\n",
      "    \n",
      "    Parameters\n",
      "    ----------\n",
      "    sr        : number > 0 [scalar]\n",
      "        sampling rate of the incoming signal\n",
      "    \n",
      "    n_fft     : int > 0 [scalar]\n",
      "        number of FFT components\n",
      "    \n",
      "    n_mels    : int > 0 [scalar]\n",
      "        number of Mel bands to generate\n",
      "    \n",
      "    fmin      : float >= 0 [scalar]\n",
      "        lowest frequency (in Hz)\n",
      "    \n",
      "    fmax      : float >= 0 [scalar]\n",
      "        highest frequency (in Hz).\n",
      "        If `None`, use ``fmax = sr / 2.0``\n",
      "    \n",
      "    htk       : bool [scalar]\n",
      "        use HTK formula instead of Slaney\n",
      "    \n",
      "    norm : {None, 'slaney', or number} [scalar]\n",
      "        If 'slaney', divide the triangular mel weights by the width of the mel band\n",
      "        (area normalization).\n",
      "    \n",
      "        If numeric, use `librosa.util.normalize` to normalize each filter by to unit l_p norm.\n",
      "        See `librosa.util.normalize` for a full description of supported norm values\n",
      "        (including `+-np.inf`).\n",
      "    \n",
      "        Otherwise, leave all the triangles aiming for a peak value of 1.0\n",
      "    \n",
      "    dtype : np.dtype\n",
      "        The data type of the output basis.\n",
      "        By default, uses 32-bit (single-precision) floating point.\n",
      "    \n",
      "    Returns\n",
      "    -------\n",
      "    M         : np.ndarray [shape=(n_mels, 1 + n_fft/2)]\n",
      "        Mel transform matrix\n",
      "    \n",
      "    See also\n",
      "    --------\n",
      "    librosa.util.normalize\n",
      "    \n",
      "    Notes\n",
      "    -----\n",
      "    This function caches at level 10.\n",
      "    \n",
      "    Examples\n",
      "    --------\n",
      "    >>> melfb = librosa.filters.mel(22050, 2048)\n",
      "    >>> melfb\n",
      "    array([[ 0.   ,  0.016, ...,  0.   ,  0.   ],\n",
      "           [ 0.   ,  0.   , ...,  0.   ,  0.   ],\n",
      "           ...,\n",
      "           [ 0.   ,  0.   , ...,  0.   ,  0.   ],\n",
      "           [ 0.   ,  0.   , ...,  0.   ,  0.   ]])\n",
      "    \n",
      "    \n",
      "    Clip the maximum frequency to 8KHz\n",
      "    \n",
      "    >>> librosa.filters.mel(22050, 2048, fmax=8000)\n",
      "    array([[ 0.  ,  0.02, ...,  0.  ,  0.  ],\n",
      "           [ 0.  ,  0.  , ...,  0.  ,  0.  ],\n",
      "           ...,\n",
      "           [ 0.  ,  0.  , ...,  0.  ,  0.  ],\n",
      "           [ 0.  ,  0.  , ...,  0.  ,  0.  ]])\n",
      "    \n",
      "    \n",
      "    >>> import matplotlib.pyplot as plt\n",
      "    >>> fig, ax = plt.subplots()\n",
      "    >>> img = librosa.display.specshow(melfb, x_axis='linear', ax=ax)\n",
      "    >>> ax.set(ylabel='Mel filter', title='Mel filter bank')\n",
      "    >>> fig.colorbar(img, ax=ax)\n",
      "\n"
     ]
    }
   ],
   "source": [
    "from librosa.filters import mel as librosa_mel_fn\n",
    "help(librosa_mel_fn)"
   ]
  },
  {
   "cell_type": "code",
   "execution_count": 1,
   "id": "cd89edc7",
   "metadata": {},
   "outputs": [
    {
     "data": {
      "text/plain": [
       "'0.10.0'"
      ]
     },
     "execution_count": 1,
     "metadata": {},
     "output_type": "execute_result"
    }
   ],
   "source": [
    "import librosa\n",
    "from librosa.util import pad_center\n",
    "librosa.__version__"
   ]
  },
  {
   "cell_type": "code",
   "execution_count": 2,
   "id": "c8b43b3f",
   "metadata": {},
   "outputs": [
    {
     "name": "stdout",
     "output_type": "stream",
     "text": [
      "Help on function pad_center in module librosa.util.utils:\n",
      "\n",
      "pad_center(data: 'np.ndarray', *, size: 'int', axis: 'int' = -1, **kwargs: 'Any') -> 'np.ndarray'\n",
      "    Pad an array to a target length along a target axis.\n",
      "    \n",
      "    This differs from `np.pad` by centering the data prior to padding,\n",
      "    analogous to `str.center`\n",
      "    \n",
      "    Examples\n",
      "    --------\n",
      "    >>> # Generate a vector\n",
      "    >>> data = np.ones(5)\n",
      "    >>> librosa.util.pad_center(data, size=10, mode='constant')\n",
      "    array([ 0.,  0.,  1.,  1.,  1.,  1.,  1.,  0.,  0.,  0.])\n",
      "    \n",
      "    >>> # Pad a matrix along its first dimension\n",
      "    >>> data = np.ones((3, 5))\n",
      "    >>> librosa.util.pad_center(data, size=7, axis=0)\n",
      "    array([[ 0.,  0.,  0.,  0.,  0.],\n",
      "           [ 0.,  0.,  0.,  0.,  0.],\n",
      "           [ 1.,  1.,  1.,  1.,  1.],\n",
      "           [ 1.,  1.,  1.,  1.,  1.],\n",
      "           [ 1.,  1.,  1.,  1.,  1.],\n",
      "           [ 0.,  0.,  0.,  0.,  0.],\n",
      "           [ 0.,  0.,  0.,  0.,  0.]])\n",
      "    >>> # Or its second dimension\n",
      "    >>> librosa.util.pad_center(data, size=7, axis=1)\n",
      "    array([[ 0.,  1.,  1.,  1.,  1.,  1.,  0.],\n",
      "           [ 0.,  1.,  1.,  1.,  1.,  1.,  0.],\n",
      "           [ 0.,  1.,  1.,  1.,  1.,  1.,  0.]])\n",
      "    \n",
      "    Parameters\n",
      "    ----------\n",
      "    data : np.ndarray\n",
      "        Vector to be padded and centered\n",
      "    size : int >= len(data) [scalar]\n",
      "        Length to pad ``data``\n",
      "    axis : int\n",
      "        Axis along which to pad and center the data\n",
      "    **kwargs : additional keyword arguments\n",
      "        arguments passed to `np.pad`\n",
      "    \n",
      "    Returns\n",
      "    -------\n",
      "    data_padded : np.ndarray\n",
      "        ``data`` centered and padded to length ``size`` along the\n",
      "        specified axis\n",
      "    \n",
      "    Raises\n",
      "    ------\n",
      "    ParameterError\n",
      "        If ``size < data.shape[axis]``\n",
      "    \n",
      "    See Also\n",
      "    --------\n",
      "    numpy.pad\n",
      "\n"
     ]
    }
   ],
   "source": [
    "# import pad_center\n",
    "help(pad_center)"
   ]
  },
  {
   "cell_type": "code",
   "execution_count": 3,
   "id": "ddb877db",
   "metadata": {},
   "outputs": [
    {
     "ename": "TypeError",
     "evalue": "pad_center() takes 1 positional argument but 2 were given",
     "output_type": "error",
     "traceback": [
      "\u001b[0;31m---------------------------------------------------------------------------\u001b[0m",
      "\u001b[0;31mTypeError\u001b[0m                                 Traceback (most recent call last)",
      "Cell \u001b[0;32mIn[3], line 2\u001b[0m\n\u001b[1;32m      1\u001b[0m \u001b[38;5;28;01mimport\u001b[39;00m \u001b[38;5;21;01mnumpy\u001b[39;00m \u001b[38;5;28;01mas\u001b[39;00m \u001b[38;5;21;01mnp\u001b[39;00m\n\u001b[0;32m----> 2\u001b[0m \u001b[43mpad_center\u001b[49m\u001b[43m(\u001b[49m\u001b[43mnp\u001b[49m\u001b[38;5;241;43m.\u001b[39;49m\u001b[43mones\u001b[49m\u001b[43m(\u001b[49m\u001b[38;5;241;43m1000\u001b[39;49m\u001b[43m)\u001b[49m\u001b[43m,\u001b[49m\u001b[43m \u001b[49m\u001b[38;5;241;43m5000\u001b[39;49m\u001b[43m)\u001b[49m\n",
      "\u001b[0;31mTypeError\u001b[0m: pad_center() takes 1 positional argument but 2 were given"
     ]
    }
   ],
   "source": [
    "import numpy as np\n",
    "pad_center(np.ones(1000), 5000)"
   ]
  },
  {
   "cell_type": "code",
   "execution_count": 5,
   "id": "1ea31a38",
   "metadata": {},
   "outputs": [
    {
     "name": "stdout",
     "output_type": "stream",
     "text": [
      "Collecting librosa==0.8.1\n",
      "  Using cached librosa-0.8.1-py3-none-any.whl (203 kB)\n",
      "Requirement already satisfied: numpy>=1.15.0 in /home/ray/anaconda3/lib/python3.10/site-packages (from librosa==0.8.1) (1.22.0)\n",
      "Requirement already satisfied: joblib>=0.14 in /home/ray/anaconda3/lib/python3.10/site-packages (from librosa==0.8.1) (1.2.0)\n",
      "Requirement already satisfied: soundfile>=0.10.2 in /home/ray/anaconda3/lib/python3.10/site-packages (from librosa==0.8.1) (0.12.1)\n",
      "Requirement already satisfied: pooch>=1.0 in /home/ray/anaconda3/lib/python3.10/site-packages (from librosa==0.8.1) (1.6.0)\n",
      "Requirement already satisfied: packaging>=20.0 in /home/ray/anaconda3/lib/python3.10/site-packages (from librosa==0.8.1) (23.0)\n",
      "Requirement already satisfied: numba>=0.43.0 in /home/ray/anaconda3/lib/python3.10/site-packages (from librosa==0.8.1) (0.55.2)\n",
      "Requirement already satisfied: resampy>=0.2.2 in /home/ray/anaconda3/lib/python3.10/site-packages (from librosa==0.8.1) (0.4.2)\n",
      "Requirement already satisfied: scipy>=1.0.0 in /home/ray/anaconda3/lib/python3.10/site-packages (from librosa==0.8.1) (1.10.1)\n",
      "Requirement already satisfied: audioread>=2.0.0 in /home/ray/anaconda3/lib/python3.10/site-packages (from librosa==0.8.1) (3.0.0)\n",
      "Requirement already satisfied: scikit-learn!=0.19.0,>=0.14.0 in /home/ray/anaconda3/lib/python3.10/site-packages (from librosa==0.8.1) (1.2.1)\n",
      "Requirement already satisfied: decorator>=3.0.0 in /home/ray/anaconda3/lib/python3.10/site-packages (from librosa==0.8.1) (5.1.1)\n",
      "Requirement already satisfied: setuptools in /home/ray/anaconda3/lib/python3.10/site-packages (from numba>=0.43.0->librosa==0.8.1) (67.4.0)\n",
      "Requirement already satisfied: llvmlite<0.39,>=0.38.0rc1 in /home/ray/anaconda3/lib/python3.10/site-packages (from numba>=0.43.0->librosa==0.8.1) (0.38.1)\n",
      "Requirement already satisfied: requests>=2.19.0 in /home/ray/anaconda3/lib/python3.10/site-packages (from pooch>=1.0->librosa==0.8.1) (2.28.2)\n",
      "Requirement already satisfied: appdirs>=1.3.0 in /home/ray/anaconda3/lib/python3.10/site-packages (from pooch>=1.0->librosa==0.8.1) (1.4.4)\n",
      "Requirement already satisfied: threadpoolctl>=2.0.0 in /home/ray/anaconda3/lib/python3.10/site-packages (from scikit-learn!=0.19.0,>=0.14.0->librosa==0.8.1) (3.1.0)\n",
      "Requirement already satisfied: cffi>=1.0 in /home/ray/anaconda3/lib/python3.10/site-packages (from soundfile>=0.10.2->librosa==0.8.1) (1.15.1)\n",
      "Requirement already satisfied: pycparser in /home/ray/anaconda3/lib/python3.10/site-packages (from cffi>=1.0->soundfile>=0.10.2->librosa==0.8.1) (2.21)\n",
      "Requirement already satisfied: charset-normalizer<4,>=2 in /home/ray/anaconda3/lib/python3.10/site-packages (from requests>=2.19.0->pooch>=1.0->librosa==0.8.1) (3.0.1)\n",
      "Requirement already satisfied: urllib3<1.27,>=1.21.1 in /home/ray/anaconda3/lib/python3.10/site-packages (from requests>=2.19.0->pooch>=1.0->librosa==0.8.1) (1.26.14)\n",
      "Requirement already satisfied: idna<4,>=2.5 in /home/ray/anaconda3/lib/python3.10/site-packages (from requests>=2.19.0->pooch>=1.0->librosa==0.8.1) (3.4)\n",
      "Requirement already satisfied: certifi>=2017.4.17 in /home/ray/anaconda3/lib/python3.10/site-packages (from requests>=2.19.0->pooch>=1.0->librosa==0.8.1) (2022.12.7)\n",
      "Installing collected packages: librosa\n",
      "  Attempting uninstall: librosa\n",
      "    Found existing installation: librosa 0.10.0\n",
      "    Uninstalling librosa-0.10.0:\n",
      "      Successfully uninstalled librosa-0.10.0\n",
      "\u001b[31mERROR: pip's dependency resolver does not currently take into account all the packages that are installed. This behaviour is the source of the following dependency conflicts.\n",
      "tts 0.11.1 requires cython==0.29.28, but you have cython 0.29.33 which is incompatible.\n",
      "tts 0.11.1 requires inflect==5.6.0, but you have inflect 6.0.2 which is incompatible.\n",
      "tts 0.11.1 requires librosa==0.8.0, but you have librosa 0.8.1 which is incompatible.\n",
      "tts 0.11.1 requires numpy==1.22.4; python_version == \"3.10\", but you have numpy 1.22.0 which is incompatible.\u001b[0m\u001b[31m\n",
      "\u001b[0mSuccessfully installed librosa-0.8.1\n"
     ]
    }
   ],
   "source": [
    "# Install a pip package in the current Jupyter kernel\n",
    "import sys\n",
    "!{sys.executable} -m pip install librosa==0.8.1"
   ]
  },
  {
   "cell_type": "code",
   "execution_count": 2,
   "id": "740e227e",
   "metadata": {},
   "outputs": [],
   "source": [
    "import pandas as pd\n",
    "import ray\n",
    "parallelism_length = 400"
   ]
  },
  {
   "cell_type": "code",
   "execution_count": 3,
   "id": "5f36cc32",
   "metadata": {},
   "outputs": [
    {
     "name": "stderr",
     "output_type": "stream",
     "text": [
      "2023-03-06 16:54:26,264\tINFO worker.py:1360 -- Connecting to existing Ray cluster at address: 10.0.37.211:6379...\n",
      "2023-03-06 16:54:26,291\tINFO worker.py:1548 -- Connected to Ray cluster. View the dashboard at \u001b[1m\u001b[32mhttps://console.anyscale.com/api/v2/sessions/ses_ha6my3r3kl4mn9jdylcqnfutq1/services?redirect_to=dashboard \u001b[39m\u001b[22m\n",
      "2023-03-06 16:54:26,316\tINFO packaging.py:330 -- Pushing file package 'gcs://_ray_pkg_c450220a9fe1382fee31ab05c616a7cf.zip' (6.75MiB) to Ray cluster...\n",
      "2023-03-06 16:54:26,438\tINFO packaging.py:343 -- Successfully pushed file package 'gcs://_ray_pkg_c450220a9fe1382fee31ab05c616a7cf.zip'.\n"
     ]
    }
   ],
   "source": [
    "lj_df = pd.read_csv(\n",
    "    \"https://uberduck-datasets-dirty.s3.us-west-2.amazonaws.com/lj_for_upload/metadata_formatted_100_edited.txt\",\n",
    "    sep=\"|\",\n",
    "    header=None,\n",
    "    quoting=3,\n",
    "    names=[\"path\", \"transcript\", \"speaker_id\"], # pitch path is implicit - this should be changed\n",
    ")\n",
    "speaker_ids = lj_df.speaker_id.tolist()\n",
    "speaker_ids_ds = ray.data.from_items(speaker_ids, parallelism=parallelism_length)\n",
    "speaker_ids_ds = speaker_ids_ds.map_batches(\n",
    "    lambda x: x, batch_format=\"pyarrow\", batch_size=None\n",
    ")"
   ]
  },
  {
   "cell_type": "code",
   "execution_count": 4,
   "id": "aefb5d76",
   "metadata": {},
   "outputs": [
    {
     "data": {
      "text/html": [
       "<div>\n",
       "<style scoped>\n",
       "    .dataframe tbody tr th:only-of-type {\n",
       "        vertical-align: middle;\n",
       "    }\n",
       "\n",
       "    .dataframe tbody tr th {\n",
       "        vertical-align: top;\n",
       "    }\n",
       "\n",
       "    .dataframe thead th {\n",
       "        text-align: right;\n",
       "    }\n",
       "</style>\n",
       "<table border=\"1\" class=\"dataframe\">\n",
       "  <thead>\n",
       "    <tr style=\"text-align: right;\">\n",
       "      <th></th>\n",
       "      <th>path</th>\n",
       "      <th>transcript</th>\n",
       "      <th>speaker_id</th>\n",
       "    </tr>\n",
       "  </thead>\n",
       "  <tbody>\n",
       "    <tr>\n",
       "      <th>0</th>\n",
       "      <td>s3://uberduck-datasets-dirty/lj_for_upload/lj_...</td>\n",
       "      <td>Printing, in the only sense with which we are ...</td>\n",
       "      <td>0</td>\n",
       "    </tr>\n",
       "    <tr>\n",
       "      <th>1</th>\n",
       "      <td>s3://uberduck-datasets-dirty/lj_for_upload/lj_...</td>\n",
       "      <td>in being comparatively modern.</td>\n",
       "      <td>0</td>\n",
       "    </tr>\n",
       "    <tr>\n",
       "      <th>2</th>\n",
       "      <td>s3://uberduck-datasets-dirty/lj_for_upload/lj_...</td>\n",
       "      <td>For although the Chinese took impressions from...</td>\n",
       "      <td>0</td>\n",
       "    </tr>\n",
       "    <tr>\n",
       "      <th>3</th>\n",
       "      <td>s3://uberduck-datasets-dirty/lj_for_upload/lj_...</td>\n",
       "      <td>produced the block books, which were the immed...</td>\n",
       "      <td>0</td>\n",
       "    </tr>\n",
       "    <tr>\n",
       "      <th>4</th>\n",
       "      <td>s3://uberduck-datasets-dirty/lj_for_upload/lj_...</td>\n",
       "      <td>the invention of movable metal letters in the ...</td>\n",
       "      <td>0</td>\n",
       "    </tr>\n",
       "    <tr>\n",
       "      <th>...</th>\n",
       "      <td>...</td>\n",
       "      <td>...</td>\n",
       "      <td>...</td>\n",
       "    </tr>\n",
       "    <tr>\n",
       "      <th>95</th>\n",
       "      <td>s3://uberduck-datasets-dirty/lj_for_upload/lj_...</td>\n",
       "      <td>have now come into general use and are obvious...</td>\n",
       "      <td>0</td>\n",
       "    </tr>\n",
       "    <tr>\n",
       "      <th>96</th>\n",
       "      <td>s3://uberduck-datasets-dirty/lj_for_upload/lj_...</td>\n",
       "      <td>a little reduced in ugliness. The design of th...</td>\n",
       "      <td>0</td>\n",
       "    </tr>\n",
       "    <tr>\n",
       "      <th>97</th>\n",
       "      <td>s3://uberduck-datasets-dirty/lj_for_upload/lj_...</td>\n",
       "      <td>and the whole effect is a little too gray, owi...</td>\n",
       "      <td>0</td>\n",
       "    </tr>\n",
       "    <tr>\n",
       "      <th>98</th>\n",
       "      <td>s3://uberduck-datasets-dirty/lj_for_upload/lj_...</td>\n",
       "      <td>It must be remembered, however, that most mode...</td>\n",
       "      <td>0</td>\n",
       "    </tr>\n",
       "    <tr>\n",
       "      <th>99</th>\n",
       "      <td>s3://uberduck-datasets-dirty/lj_for_upload/lj_...</td>\n",
       "      <td>and these somewhat wiry letters are suitable f...</td>\n",
       "      <td>0</td>\n",
       "    </tr>\n",
       "  </tbody>\n",
       "</table>\n",
       "<p>100 rows × 3 columns</p>\n",
       "</div>"
      ],
      "text/plain": [
       "                                                 path  \\\n",
       "0   s3://uberduck-datasets-dirty/lj_for_upload/lj_...   \n",
       "1   s3://uberduck-datasets-dirty/lj_for_upload/lj_...   \n",
       "2   s3://uberduck-datasets-dirty/lj_for_upload/lj_...   \n",
       "3   s3://uberduck-datasets-dirty/lj_for_upload/lj_...   \n",
       "4   s3://uberduck-datasets-dirty/lj_for_upload/lj_...   \n",
       "..                                                ...   \n",
       "95  s3://uberduck-datasets-dirty/lj_for_upload/lj_...   \n",
       "96  s3://uberduck-datasets-dirty/lj_for_upload/lj_...   \n",
       "97  s3://uberduck-datasets-dirty/lj_for_upload/lj_...   \n",
       "98  s3://uberduck-datasets-dirty/lj_for_upload/lj_...   \n",
       "99  s3://uberduck-datasets-dirty/lj_for_upload/lj_...   \n",
       "\n",
       "                                           transcript  speaker_id  \n",
       "0   Printing, in the only sense with which we are ...           0  \n",
       "1                      in being comparatively modern.           0  \n",
       "2   For although the Chinese took impressions from...           0  \n",
       "3   produced the block books, which were the immed...           0  \n",
       "4   the invention of movable metal letters in the ...           0  \n",
       "..                                                ...         ...  \n",
       "95  have now come into general use and are obvious...           0  \n",
       "96  a little reduced in ugliness. The design of th...           0  \n",
       "97  and the whole effect is a little too gray, owi...           0  \n",
       "98  It must be remembered, however, that most mode...           0  \n",
       "99  and these somewhat wiry letters are suitable f...           0  \n",
       "\n",
       "[100 rows x 3 columns]"
      ]
     },
     "execution_count": 4,
     "metadata": {},
     "output_type": "execute_result"
    }
   ],
   "source": [
    "lj_df"
   ]
  },
  {
   "cell_type": "code",
   "execution_count": 3,
   "id": "89ebc090",
   "metadata": {},
   "outputs": [],
   "source": [
    "output_dataset = speaker_ids_ds.map_batches(\n",
    "    lambda table: table.rename(\n",
    "        columns={\n",
    "\n",
    "            \"value_1\": \"speaker_id\"\n",
    "        }\n",
    "    )\n",
    ")"
   ]
  },
  {
   "cell_type": "code",
   "execution_count": 4,
   "id": "f66c6f98",
   "metadata": {},
   "outputs": [
    {
     "ename": "AttributeError",
     "evalue": "'Dataset' object has no attribute 'speaker_id'",
     "output_type": "error",
     "traceback": [
      "\u001b[0;31m---------------------------------------------------------------------------\u001b[0m",
      "\u001b[0;31mAttributeError\u001b[0m                            Traceback (most recent call last)",
      "Cell \u001b[0;32mIn[4], line 1\u001b[0m\n\u001b[0;32m----> 1\u001b[0m \u001b[43moutput_dataset\u001b[49m\u001b[38;5;241;43m.\u001b[39;49m\u001b[43mspeaker_id\u001b[49m\u001b[38;5;241m.\u001b[39mtolist()\n",
      "\u001b[0;31mAttributeError\u001b[0m: 'Dataset' object has no attribute 'speaker_id'"
     ]
    },
    {
     "name": "stdout",
     "output_type": "stream",
     "text": [
      "(autoscaler +2s) Tip: use `ray status` to view detailed cluster status. To disable these messages, set RAY_SCHEDULER_EVENTS=0.\n",
      "(autoscaler +2s) Removing 2 nodes of type worker-node-type-0 (idle).\n",
      "(autoscaler +7s) Removing 2 nodes of type worker-node-type-0 (idle).\n",
      "(autoscaler +12s) Removing 2 nodes of type worker-node-type-0 (idle).\n"
     ]
    }
   ],
   "source": [
    "output_dataset.speaker_id.tolist()"
   ]
  },
  {
   "cell_type": "code",
   "execution_count": null,
   "id": "8b64fec2",
   "metadata": {},
   "outputs": [],
   "source": [
    "pd.DataFrame(output_dataset)"
   ]
  },
  {
   "cell_type": "code",
   "execution_count": null,
   "id": "0c71be36",
   "metadata": {},
   "outputs": [
    {
     "name": "stderr",
     "output_type": "stream",
     "text": [
      "2023-03-06 16:50:22,749\tINFO bulk_executor.py:41 -- Executing DAG InputDataBuffer[Input] -> TaskPoolMapOperator[MapBatches(<lambda>)->MapBatches(<lambda>)]\n",
      "MapBatches(<lambda>)->MapBatches(<lambda>): 100%|██████████| 100/100 [00:03<00:00, 28.88it/s]\n"
     ]
    }
   ],
   "source": [
    "output_dataset"
   ]
  },
  {
   "cell_type": "code",
   "execution_count": 39,
   "id": "41ee9821",
   "metadata": {},
   "outputs": [],
   "source": [
    "#     lj_df = pd.read_csv(\n",
    "#         \"https://uberduck-datasets-dirty.s3.us-west-2.amazonaws.com/vctk_mic1/all_with_embs.txt\",\n",
    "#         sep=\"|\",\n",
    "#         header=None,\n",
    "#         quoting=3,\n",
    "#         names=[\"path\", \"speaker_id\", \"transcript\", \"dataset_audio_file_id\", \"emb_path\"],\n",
    "#     )"
   ]
  },
  {
   "cell_type": "code",
   "execution_count": 38,
   "id": "ed8f1d17",
   "metadata": {},
   "outputs": [],
   "source": [
    "# lj_df['path'][0]"
   ]
  },
  {
   "cell_type": "code",
   "execution_count": 37,
   "id": "9cee7d69",
   "metadata": {},
   "outputs": [],
   "source": [
    "# transcripts_ds = ray.data.from_items(transcripts, parallelism=parallelism_length)\n",
    "# speaker_ids_ds = ray.data.from_items(speaker_ids, parallelism=parallelism_length)\n",
    "# dataset_audio_file_ids = ray.data.from_items(\n",
    "#     dataset_audio_files, parallelism=parallelism_length\n",
    "# )\n",
    "\n",
    "# pitch_paths_ds = ray.data.read_binary_files(\n",
    "#     pitch_paths,\n",
    "#     parallelism=parallelism_length,\n",
    "#     meta_provider=FastFileMetadataProvider(),\n",
    "#     ray_remote_args={\"num_cpus\": 0.2},\n",
    "# )\n",
    "\n",
    "# audio_ds = audio_ds.map_batches(\n",
    "#     lambda x: x, batch_format=\"pyarrow\", batch_size=None\n",
    "# )\n",
    "# transcripts_ds = transcripts_ds.map_batches(\n",
    "#     lambda x: x, batch_format=\"pyarrow\", batch_size=None\n",
    "# )\n",
    "# dataset_audio_file_ids = dataset_audio_file_ids.map_batches(\n",
    "#     lambda x: x, batch_format=\"pyarrow\", batch_size=None\n",
    "# )\n",
    "# paths_ds = paths.map_batches(lambda x: x, batch_format=\"pyarrow\", batch_size=None)\n",
    "# pitches_paths_ds = pitch_paths_ds.map_batches(\n",
    "#     lambda x: x, batch_format=\"pyarrow\", batch_size=None\n",
    "# )\n",
    "# speaker_ids_ds = speaker_ids_ds.map_batches(\n",
    "#     lambda x: x, batch_format=\"pyarrow\", batch_size=None\n",
    "# )\n"
   ]
  },
  {
   "cell_type": "code",
   "execution_count": null,
   "id": "25b11811",
   "metadata": {},
   "outputs": [],
   "source": []
  }
 ],
 "metadata": {
  "kernelspec": {
   "display_name": "Python 3 (ipykernel)",
   "language": "python",
   "name": "python3"
  },
  "language_info": {
   "codemirror_mode": {
    "name": "ipython",
    "version": 3
   },
   "file_extension": ".py",
   "mimetype": "text/x-python",
   "name": "python",
   "nbconvert_exporter": "python",
   "pygments_lexer": "ipython3",
   "version": "3.10.9"
  }
 },
 "nbformat": 4,
 "nbformat_minor": 5
}
