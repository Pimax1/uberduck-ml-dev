{
 "cells": [
  {
   "cell_type": "code",
   "execution_count": 2,
   "id": "a7c4738d",
   "metadata": {},
   "outputs": [],
   "source": [
    "# import pandas as pd\n",
    "# import ray\n",
    "# from ray.data.datasource import FastFileMetadataProvider"
   ]
  },
  {
   "cell_type": "code",
   "execution_count": 3,
   "id": "8d2fa732",
   "metadata": {},
   "outputs": [],
   "source": [
    "# lj_df = pd.read_csv(\n",
    "#     \"https://uberduck-datasets-dirty.s3.us-west-2.amazonaws.com/lj_for_upload/metadata_formatted_100.txt\",\n",
    "#     sep=\"|\",\n",
    "#     header=None,\n",
    "#     quoting=3,\n",
    "#     names=[\"path\", \"transcript\", \"speaker_id\"], # pitch path is implicit - this should be changed\n",
    "# )\n",
    "\n",
    "# paths = lj_df.path.tolist()\n",
    "# transcripts = lj_df.transcript.tolist()\n",
    "# speaker_ids = lj_df.speaker_id.tolist()\n",
    "\n",
    "# parallelism_length = 400\n",
    "# audio_ds = ray.data.read_binary_files(\n",
    "#     paths,\n",
    "#     parallelism=parallelism_length,\n",
    "#     meta_provider=FastFileMetadataProvider(),\n",
    "#     ray_remote_args={\"num_cpus\": 0.2},\n",
    "# )\n",
    "# audio_ds = audio_ds.map_batches(\n",
    "#     lambda x: x, batch_format=\"pyarrow\", batch_size=None\n",
    "# )\n",
    "\n",
    "# paths = ray.data.from_items(paths, parallelism=parallelism_length)\n",
    "# paths_ds = paths.map_batches(lambda x: x, batch_format=\"pyarrow\", batch_size=None)\n",
    "\n",
    "# transcripts = ray.data.from_items(transcripts, parallelism=parallelism_length)\n",
    "# transcripts_ds = transcripts.map_batches(lambda x: x, batch_format=\"pyarrow\", batch_size=None)\n",
    "\n",
    "# speaker_ids_ds = ray.data.from_items(speaker_ids, parallelism=parallelism_length)\n",
    "# speaker_ids_ds = speaker_ids_ds.map_batches(\n",
    "#     lambda x: x, batch_format=\"pyarrow\", batch_size=None\n",
    "# )\n",
    "# output_dataset = (\n",
    "#     transcripts_ds.zip(audio_ds)\n",
    "#     .zip(paths_ds)\n",
    "#     .zip(speaker_ids_ds)\n",
    "# )\n",
    "# output_dataset = output_dataset.map_batches(\n",
    "#     lambda table: table.rename(\n",
    "#         columns={\n",
    "#             \"value_1\": \"transcript\",\n",
    "#             \"value_2\": \"audio_bytes\",\n",
    "#             \"value_3\": \"path\",\n",
    "#             \"value_4\": \"speaker_id\"\n",
    "#         }\n",
    "#     )\n",
    "# )"
   ]
  },
  {
   "cell_type": "code",
   "execution_count": 3,
   "id": "1940815c",
   "metadata": {},
   "outputs": [],
   "source": [
    "from uberduck_ml_dev.exec.train_radtts_with_ray import get_ray_dataset, train_func\n",
    "from ray.train.torch import TorchTrainer, TorchCheckpoint, TorchTrainer\n",
    "class TorchCheckpointFixed(TorchCheckpoint):\n",
    "    def __setstate__(self, state: dict):\n",
    "        if \"_data_dict\" in state and state[\"_data_dict\"]:\n",
    "            state = state.copy()\n",
    "            state[\"_data_dict\"] = self._decode_data_dict(state[\"_data_dict\"])\n",
    "        super(TorchCheckpoint, self).__setstate__(state)\n",
    "\n"
   ]
  },
  {
   "cell_type": "code",
   "execution_count": 6,
   "id": "43689b01",
   "metadata": {},
   "outputs": [
    {
     "name": "stderr",
     "output_type": "stream",
     "text": [
      "(_get_read_tasks pid=180547) 2023-03-06 14:04:35,484\tWARNING file_meta_provider.py:162 -- Expanding 100 path(s). This may be a HIGH LATENCY operation on some cloud storage services. If the specified paths all point to files and never directories, try rerunning this read with `meta_provider=FastFileMetadataProvider()`.\n"
     ]
    }
   ],
   "source": [
    "ray_dataset = get_ray_dataset()"
   ]
  },
  {
   "cell_type": "code",
   "execution_count": null,
   "id": "cef5b3dc",
   "metadata": {},
   "outputs": [],
   "source": [
    "ray_dataset"
   ]
  },
  {
   "cell_type": "code",
   "execution_count": null,
   "id": "dea22646",
   "metadata": {},
   "outputs": [],
   "source": [
    "# checkpoint_uri = None # from scratch\n",
    "# checkpoint = TorchCheckpointFixed.from_uri(checkpoint_uri)"
   ]
  },
  {
   "cell_type": "code",
   "execution_count": null,
   "id": "95370018",
   "metadata": {},
   "outputs": [],
   "source": [
    "from ray.air.config import ScalingConfig, RunConfig\n",
    "from ray.tune import SyncConfig"
   ]
  },
  {
   "cell_type": "code",
   "execution_count": null,
   "id": "79389f3a",
   "metadata": {},
   "outputs": [
    {
     "name": "stdout",
     "output_type": "stream",
     "text": [
      "(autoscaler +4m45s) Tip: use `ray status` to view detailed cluster status. To disable these messages, set RAY_SCHEDULER_EVENTS=0.\n",
      "(autoscaler +4m45s) Removing 4 nodes of type worker-node-type-0 (idle).\n",
      "(autoscaler +4m50s) Removing 4 nodes of type worker-node-type-0 (idle).\n",
      "(autoscaler +4m55s) Removing 5 nodes of type worker-node-type-0 (idle).\n",
      "(autoscaler +5m1s) Removing 5 nodes of type worker-node-type-0 (idle).\n",
      "(autoscaler +5m6s) Removing 5 nodes of type worker-node-type-0 (idle).\n",
      "(autoscaler +5m11s) Removing 5 nodes of type worker-node-type-0 (idle).\n",
      "(autoscaler +5m16s) Removing 5 nodes of type worker-node-type-0 (idle).\n",
      "(autoscaler +5m21s) Removing 5 nodes of type worker-node-type-0 (idle).\n",
      "(autoscaler +5m26s) Removing 5 nodes of type worker-node-type-0 (idle).\n",
      "(autoscaler +5m31s) Removing 5 nodes of type worker-node-type-0 (idle).\n",
      "(autoscaler +5m36s) Removing 5 nodes of type worker-node-type-0 (idle).\n",
      "(autoscaler +5m41s) Removing 5 nodes of type worker-node-type-0 (idle).\n",
      "(autoscaler +5m46s) Removing 5 nodes of type worker-node-type-0 (idle).\n",
      "(autoscaler +5m51s) Removing 5 nodes of type worker-node-type-0 (idle).\n",
      "(autoscaler +5m56s) Removing 5 nodes of type worker-node-type-0 (idle).\n",
      "(autoscaler +6m1s) Removing 5 nodes of type worker-node-type-0 (idle).\n",
      "(autoscaler +6m6s) Removing 5 nodes of type worker-node-type-0 (idle).\n",
      "(autoscaler +6m11s) Removing 5 nodes of type worker-node-type-0 (idle).\n",
      "(autoscaler +6m16s) Removing 2 nodes of type worker-node-type-0 (idle).\n",
      "(autoscaler +6m21s) Resized to 36 CPUs, 1 GPUs.\n",
      "(autoscaler +6m21s) Removing 2 nodes of type worker-node-type-0 (idle).\n",
      "(autoscaler +6m26s) Removing 2 nodes of type worker-node-type-0 (idle).\n",
      "(autoscaler +6m31s) Removing 2 nodes of type worker-node-type-0 (idle).\n",
      "(autoscaler +6m36s) Removing 2 nodes of type worker-node-type-0 (idle).\n",
      "(autoscaler +6m41s) Removing 2 nodes of type worker-node-type-0 (idle).\n",
      "(autoscaler +6m51s) Resized to 4 CPUs, 1 GPUs.\n"
     ]
    }
   ],
   "source": [
    "trainer = TorchTrainer(\n",
    "    train_loop_per_worker=train_func,\n",
    "    train_loop_config={\n",
    "        \"epochs\": 10,\n",
    "        \"batch_size\": 16,\n",
    "    },\n",
    "    scaling_config=ScalingConfig(\n",
    "        num_workers=10, use_gpu=True, resources_per_worker=dict(CPU=4, GPU=1)\n",
    "    ),\n",
    "    run_config=RunConfig(\n",
    "        sync_config=SyncConfig(upload_dir=\"s3://uberduck-anyscale-data/checkpoints\")\n",
    "    ),\n",
    "    datasets={\"train\": ray_dataset},\n",
    ")"
   ]
  },
  {
   "cell_type": "code",
   "execution_count": 11,
   "id": "f967e203",
   "metadata": {},
   "outputs": [
    {
     "name": "stderr",
     "output_type": "stream",
     "text": [
      "2023-03-06 13:40:02,779\tINFO bulk_executor.py:41 -- Executing DAG InputDataBuffer[Input] -> TaskPoolMapOperator[MapBatches(<lambda>)] -> AllToAllOperator[zip] -> AllToAllOperator[zip] -> AllToAllOperator[zip] -> TaskPoolMapOperator[MapBatches(<lambda>)]\n",
      "MapBatches(<lambda>): 100%|██████████| 100/100 [00:01<00:00, 52.76it/s]\n"
     ]
    },
    {
     "ename": "ValueError",
     "evalue": "The size in bytes of the block must be known: (ObjectRef(00ffffffffffffffffffffffffffffffffffffff03000000f9010000), BlockMetadata(num_rows=1, size_bytes=None, schema=None, input_files=array(['LJ001-0001.wav'], dtype='<U14'), exec_stats=None))",
     "output_type": "error",
     "traceback": [
      "\u001b[0;31m---------------------------------------------------------------------------\u001b[0m",
      "\u001b[0;31mValueError\u001b[0m                                Traceback (most recent call last)",
      "File \u001b[0;32m~/anaconda3/lib/python3.10/site-packages/IPython/core/formatters.py:920\u001b[0m, in \u001b[0;36mIPythonDisplayFormatter.__call__\u001b[0;34m(self, obj)\u001b[0m\n\u001b[1;32m    918\u001b[0m method \u001b[38;5;241m=\u001b[39m get_real_method(obj, \u001b[38;5;28mself\u001b[39m\u001b[38;5;241m.\u001b[39mprint_method)\n\u001b[1;32m    919\u001b[0m \u001b[38;5;28;01mif\u001b[39;00m method \u001b[38;5;129;01mis\u001b[39;00m \u001b[38;5;129;01mnot\u001b[39;00m \u001b[38;5;28;01mNone\u001b[39;00m:\n\u001b[0;32m--> 920\u001b[0m     \u001b[43mmethod\u001b[49m\u001b[43m(\u001b[49m\u001b[43m)\u001b[49m\n\u001b[1;32m    921\u001b[0m     \u001b[38;5;28;01mreturn\u001b[39;00m \u001b[38;5;28;01mTrue\u001b[39;00m\n",
      "File \u001b[0;32m~/anaconda3/lib/python3.10/site-packages/ray/widgets/util.py:109\u001b[0m, in \u001b[0;36mensure_notebook_deps.<locals>.wrapper.<locals>.wrapped\u001b[0;34m(*args, **kwargs)\u001b[0m\n\u001b[1;32m    105\u001b[0m \u001b[38;5;28;01mif\u001b[39;00m _has_missing(\u001b[38;5;241m*\u001b[39mdeps, message\u001b[38;5;241m=\u001b[39mmissing_message) \u001b[38;5;129;01mor\u001b[39;00m _has_outdated(\n\u001b[1;32m    106\u001b[0m     \u001b[38;5;241m*\u001b[39mdeps, message\u001b[38;5;241m=\u001b[39moutdated_message\n\u001b[1;32m    107\u001b[0m ):\n\u001b[1;32m    108\u001b[0m     \u001b[38;5;28;01mreturn\u001b[39;00m \u001b[38;5;28;01mNone\u001b[39;00m\n\u001b[0;32m--> 109\u001b[0m \u001b[38;5;28;01mreturn\u001b[39;00m \u001b[43mfunc\u001b[49m\u001b[43m(\u001b[49m\u001b[38;5;241;43m*\u001b[39;49m\u001b[43margs\u001b[49m\u001b[43m,\u001b[49m\u001b[43m \u001b[49m\u001b[38;5;241;43m*\u001b[39;49m\u001b[38;5;241;43m*\u001b[39;49m\u001b[43mkwargs\u001b[49m\u001b[43m)\u001b[49m\n",
      "File \u001b[0;32m~/anaconda3/lib/python3.10/site-packages/ray/data/dataset.py:4294\u001b[0m, in \u001b[0;36mDataset._ipython_display_\u001b[0;34m(self)\u001b[0m\n\u001b[1;32m   4291\u001b[0m \u001b[38;5;28;01mfrom\u001b[39;00m \u001b[38;5;21;01mIPython\u001b[39;00m\u001b[38;5;21;01m.\u001b[39;00m\u001b[38;5;21;01mdisplay\u001b[39;00m \u001b[38;5;28;01mimport\u001b[39;00m display\n\u001b[1;32m   4293\u001b[0m title \u001b[38;5;241m=\u001b[39m HTML(\u001b[38;5;124mf\u001b[39m\u001b[38;5;124m\"\u001b[39m\u001b[38;5;124m<h2>\u001b[39m\u001b[38;5;132;01m{\u001b[39;00m\u001b[38;5;28mself\u001b[39m\u001b[38;5;241m.\u001b[39m\u001b[38;5;18m__class__\u001b[39m\u001b[38;5;241m.\u001b[39m\u001b[38;5;18m__name__\u001b[39m\u001b[38;5;132;01m}\u001b[39;00m\u001b[38;5;124m</h2>\u001b[39m\u001b[38;5;124m\"\u001b[39m)\n\u001b[0;32m-> 4294\u001b[0m tab \u001b[38;5;241m=\u001b[39m \u001b[38;5;28;43mself\u001b[39;49m\u001b[38;5;241;43m.\u001b[39;49m\u001b[43m_tab_repr_\u001b[49m\u001b[43m(\u001b[49m\u001b[43m)\u001b[49m\n\u001b[1;32m   4296\u001b[0m \u001b[38;5;28;01mif\u001b[39;00m tab:\n\u001b[1;32m   4297\u001b[0m     display(VBox([title, tab], layout\u001b[38;5;241m=\u001b[39mLayout(width\u001b[38;5;241m=\u001b[39m\u001b[38;5;124m\"\u001b[39m\u001b[38;5;124m100\u001b[39m\u001b[38;5;124m%\u001b[39m\u001b[38;5;124m\"\u001b[39m)))\n",
      "File \u001b[0;32m~/anaconda3/lib/python3.10/site-packages/ray/widgets/util.py:109\u001b[0m, in \u001b[0;36mensure_notebook_deps.<locals>.wrapper.<locals>.wrapped\u001b[0;34m(*args, **kwargs)\u001b[0m\n\u001b[1;32m    105\u001b[0m \u001b[38;5;28;01mif\u001b[39;00m _has_missing(\u001b[38;5;241m*\u001b[39mdeps, message\u001b[38;5;241m=\u001b[39mmissing_message) \u001b[38;5;129;01mor\u001b[39;00m _has_outdated(\n\u001b[1;32m    106\u001b[0m     \u001b[38;5;241m*\u001b[39mdeps, message\u001b[38;5;241m=\u001b[39moutdated_message\n\u001b[1;32m    107\u001b[0m ):\n\u001b[1;32m    108\u001b[0m     \u001b[38;5;28;01mreturn\u001b[39;00m \u001b[38;5;28;01mNone\u001b[39;00m\n\u001b[0;32m--> 109\u001b[0m \u001b[38;5;28;01mreturn\u001b[39;00m \u001b[43mfunc\u001b[49m\u001b[43m(\u001b[49m\u001b[38;5;241;43m*\u001b[39;49m\u001b[43margs\u001b[49m\u001b[43m,\u001b[49m\u001b[43m \u001b[49m\u001b[38;5;241;43m*\u001b[39;49m\u001b[38;5;241;43m*\u001b[39;49m\u001b[43mkwargs\u001b[49m\u001b[43m)\u001b[49m\n",
      "File \u001b[0;32m~/anaconda3/lib/python3.10/site-packages/ray/data/dataset.py:4312\u001b[0m, in \u001b[0;36mDataset._tab_repr_\u001b[0;34m(self)\u001b[0m\n\u001b[1;32m   4305\u001b[0m \u001b[38;5;28;01mfrom\u001b[39;00m \u001b[38;5;21;01mipywidgets\u001b[39;00m \u001b[38;5;28;01mimport\u001b[39;00m Tab, HTML\n\u001b[1;32m   4307\u001b[0m metadata \u001b[38;5;241m=\u001b[39m {\n\u001b[1;32m   4308\u001b[0m     \u001b[38;5;124m\"\u001b[39m\u001b[38;5;124mnum_blocks\u001b[39m\u001b[38;5;124m\"\u001b[39m: \u001b[38;5;28mself\u001b[39m\u001b[38;5;241m.\u001b[39m_plan\u001b[38;5;241m.\u001b[39minitial_num_blocks(),\n\u001b[1;32m   4309\u001b[0m     \u001b[38;5;124m\"\u001b[39m\u001b[38;5;124mnum_rows\u001b[39m\u001b[38;5;124m\"\u001b[39m: \u001b[38;5;28mself\u001b[39m\u001b[38;5;241m.\u001b[39m_meta_count(),\n\u001b[1;32m   4310\u001b[0m }\n\u001b[0;32m-> 4312\u001b[0m schema \u001b[38;5;241m=\u001b[39m \u001b[38;5;28;43mself\u001b[39;49m\u001b[38;5;241;43m.\u001b[39;49m\u001b[43mschema\u001b[49m\u001b[43m(\u001b[49m\u001b[43m)\u001b[49m\n\u001b[1;32m   4313\u001b[0m \u001b[38;5;28;01mif\u001b[39;00m schema \u001b[38;5;129;01mis\u001b[39;00m \u001b[38;5;28;01mNone\u001b[39;00m:\n\u001b[1;32m   4314\u001b[0m     schema_repr \u001b[38;5;241m=\u001b[39m Template(\u001b[38;5;124m\"\u001b[39m\u001b[38;5;124mrendered_html_common.html.j2\u001b[39m\u001b[38;5;124m\"\u001b[39m)\u001b[38;5;241m.\u001b[39mrender(\n\u001b[1;32m   4315\u001b[0m         content\u001b[38;5;241m=\u001b[39m\u001b[38;5;124m\"\u001b[39m\u001b[38;5;124m<h5>Unknown schema</h5>\u001b[39m\u001b[38;5;124m\"\u001b[39m\n\u001b[1;32m   4316\u001b[0m     )\n",
      "File \u001b[0;32m~/anaconda3/lib/python3.10/site-packages/ray/data/dataset.py:2241\u001b[0m, in \u001b[0;36mDataset.schema\u001b[0;34m(self, fetch_if_missing)\u001b[0m\n\u001b[1;32m   2216\u001b[0m \u001b[38;5;129m@ConsumptionAPI\u001b[39m(\n\u001b[1;32m   2217\u001b[0m     if_more_than_read\u001b[38;5;241m=\u001b[39m\u001b[38;5;28;01mTrue\u001b[39;00m,\n\u001b[1;32m   2218\u001b[0m     datasource_metadata\u001b[38;5;241m=\u001b[39m\u001b[38;5;124m\"\u001b[39m\u001b[38;5;124mschema\u001b[39m\u001b[38;5;124m\"\u001b[39m,\n\u001b[0;32m   (...)\u001b[0m\n\u001b[1;32m   2223\u001b[0m     \u001b[38;5;28mself\u001b[39m, fetch_if_missing: \u001b[38;5;28mbool\u001b[39m \u001b[38;5;241m=\u001b[39m \u001b[38;5;28;01mTrue\u001b[39;00m\n\u001b[1;32m   2224\u001b[0m ) \u001b[38;5;241m-\u001b[39m\u001b[38;5;241m>\u001b[39m Union[\u001b[38;5;28mtype\u001b[39m, \u001b[38;5;124m\"\u001b[39m\u001b[38;5;124mpyarrow.lib.Schema\u001b[39m\u001b[38;5;124m\"\u001b[39m]:\n\u001b[1;32m   2225\u001b[0m \u001b[38;5;250m    \u001b[39m\u001b[38;5;124;03m\"\"\"Return the schema of the dataset.\u001b[39;00m\n\u001b[1;32m   2226\u001b[0m \n\u001b[1;32m   2227\u001b[0m \u001b[38;5;124;03m    For datasets of Arrow records, this will return the Arrow schema.\u001b[39;00m\n\u001b[0;32m   (...)\u001b[0m\n\u001b[1;32m   2239\u001b[0m \u001b[38;5;124;03m        schema is not known and fetch_if_missing is False.\u001b[39;00m\n\u001b[1;32m   2240\u001b[0m \u001b[38;5;124;03m    \"\"\"\u001b[39;00m\n\u001b[0;32m-> 2241\u001b[0m     \u001b[38;5;28;01mreturn\u001b[39;00m \u001b[38;5;28;43mself\u001b[39;49m\u001b[38;5;241;43m.\u001b[39;49m\u001b[43m_plan\u001b[49m\u001b[38;5;241;43m.\u001b[39;49m\u001b[43mschema\u001b[49m\u001b[43m(\u001b[49m\u001b[43mfetch_if_missing\u001b[49m\u001b[38;5;241;43m=\u001b[39;49m\u001b[43mfetch_if_missing\u001b[49m\u001b[43m)\u001b[49m\n",
      "File \u001b[0;32m~/anaconda3/lib/python3.10/site-packages/ray/data/_internal/plan.py:362\u001b[0m, in \u001b[0;36mExecutionPlan.schema\u001b[0;34m(self, fetch_if_missing)\u001b[0m\n\u001b[1;32m    360\u001b[0m             \u001b[38;5;28mself\u001b[39m\u001b[38;5;241m.\u001b[39m_stages_after_snapshot\u001b[38;5;241m.\u001b[39mappend(a)\n\u001b[1;32m    361\u001b[0m     \u001b[38;5;28;01melse\u001b[39;00m:\n\u001b[0;32m--> 362\u001b[0m         \u001b[38;5;28;43mself\u001b[39;49m\u001b[38;5;241;43m.\u001b[39;49m\u001b[43mexecute\u001b[49m\u001b[43m(\u001b[49m\u001b[43m)\u001b[49m\n\u001b[1;32m    363\u001b[0m \u001b[38;5;28;01melif\u001b[39;00m \u001b[38;5;28mlen\u001b[39m(\u001b[38;5;28mself\u001b[39m\u001b[38;5;241m.\u001b[39m_stages_after_snapshot) \u001b[38;5;241m==\u001b[39m \u001b[38;5;241m1\u001b[39m \u001b[38;5;129;01mand\u001b[39;00m \u001b[38;5;28misinstance\u001b[39m(\n\u001b[1;32m    364\u001b[0m     \u001b[38;5;28mself\u001b[39m\u001b[38;5;241m.\u001b[39m_stages_after_snapshot[\u001b[38;5;241m-\u001b[39m\u001b[38;5;241m1\u001b[39m], RandomizeBlocksStage\n\u001b[1;32m    365\u001b[0m ):\n\u001b[1;32m    366\u001b[0m     \u001b[38;5;66;03m# If RandomizeBlocksStage is last stage, we execute it (regardless of\u001b[39;00m\n\u001b[1;32m    367\u001b[0m     \u001b[38;5;66;03m# the fetch_if_missing), since RandomizeBlocksStage is just changing\u001b[39;00m\n\u001b[1;32m    368\u001b[0m     \u001b[38;5;66;03m# the order of references (hence super cheap).\u001b[39;00m\n\u001b[1;32m    369\u001b[0m     \u001b[38;5;28mself\u001b[39m\u001b[38;5;241m.\u001b[39mexecute()\n",
      "File \u001b[0;32m~/anaconda3/lib/python3.10/site-packages/ray/data/_internal/plan.py:552\u001b[0m, in \u001b[0;36mExecutionPlan.execute\u001b[0;34m(self, allow_clear_input_blocks, force_read)\u001b[0m\n\u001b[1;32m    550\u001b[0m \u001b[38;5;28;01melse\u001b[39;00m:\n\u001b[1;32m    551\u001b[0m     executor \u001b[38;5;241m=\u001b[39m BulkExecutor(copy\u001b[38;5;241m.\u001b[39mdeepcopy(context\u001b[38;5;241m.\u001b[39mexecution_options))\n\u001b[0;32m--> 552\u001b[0m blocks \u001b[38;5;241m=\u001b[39m \u001b[43mexecute_to_legacy_block_list\u001b[49m\u001b[43m(\u001b[49m\n\u001b[1;32m    553\u001b[0m \u001b[43m    \u001b[49m\u001b[43mexecutor\u001b[49m\u001b[43m,\u001b[49m\n\u001b[1;32m    554\u001b[0m \u001b[43m    \u001b[49m\u001b[38;5;28;43mself\u001b[39;49m\u001b[43m,\u001b[49m\n\u001b[1;32m    555\u001b[0m \u001b[43m    \u001b[49m\u001b[43mallow_clear_input_blocks\u001b[49m\u001b[38;5;241;43m=\u001b[39;49m\u001b[43mallow_clear_input_blocks\u001b[49m\u001b[43m,\u001b[49m\n\u001b[1;32m    556\u001b[0m \u001b[43m    \u001b[49m\u001b[43mdataset_uuid\u001b[49m\u001b[38;5;241;43m=\u001b[39;49m\u001b[38;5;28;43mself\u001b[39;49m\u001b[38;5;241;43m.\u001b[39;49m\u001b[43m_dataset_uuid\u001b[49m\u001b[43m,\u001b[49m\n\u001b[1;32m    557\u001b[0m \u001b[43m\u001b[49m\u001b[43m)\u001b[49m\n\u001b[1;32m    558\u001b[0m \u001b[38;5;66;03m# TODO(ekl) we shouldn't need to set this in the future once we move\u001b[39;00m\n\u001b[1;32m    559\u001b[0m \u001b[38;5;66;03m# to a fully lazy execution model, unless .cache() is used. The reason\u001b[39;00m\n\u001b[1;32m    560\u001b[0m \u001b[38;5;66;03m# we need it right now is since the user may iterate over a Dataset\u001b[39;00m\n\u001b[1;32m    561\u001b[0m \u001b[38;5;66;03m# multiple times after fully executing it once.\u001b[39;00m\n\u001b[1;32m    562\u001b[0m \u001b[38;5;28;01mif\u001b[39;00m \u001b[38;5;129;01mnot\u001b[39;00m \u001b[38;5;28mself\u001b[39m\u001b[38;5;241m.\u001b[39m_run_by_consumer:\n",
      "File \u001b[0;32m~/anaconda3/lib/python3.10/site-packages/ray/data/_internal/execution/legacy_compat.py:87\u001b[0m, in \u001b[0;36mexecute_to_legacy_block_list\u001b[0;34m(executor, plan, allow_clear_input_blocks, dataset_uuid)\u001b[0m\n\u001b[1;32m     85\u001b[0m \u001b[38;5;28;01melse\u001b[39;00m:\n\u001b[1;32m     86\u001b[0m     dag, stats \u001b[38;5;241m=\u001b[39m _to_operator_dag(plan, allow_clear_input_blocks)\n\u001b[0;32m---> 87\u001b[0m bundles \u001b[38;5;241m=\u001b[39m \u001b[43mexecutor\u001b[49m\u001b[38;5;241;43m.\u001b[39;49m\u001b[43mexecute\u001b[49m\u001b[43m(\u001b[49m\u001b[43mdag\u001b[49m\u001b[43m,\u001b[49m\u001b[43m \u001b[49m\u001b[43minitial_stats\u001b[49m\u001b[38;5;241;43m=\u001b[39;49m\u001b[43mstats\u001b[49m\u001b[43m)\u001b[49m\n\u001b[1;32m     88\u001b[0m block_list \u001b[38;5;241m=\u001b[39m _bundles_to_block_list(bundles)\n\u001b[1;32m     89\u001b[0m \u001b[38;5;66;03m# Set the stats UUID after execution finishes.\u001b[39;00m\n",
      "File \u001b[0;32m~/anaconda3/lib/python3.10/site-packages/ray/data/_internal/execution/bulk_executor.py:84\u001b[0m, in \u001b[0;36mBulkExecutor.execute\u001b[0;34m(self, dag, initial_stats)\u001b[0m\n\u001b[1;32m     79\u001b[0m     logger\u001b[38;5;241m.\u001b[39mget_logger(log_to_stdout\u001b[38;5;241m=\u001b[39mcontext\u001b[38;5;241m.\u001b[39menable_auto_log_stats)\u001b[38;5;241m.\u001b[39minfo(\n\u001b[1;32m     80\u001b[0m         stats_summary_string,\n\u001b[1;32m     81\u001b[0m     )\n\u001b[1;32m     82\u001b[0m     \u001b[38;5;28;01mreturn\u001b[39;00m output\n\u001b[0;32m---> 84\u001b[0m \u001b[38;5;28;01mreturn\u001b[39;00m \u001b[43mexecute_recursive\u001b[49m\u001b[43m(\u001b[49m\u001b[43mdag\u001b[49m\u001b[43m)\u001b[49m\n",
      "File \u001b[0;32m~/anaconda3/lib/python3.10/site-packages/ray/data/_internal/execution/bulk_executor.py:54\u001b[0m, in \u001b[0;36mBulkExecutor.execute.<locals>.execute_recursive\u001b[0;34m(op)\u001b[0m\n\u001b[1;32m     51\u001b[0m     \u001b[38;5;28;01mreturn\u001b[39;00m saved_outputs[op]\n\u001b[1;32m     53\u001b[0m \u001b[38;5;66;03m# Compute dependencies.\u001b[39;00m\n\u001b[0;32m---> 54\u001b[0m inputs \u001b[38;5;241m=\u001b[39m [execute_recursive(dep) \u001b[38;5;28;01mfor\u001b[39;00m dep \u001b[38;5;129;01min\u001b[39;00m op\u001b[38;5;241m.\u001b[39minput_dependencies]\n\u001b[1;32m     56\u001b[0m \u001b[38;5;66;03m# Fully execute this operator.\u001b[39;00m\n\u001b[1;32m     57\u001b[0m logger\u001b[38;5;241m.\u001b[39mget_logger()\u001b[38;5;241m.\u001b[39mdebug(\u001b[38;5;124m\"\u001b[39m\u001b[38;5;124mExecuting op \u001b[39m\u001b[38;5;132;01m%s\u001b[39;00m\u001b[38;5;124m\"\u001b[39m, op\u001b[38;5;241m.\u001b[39mname)\n",
      "File \u001b[0;32m~/anaconda3/lib/python3.10/site-packages/ray/data/_internal/execution/bulk_executor.py:54\u001b[0m, in \u001b[0;36m<listcomp>\u001b[0;34m(.0)\u001b[0m\n\u001b[1;32m     51\u001b[0m     \u001b[38;5;28;01mreturn\u001b[39;00m saved_outputs[op]\n\u001b[1;32m     53\u001b[0m \u001b[38;5;66;03m# Compute dependencies.\u001b[39;00m\n\u001b[0;32m---> 54\u001b[0m inputs \u001b[38;5;241m=\u001b[39m [\u001b[43mexecute_recursive\u001b[49m\u001b[43m(\u001b[49m\u001b[43mdep\u001b[49m\u001b[43m)\u001b[49m \u001b[38;5;28;01mfor\u001b[39;00m dep \u001b[38;5;129;01min\u001b[39;00m op\u001b[38;5;241m.\u001b[39minput_dependencies]\n\u001b[1;32m     56\u001b[0m \u001b[38;5;66;03m# Fully execute this operator.\u001b[39;00m\n\u001b[1;32m     57\u001b[0m logger\u001b[38;5;241m.\u001b[39mget_logger()\u001b[38;5;241m.\u001b[39mdebug(\u001b[38;5;124m\"\u001b[39m\u001b[38;5;124mExecuting op \u001b[39m\u001b[38;5;132;01m%s\u001b[39;00m\u001b[38;5;124m\"\u001b[39m, op\u001b[38;5;241m.\u001b[39mname)\n",
      "File \u001b[0;32m~/anaconda3/lib/python3.10/site-packages/ray/data/_internal/execution/bulk_executor.py:54\u001b[0m, in \u001b[0;36mBulkExecutor.execute.<locals>.execute_recursive\u001b[0;34m(op)\u001b[0m\n\u001b[1;32m     51\u001b[0m     \u001b[38;5;28;01mreturn\u001b[39;00m saved_outputs[op]\n\u001b[1;32m     53\u001b[0m \u001b[38;5;66;03m# Compute dependencies.\u001b[39;00m\n\u001b[0;32m---> 54\u001b[0m inputs \u001b[38;5;241m=\u001b[39m [execute_recursive(dep) \u001b[38;5;28;01mfor\u001b[39;00m dep \u001b[38;5;129;01min\u001b[39;00m op\u001b[38;5;241m.\u001b[39minput_dependencies]\n\u001b[1;32m     56\u001b[0m \u001b[38;5;66;03m# Fully execute this operator.\u001b[39;00m\n\u001b[1;32m     57\u001b[0m logger\u001b[38;5;241m.\u001b[39mget_logger()\u001b[38;5;241m.\u001b[39mdebug(\u001b[38;5;124m\"\u001b[39m\u001b[38;5;124mExecuting op \u001b[39m\u001b[38;5;132;01m%s\u001b[39;00m\u001b[38;5;124m\"\u001b[39m, op\u001b[38;5;241m.\u001b[39mname)\n",
      "File \u001b[0;32m~/anaconda3/lib/python3.10/site-packages/ray/data/_internal/execution/bulk_executor.py:54\u001b[0m, in \u001b[0;36m<listcomp>\u001b[0;34m(.0)\u001b[0m\n\u001b[1;32m     51\u001b[0m     \u001b[38;5;28;01mreturn\u001b[39;00m saved_outputs[op]\n\u001b[1;32m     53\u001b[0m \u001b[38;5;66;03m# Compute dependencies.\u001b[39;00m\n\u001b[0;32m---> 54\u001b[0m inputs \u001b[38;5;241m=\u001b[39m [\u001b[43mexecute_recursive\u001b[49m\u001b[43m(\u001b[49m\u001b[43mdep\u001b[49m\u001b[43m)\u001b[49m \u001b[38;5;28;01mfor\u001b[39;00m dep \u001b[38;5;129;01min\u001b[39;00m op\u001b[38;5;241m.\u001b[39minput_dependencies]\n\u001b[1;32m     56\u001b[0m \u001b[38;5;66;03m# Fully execute this operator.\u001b[39;00m\n\u001b[1;32m     57\u001b[0m logger\u001b[38;5;241m.\u001b[39mget_logger()\u001b[38;5;241m.\u001b[39mdebug(\u001b[38;5;124m\"\u001b[39m\u001b[38;5;124mExecuting op \u001b[39m\u001b[38;5;132;01m%s\u001b[39;00m\u001b[38;5;124m\"\u001b[39m, op\u001b[38;5;241m.\u001b[39mname)\n",
      "File \u001b[0;32m~/anaconda3/lib/python3.10/site-packages/ray/data/_internal/execution/bulk_executor.py:54\u001b[0m, in \u001b[0;36mBulkExecutor.execute.<locals>.execute_recursive\u001b[0;34m(op)\u001b[0m\n\u001b[1;32m     51\u001b[0m     \u001b[38;5;28;01mreturn\u001b[39;00m saved_outputs[op]\n\u001b[1;32m     53\u001b[0m \u001b[38;5;66;03m# Compute dependencies.\u001b[39;00m\n\u001b[0;32m---> 54\u001b[0m inputs \u001b[38;5;241m=\u001b[39m [execute_recursive(dep) \u001b[38;5;28;01mfor\u001b[39;00m dep \u001b[38;5;129;01min\u001b[39;00m op\u001b[38;5;241m.\u001b[39minput_dependencies]\n\u001b[1;32m     56\u001b[0m \u001b[38;5;66;03m# Fully execute this operator.\u001b[39;00m\n\u001b[1;32m     57\u001b[0m logger\u001b[38;5;241m.\u001b[39mget_logger()\u001b[38;5;241m.\u001b[39mdebug(\u001b[38;5;124m\"\u001b[39m\u001b[38;5;124mExecuting op \u001b[39m\u001b[38;5;132;01m%s\u001b[39;00m\u001b[38;5;124m\"\u001b[39m, op\u001b[38;5;241m.\u001b[39mname)\n",
      "File \u001b[0;32m~/anaconda3/lib/python3.10/site-packages/ray/data/_internal/execution/bulk_executor.py:54\u001b[0m, in \u001b[0;36m<listcomp>\u001b[0;34m(.0)\u001b[0m\n\u001b[1;32m     51\u001b[0m     \u001b[38;5;28;01mreturn\u001b[39;00m saved_outputs[op]\n\u001b[1;32m     53\u001b[0m \u001b[38;5;66;03m# Compute dependencies.\u001b[39;00m\n\u001b[0;32m---> 54\u001b[0m inputs \u001b[38;5;241m=\u001b[39m [\u001b[43mexecute_recursive\u001b[49m\u001b[43m(\u001b[49m\u001b[43mdep\u001b[49m\u001b[43m)\u001b[49m \u001b[38;5;28;01mfor\u001b[39;00m dep \u001b[38;5;129;01min\u001b[39;00m op\u001b[38;5;241m.\u001b[39minput_dependencies]\n\u001b[1;32m     56\u001b[0m \u001b[38;5;66;03m# Fully execute this operator.\u001b[39;00m\n\u001b[1;32m     57\u001b[0m logger\u001b[38;5;241m.\u001b[39mget_logger()\u001b[38;5;241m.\u001b[39mdebug(\u001b[38;5;124m\"\u001b[39m\u001b[38;5;124mExecuting op \u001b[39m\u001b[38;5;132;01m%s\u001b[39;00m\u001b[38;5;124m\"\u001b[39m, op\u001b[38;5;241m.\u001b[39mname)\n",
      "File \u001b[0;32m~/anaconda3/lib/python3.10/site-packages/ray/data/_internal/execution/bulk_executor.py:64\u001b[0m, in \u001b[0;36mBulkExecutor.execute.<locals>.execute_recursive\u001b[0;34m(op)\u001b[0m\n\u001b[1;32m     62\u001b[0m         \u001b[38;5;28;01mfor\u001b[39;00m r \u001b[38;5;129;01min\u001b[39;00m ref_bundles:\n\u001b[1;32m     63\u001b[0m             op\u001b[38;5;241m.\u001b[39madd_input(r, input_index\u001b[38;5;241m=\u001b[39mi)\n\u001b[0;32m---> 64\u001b[0m     \u001b[43mop\u001b[49m\u001b[38;5;241;43m.\u001b[39;49m\u001b[43minputs_done\u001b[49m\u001b[43m(\u001b[49m\u001b[43m)\u001b[49m\n\u001b[1;32m     65\u001b[0m     output \u001b[38;5;241m=\u001b[39m _naive_run_until_complete(op)\n\u001b[1;32m     66\u001b[0m \u001b[38;5;28;01mfinally\u001b[39;00m:\n",
      "File \u001b[0;32m~/anaconda3/lib/python3.10/site-packages/ray/data/_internal/execution/operators/all_to_all_operator.py:57\u001b[0m, in \u001b[0;36mAllToAllOperator.inputs_done\u001b[0;34m(self)\u001b[0m\n\u001b[1;32m     55\u001b[0m \u001b[38;5;28;01mdef\u001b[39;00m \u001b[38;5;21minputs_done\u001b[39m(\u001b[38;5;28mself\u001b[39m) \u001b[38;5;241m-\u001b[39m\u001b[38;5;241m>\u001b[39m \u001b[38;5;28;01mNone\u001b[39;00m:\n\u001b[1;32m     56\u001b[0m     ctx \u001b[38;5;241m=\u001b[39m TaskContext(task_idx\u001b[38;5;241m=\u001b[39m\u001b[38;5;28mself\u001b[39m\u001b[38;5;241m.\u001b[39m_next_task_index)\n\u001b[0;32m---> 57\u001b[0m     \u001b[38;5;28mself\u001b[39m\u001b[38;5;241m.\u001b[39m_output_buffer, \u001b[38;5;28mself\u001b[39m\u001b[38;5;241m.\u001b[39m_stats \u001b[38;5;241m=\u001b[39m \u001b[38;5;28;43mself\u001b[39;49m\u001b[38;5;241;43m.\u001b[39;49m\u001b[43m_bulk_fn\u001b[49m\u001b[43m(\u001b[49m\u001b[38;5;28;43mself\u001b[39;49m\u001b[38;5;241;43m.\u001b[39;49m\u001b[43m_input_buffer\u001b[49m\u001b[43m,\u001b[49m\u001b[43m \u001b[49m\u001b[43mctx\u001b[49m\u001b[43m)\u001b[49m\n\u001b[1;32m     58\u001b[0m     \u001b[38;5;28mself\u001b[39m\u001b[38;5;241m.\u001b[39m_next_task_index \u001b[38;5;241m+\u001b[39m\u001b[38;5;241m=\u001b[39m \u001b[38;5;241m1\u001b[39m\n\u001b[1;32m     59\u001b[0m     \u001b[38;5;28mself\u001b[39m\u001b[38;5;241m.\u001b[39m_input_buffer\u001b[38;5;241m.\u001b[39mclear()\n",
      "File \u001b[0;32m~/anaconda3/lib/python3.10/site-packages/ray/data/_internal/execution/legacy_compat.py:249\u001b[0m, in \u001b[0;36m_stage_to_operator.<locals>.bulk_fn\u001b[0;34m(refs, ctx)\u001b[0m\n\u001b[1;32m    247\u001b[0m     output_owned \u001b[38;5;241m=\u001b[39m \u001b[38;5;28;01mTrue\u001b[39;00m\n\u001b[1;32m    248\u001b[0m block_list \u001b[38;5;241m=\u001b[39m _bundles_to_block_list(refs)\n\u001b[0;32m--> 249\u001b[0m block_list, stats_dict \u001b[38;5;241m=\u001b[39m \u001b[43mfn\u001b[49m\u001b[43m(\u001b[49m\n\u001b[1;32m    250\u001b[0m \u001b[43m    \u001b[49m\u001b[43mblock_list\u001b[49m\u001b[43m,\u001b[49m\u001b[43m \u001b[49m\u001b[43mctx\u001b[49m\u001b[43m,\u001b[49m\u001b[43m \u001b[49m\u001b[43minput_owned\u001b[49m\u001b[43m,\u001b[49m\u001b[43m \u001b[49m\u001b[43mblock_udf\u001b[49m\u001b[43m,\u001b[49m\u001b[43m \u001b[49m\u001b[43mremote_args\u001b[49m\n\u001b[1;32m    251\u001b[0m \u001b[43m\u001b[49m\u001b[43m)\u001b[49m\n\u001b[1;32m    252\u001b[0m output \u001b[38;5;241m=\u001b[39m _block_list_to_bundles(block_list, owns_blocks\u001b[38;5;241m=\u001b[39moutput_owned)\n\u001b[1;32m    253\u001b[0m \u001b[38;5;28;01mif\u001b[39;00m \u001b[38;5;129;01mnot\u001b[39;00m stats_dict:\n",
      "File \u001b[0;32m~/anaconda3/lib/python3.10/site-packages/ray/data/_internal/stage_impl.py:152\u001b[0m, in \u001b[0;36mZipStage.__init__.<locals>.do_zip_all\u001b[0;34m(block_list, clear_input_blocks, *_)\u001b[0m\n\u001b[1;32m    150\u001b[0m \u001b[38;5;28;01mdef\u001b[39;00m \u001b[38;5;21mdo_zip_all\u001b[39m(block_list, clear_input_blocks: \u001b[38;5;28mbool\u001b[39m, \u001b[38;5;241m*\u001b[39m_):\n\u001b[1;32m    151\u001b[0m     blocks1 \u001b[38;5;241m=\u001b[39m block_list\u001b[38;5;241m.\u001b[39mget_blocks()\n\u001b[0;32m--> 152\u001b[0m     blocks2 \u001b[38;5;241m=\u001b[39m \u001b[43mother\u001b[49m\u001b[38;5;241;43m.\u001b[39;49m\u001b[43mget_internal_block_refs\u001b[49m\u001b[43m(\u001b[49m\u001b[43m)\u001b[49m\n\u001b[1;32m    154\u001b[0m     \u001b[38;5;28;01mif\u001b[39;00m clear_input_blocks:\n\u001b[1;32m    155\u001b[0m         block_list\u001b[38;5;241m.\u001b[39mclear()\n",
      "File \u001b[0;32m~/anaconda3/lib/python3.10/site-packages/ray/data/dataset.py:3978\u001b[0m, in \u001b[0;36mDataset.get_internal_block_refs\u001b[0;34m(self)\u001b[0m\n\u001b[1;32m   3965\u001b[0m \u001b[38;5;129m@ConsumptionAPI\u001b[39m(pattern\u001b[38;5;241m=\u001b[39m\u001b[38;5;124m\"\u001b[39m\u001b[38;5;124mTime complexity:\u001b[39m\u001b[38;5;124m\"\u001b[39m)\n\u001b[1;32m   3966\u001b[0m \u001b[38;5;129m@DeveloperAPI\u001b[39m\n\u001b[1;32m   3967\u001b[0m \u001b[38;5;28;01mdef\u001b[39;00m \u001b[38;5;21mget_internal_block_refs\u001b[39m(\u001b[38;5;28mself\u001b[39m) \u001b[38;5;241m-\u001b[39m\u001b[38;5;241m>\u001b[39m List[ObjectRef[Block]]:\n\u001b[1;32m   3968\u001b[0m \u001b[38;5;250m    \u001b[39m\u001b[38;5;124;03m\"\"\"Get a list of references to the underlying blocks of this dataset.\u001b[39;00m\n\u001b[1;32m   3969\u001b[0m \n\u001b[1;32m   3970\u001b[0m \u001b[38;5;124;03m    This function can be used for zero-copy access to the data. It blocks\u001b[39;00m\n\u001b[0;32m   (...)\u001b[0m\n\u001b[1;32m   3976\u001b[0m \u001b[38;5;124;03m        A list of references to this dataset's blocks.\u001b[39;00m\n\u001b[1;32m   3977\u001b[0m \u001b[38;5;124;03m    \"\"\"\u001b[39;00m\n\u001b[0;32m-> 3978\u001b[0m     blocks \u001b[38;5;241m=\u001b[39m \u001b[38;5;28;43mself\u001b[39;49m\u001b[38;5;241;43m.\u001b[39;49m\u001b[43m_plan\u001b[49m\u001b[38;5;241;43m.\u001b[39;49m\u001b[43mexecute\u001b[49m\u001b[43m(\u001b[49m\u001b[43m)\u001b[49m\u001b[38;5;241m.\u001b[39mget_blocks()\n\u001b[1;32m   3979\u001b[0m     \u001b[38;5;28mself\u001b[39m\u001b[38;5;241m.\u001b[39m_synchronize_progress_bar()\n\u001b[1;32m   3980\u001b[0m     \u001b[38;5;28;01mreturn\u001b[39;00m blocks\n",
      "File \u001b[0;32m~/anaconda3/lib/python3.10/site-packages/ray/data/_internal/plan.py:552\u001b[0m, in \u001b[0;36mExecutionPlan.execute\u001b[0;34m(self, allow_clear_input_blocks, force_read)\u001b[0m\n\u001b[1;32m    550\u001b[0m \u001b[38;5;28;01melse\u001b[39;00m:\n\u001b[1;32m    551\u001b[0m     executor \u001b[38;5;241m=\u001b[39m BulkExecutor(copy\u001b[38;5;241m.\u001b[39mdeepcopy(context\u001b[38;5;241m.\u001b[39mexecution_options))\n\u001b[0;32m--> 552\u001b[0m blocks \u001b[38;5;241m=\u001b[39m \u001b[43mexecute_to_legacy_block_list\u001b[49m\u001b[43m(\u001b[49m\n\u001b[1;32m    553\u001b[0m \u001b[43m    \u001b[49m\u001b[43mexecutor\u001b[49m\u001b[43m,\u001b[49m\n\u001b[1;32m    554\u001b[0m \u001b[43m    \u001b[49m\u001b[38;5;28;43mself\u001b[39;49m\u001b[43m,\u001b[49m\n\u001b[1;32m    555\u001b[0m \u001b[43m    \u001b[49m\u001b[43mallow_clear_input_blocks\u001b[49m\u001b[38;5;241;43m=\u001b[39;49m\u001b[43mallow_clear_input_blocks\u001b[49m\u001b[43m,\u001b[49m\n\u001b[1;32m    556\u001b[0m \u001b[43m    \u001b[49m\u001b[43mdataset_uuid\u001b[49m\u001b[38;5;241;43m=\u001b[39;49m\u001b[38;5;28;43mself\u001b[39;49m\u001b[38;5;241;43m.\u001b[39;49m\u001b[43m_dataset_uuid\u001b[49m\u001b[43m,\u001b[49m\n\u001b[1;32m    557\u001b[0m \u001b[43m\u001b[49m\u001b[43m)\u001b[49m\n\u001b[1;32m    558\u001b[0m \u001b[38;5;66;03m# TODO(ekl) we shouldn't need to set this in the future once we move\u001b[39;00m\n\u001b[1;32m    559\u001b[0m \u001b[38;5;66;03m# to a fully lazy execution model, unless .cache() is used. The reason\u001b[39;00m\n\u001b[1;32m    560\u001b[0m \u001b[38;5;66;03m# we need it right now is since the user may iterate over a Dataset\u001b[39;00m\n\u001b[1;32m    561\u001b[0m \u001b[38;5;66;03m# multiple times after fully executing it once.\u001b[39;00m\n\u001b[1;32m    562\u001b[0m \u001b[38;5;28;01mif\u001b[39;00m \u001b[38;5;129;01mnot\u001b[39;00m \u001b[38;5;28mself\u001b[39m\u001b[38;5;241m.\u001b[39m_run_by_consumer:\n",
      "File \u001b[0;32m~/anaconda3/lib/python3.10/site-packages/ray/data/_internal/execution/legacy_compat.py:86\u001b[0m, in \u001b[0;36mexecute_to_legacy_block_list\u001b[0;34m(executor, plan, allow_clear_input_blocks, dataset_uuid)\u001b[0m\n\u001b[1;32m     84\u001b[0m     dag, stats \u001b[38;5;241m=\u001b[39m get_execution_plan(plan\u001b[38;5;241m.\u001b[39m_logical_plan)\u001b[38;5;241m.\u001b[39mdag, \u001b[38;5;28;01mNone\u001b[39;00m\n\u001b[1;32m     85\u001b[0m \u001b[38;5;28;01melse\u001b[39;00m:\n\u001b[0;32m---> 86\u001b[0m     dag, stats \u001b[38;5;241m=\u001b[39m \u001b[43m_to_operator_dag\u001b[49m\u001b[43m(\u001b[49m\u001b[43mplan\u001b[49m\u001b[43m,\u001b[49m\u001b[43m \u001b[49m\u001b[43mallow_clear_input_blocks\u001b[49m\u001b[43m)\u001b[49m\n\u001b[1;32m     87\u001b[0m bundles \u001b[38;5;241m=\u001b[39m executor\u001b[38;5;241m.\u001b[39mexecute(dag, initial_stats\u001b[38;5;241m=\u001b[39mstats)\n\u001b[1;32m     88\u001b[0m block_list \u001b[38;5;241m=\u001b[39m _bundles_to_block_list(bundles)\n",
      "File \u001b[0;32m~/anaconda3/lib/python3.10/site-packages/ray/data/_internal/execution/legacy_compat.py:109\u001b[0m, in \u001b[0;36m_to_operator_dag\u001b[0;34m(plan, allow_clear_input_blocks)\u001b[0m\n\u001b[1;32m    107\u001b[0m \u001b[38;5;28;01melse\u001b[39;00m:\n\u001b[1;32m    108\u001b[0m     owns_blocks \u001b[38;5;241m=\u001b[39m \u001b[38;5;28;01mFalse\u001b[39;00m\n\u001b[0;32m--> 109\u001b[0m operator \u001b[38;5;241m=\u001b[39m \u001b[43m_blocks_to_input_buffer\u001b[49m\u001b[43m(\u001b[49m\u001b[43mblocks\u001b[49m\u001b[43m,\u001b[49m\u001b[43m \u001b[49m\u001b[43mowns_blocks\u001b[49m\u001b[43m)\u001b[49m\n\u001b[1;32m    110\u001b[0m \u001b[38;5;28;01mfor\u001b[39;00m stage \u001b[38;5;129;01min\u001b[39;00m stages:\n\u001b[1;32m    111\u001b[0m     operator \u001b[38;5;241m=\u001b[39m _stage_to_operator(stage, operator)\n",
      "File \u001b[0;32m~/anaconda3/lib/python3.10/site-packages/ray/data/_internal/execution/legacy_compat.py:162\u001b[0m, in \u001b[0;36m_blocks_to_input_buffer\u001b[0;34m(blocks, owns_blocks)\u001b[0m\n\u001b[1;32m    160\u001b[0m     \u001b[38;5;28;01mreturn\u001b[39;00m MapOperator\u001b[38;5;241m.\u001b[39mcreate(do_read, inputs, name\u001b[38;5;241m=\u001b[39m\u001b[38;5;124m\"\u001b[39m\u001b[38;5;124mDoRead\u001b[39m\u001b[38;5;124m\"\u001b[39m)\n\u001b[1;32m    161\u001b[0m \u001b[38;5;28;01melse\u001b[39;00m:\n\u001b[0;32m--> 162\u001b[0m     output \u001b[38;5;241m=\u001b[39m \u001b[43m_block_list_to_bundles\u001b[49m\u001b[43m(\u001b[49m\u001b[43mblocks\u001b[49m\u001b[43m,\u001b[49m\u001b[43m \u001b[49m\u001b[43mowns_blocks\u001b[49m\u001b[38;5;241;43m=\u001b[39;49m\u001b[43mowns_blocks\u001b[49m\u001b[43m)\u001b[49m\n\u001b[1;32m    163\u001b[0m     \u001b[38;5;28;01mfor\u001b[39;00m i \u001b[38;5;129;01min\u001b[39;00m output:\n\u001b[1;32m    164\u001b[0m         \u001b[38;5;28;01mfor\u001b[39;00m b \u001b[38;5;129;01min\u001b[39;00m i\u001b[38;5;241m.\u001b[39mblocks:\n",
      "File \u001b[0;32m~/anaconda3/lib/python3.10/site-packages/ray/data/_internal/execution/legacy_compat.py:283\u001b[0m, in \u001b[0;36m_block_list_to_bundles\u001b[0;34m(blocks, owns_blocks)\u001b[0m\n\u001b[1;32m    280\u001b[0m output \u001b[38;5;241m=\u001b[39m []\n\u001b[1;32m    281\u001b[0m \u001b[38;5;28;01mfor\u001b[39;00m block, meta \u001b[38;5;129;01min\u001b[39;00m blocks\u001b[38;5;241m.\u001b[39miter_blocks_with_metadata():\n\u001b[1;32m    282\u001b[0m     output\u001b[38;5;241m.\u001b[39mappend(\n\u001b[0;32m--> 283\u001b[0m         \u001b[43mRefBundle\u001b[49m\u001b[43m(\u001b[49m\n\u001b[1;32m    284\u001b[0m \u001b[43m            \u001b[49m\u001b[43m[\u001b[49m\n\u001b[1;32m    285\u001b[0m \u001b[43m                \u001b[49m\u001b[43m(\u001b[49m\n\u001b[1;32m    286\u001b[0m \u001b[43m                    \u001b[49m\u001b[43mblock\u001b[49m\u001b[43m,\u001b[49m\n\u001b[1;32m    287\u001b[0m \u001b[43m                    \u001b[49m\u001b[43mmeta\u001b[49m\u001b[43m,\u001b[49m\n\u001b[1;32m    288\u001b[0m \u001b[43m                \u001b[49m\u001b[43m)\u001b[49m\n\u001b[1;32m    289\u001b[0m \u001b[43m            \u001b[49m\u001b[43m]\u001b[49m\u001b[43m,\u001b[49m\n\u001b[1;32m    290\u001b[0m \u001b[43m            \u001b[49m\u001b[43mowns_blocks\u001b[49m\u001b[38;5;241;43m=\u001b[39;49m\u001b[43mowns_blocks\u001b[49m\u001b[43m,\u001b[49m\n\u001b[1;32m    291\u001b[0m \u001b[43m        \u001b[49m\u001b[43m)\u001b[49m\n\u001b[1;32m    292\u001b[0m     )\n\u001b[1;32m    293\u001b[0m \u001b[38;5;28;01mreturn\u001b[39;00m output\n",
      "File \u001b[0;32m<string>:5\u001b[0m, in \u001b[0;36m__init__\u001b[0;34m(self, blocks, owns_blocks)\u001b[0m\n",
      "File \u001b[0;32m~/anaconda3/lib/python3.10/site-packages/ray/data/_internal/execution/interfaces.py:44\u001b[0m, in \u001b[0;36mRefBundle.__post_init__\u001b[0;34m(self)\u001b[0m\n\u001b[1;32m     42\u001b[0m \u001b[38;5;28;01massert\u001b[39;00m \u001b[38;5;28misinstance\u001b[39m(b[\u001b[38;5;241m1\u001b[39m], BlockMetadata), b\n\u001b[1;32m     43\u001b[0m \u001b[38;5;28;01mif\u001b[39;00m b[\u001b[38;5;241m1\u001b[39m]\u001b[38;5;241m.\u001b[39msize_bytes \u001b[38;5;129;01mis\u001b[39;00m \u001b[38;5;28;01mNone\u001b[39;00m:\n\u001b[0;32m---> 44\u001b[0m     \u001b[38;5;28;01mraise\u001b[39;00m \u001b[38;5;167;01mValueError\u001b[39;00m(\n\u001b[1;32m     45\u001b[0m         \u001b[38;5;124m\"\u001b[39m\u001b[38;5;124mThe size in bytes of the block must be known: \u001b[39m\u001b[38;5;132;01m{}\u001b[39;00m\u001b[38;5;124m\"\u001b[39m\u001b[38;5;241m.\u001b[39mformat(b)\n\u001b[1;32m     46\u001b[0m     )\n",
      "\u001b[0;31mValueError\u001b[0m: The size in bytes of the block must be known: (ObjectRef(00ffffffffffffffffffffffffffffffffffffff03000000f9010000), BlockMetadata(num_rows=1, size_bytes=None, schema=None, input_files=array(['LJ001-0001.wav'], dtype='<U14'), exec_stats=None))"
     ]
    },
    {
     "data": {
      "text/plain": [
       "MapBatches(<lambda>)\n",
       "+- Zip\n",
       "   +- Zip\n",
       "      +- Zip\n",
       "         +- MapBatches(<lambda>)\n",
       "            +- Dataset(num_blocks=100, num_rows=100, schema=<class 'str'>)"
      ]
     },
     "execution_count": 11,
     "metadata": {},
     "output_type": "execute_result"
    }
   ],
   "source": [
    "ray_dataset"
   ]
  },
  {
   "cell_type": "code",
   "execution_count": 33,
   "id": "f6f06c73",
   "metadata": {},
   "outputs": [],
   "source": []
  },
  {
   "cell_type": "code",
   "execution_count": 36,
   "id": "a2d7edf0",
   "metadata": {},
   "outputs": [],
   "source": []
  },
  {
   "cell_type": "code",
   "execution_count": 39,
   "id": "31954d19",
   "metadata": {},
   "outputs": [],
   "source": [
    "#     lj_df = pd.read_csv(\n",
    "#         \"https://uberduck-datasets-dirty.s3.us-west-2.amazonaws.com/vctk_mic1/all_with_embs.txt\",\n",
    "#         sep=\"|\",\n",
    "#         header=None,\n",
    "#         quoting=3,\n",
    "#         names=[\"path\", \"speaker_id\", \"transcript\", \"dataset_audio_file_id\", \"emb_path\"],\n",
    "#     )"
   ]
  },
  {
   "cell_type": "code",
   "execution_count": 38,
   "id": "1a462dce",
   "metadata": {},
   "outputs": [],
   "source": [
    "# lj_df['path'][0]"
   ]
  },
  {
   "cell_type": "code",
   "execution_count": 37,
   "id": "dde1f3f3",
   "metadata": {},
   "outputs": [],
   "source": [
    "# transcripts_ds = ray.data.from_items(transcripts, parallelism=parallelism_length)\n",
    "# speaker_ids_ds = ray.data.from_items(speaker_ids, parallelism=parallelism_length)\n",
    "# dataset_audio_file_ids = ray.data.from_items(\n",
    "#     dataset_audio_files, parallelism=parallelism_length\n",
    "# )\n",
    "\n",
    "# pitch_paths_ds = ray.data.read_binary_files(\n",
    "#     pitch_paths,\n",
    "#     parallelism=parallelism_length,\n",
    "#     meta_provider=FastFileMetadataProvider(),\n",
    "#     ray_remote_args={\"num_cpus\": 0.2},\n",
    "# )\n",
    "\n",
    "# audio_ds = audio_ds.map_batches(\n",
    "#     lambda x: x, batch_format=\"pyarrow\", batch_size=None\n",
    "# )\n",
    "# transcripts_ds = transcripts_ds.map_batches(\n",
    "#     lambda x: x, batch_format=\"pyarrow\", batch_size=None\n",
    "# )\n",
    "# dataset_audio_file_ids = dataset_audio_file_ids.map_batches(\n",
    "#     lambda x: x, batch_format=\"pyarrow\", batch_size=None\n",
    "# )\n",
    "# paths_ds = paths.map_batches(lambda x: x, batch_format=\"pyarrow\", batch_size=None)\n",
    "# pitches_paths_ds = pitch_paths_ds.map_batches(\n",
    "#     lambda x: x, batch_format=\"pyarrow\", batch_size=None\n",
    "# )\n",
    "# speaker_ids_ds = speaker_ids_ds.map_batches(\n",
    "#     lambda x: x, batch_format=\"pyarrow\", batch_size=None\n",
    "# )\n"
   ]
  },
  {
   "cell_type": "code",
   "execution_count": null,
   "id": "c93c8464",
   "metadata": {},
   "outputs": [],
   "source": []
  }
 ],
 "metadata": {
  "kernelspec": {
   "display_name": "Python 3 (ipykernel)",
   "language": "python",
   "name": "python3"
  },
  "language_info": {
   "codemirror_mode": {
    "name": "ipython",
    "version": 3
   },
   "file_extension": ".py",
   "mimetype": "text/x-python",
   "name": "python",
   "nbconvert_exporter": "python",
   "pygments_lexer": "ipython3",
   "version": "3.10.9"
  }
 },
 "nbformat": 4,
 "nbformat_minor": 5
}
