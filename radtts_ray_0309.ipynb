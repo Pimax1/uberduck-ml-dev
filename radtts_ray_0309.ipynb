{
 "cells": [
  {
   "cell_type": "code",
   "execution_count": 1,
   "id": "3efc78c0",
   "metadata": {},
   "outputs": [],
   "source": [
    "import requests\n",
    "import torch\n",
    "from io import BytesIO\n",
    "def get_s3_state_dict(s3_url):\n",
    "    response = requests.get(s3_url, stream=True)\n",
    "    bio = BytesIO(response.content)\n",
    "    state_dict = torch.load(bio)\n",
    "    return state_dict\n",
    "#     model.load_state_dict(loaded[\"model\"])\n",
    "\n",
    "# s3_url = \"https://uberduck-models.s3.us-west-1.amazonaws.com/radtts++ljs-dap.pt\"\n",
    "s3_url = \"https://uberduck-models-us-west-2.s3.us-west-2.amazonaws.com/radtts%2B%2Bljs-dap.pt\"\n",
    "pretrained_dict = get_s3_state_dict(s3_url)['state_dict']\n"
   ]
  },
  {
   "cell_type": "code",
   "execution_count": 2,
   "id": "8ada2a0e",
   "metadata": {},
   "outputs": [
    {
     "name": "stdout",
     "output_type": "stream",
     "text": [
      "Applying spectral norm to text encoder LSTM\n",
      "Applying spectral norm to context encoder LSTM\n"
     ]
    },
    {
     "name": "stderr",
     "output_type": "stream",
     "text": [
      "/home/ray/default/uberduck_ml_dev/models/common.py:1523: UserWarning: torch.qr is deprecated in favor of torch.linalg.qr and will be removed in a future PyTorch release.\n",
      "The boolean parameter 'some' has been replaced with a string parameter 'mode'.\n",
      "Q, R = torch.qr(A, some)\n",
      "should be replaced with\n",
      "Q, R = torch.linalg.qr(A, 'reduced' if some else 'complete') (Triggered internally at ../aten/src/ATen/native/BatchLinearAlgebra.cpp:2349.)\n",
      "  W = torch.qr(torch.FloatTensor(c, c).normal_())[0]\n",
      "/home/ray/anaconda3/lib/python3.10/site-packages/torch/functional.py:1682: UserWarning: torch.lu is deprecated in favor of torch.linalg.lu_factor / torch.linalg.lu_factor_ex and will be removed in a future PyTorch release.\n",
      "LU, pivots = torch.lu(A, compute_pivots)\n",
      "should be replaced with\n",
      "LU, pivots = torch.linalg.lu_factor(A, compute_pivots)\n",
      "and\n",
      "LU, pivots, info = torch.lu(A, compute_pivots, get_infos=True)\n",
      "should be replaced with\n",
      "LU, pivots, info = torch.linalg.lu_factor_ex(A, compute_pivots) (Triggered internally at ../aten/src/ATen/native/BatchLinearAlgebra.cpp:1915.)\n",
      "  return torch._lu_with_info(A, pivot=pivot, check_errors=(not get_infos))\n"
     ]
    }
   ],
   "source": [
    "import os\n",
    "os.chdir('/home/ray/default')\n",
    "from uberduck_ml_dev.models.radtts import RADTTS\n",
    "from uberduck_ml_dev.exec.train_radtts_with_ray import model_config\n",
    "\n",
    "include_layers = []\n",
    "ignore_layers_warmstart = []\n",
    "# \"warmstart\"\n",
    "model = RADTTS(\n",
    "    **model_config,\n",
    ")\n",
    "\n",
    "if len(include_layers):\n",
    "    pretrained_dict = {k: v for k, v in pretrained_dict.items()\n",
    "                       if any(l in k for l in include_layers)}\n",
    "\n",
    "if len(ignore_layers_warmstart):\n",
    "    pretrained_dict = {k: v for k, v in pretrained_dict.items()\n",
    "                       if all(l not in k for l in ignore_layers_warmstart)}\n",
    "\n",
    "model_dict = model.state_dict()\n",
    "model_dict.update(pretrained_dict)\n",
    "model.load_state_dict(model_dict, strict=False)\n",
    "model = model.cuda()\n",
    "# print(\"Warm started from {}\".format(checkpoint_path))\n",
    "# model.load_state_dict(state_dict['state_dict'])"
   ]
  },
  {
   "cell_type": "code",
   "execution_count": 3,
   "id": "4280aeb0",
   "metadata": {},
   "outputs": [],
   "source": [
    "from uberduck_ml_dev.exec.train_radtts_with_ray import get_ray_dataset\n"
   ]
  },
  {
   "cell_type": "code",
   "execution_count": 4,
   "id": "d278ae77",
   "metadata": {},
   "outputs": [
    {
     "name": "stderr",
     "output_type": "stream",
     "text": [
      "2023-03-09 11:29:11,271\tINFO worker.py:1360 -- Connecting to existing Ray cluster at address: 10.0.2.66:6379...\n",
      "2023-03-09 11:29:11,278\tINFO worker.py:1548 -- Connected to Ray cluster. View the dashboard at \u001b[1m\u001b[32mhttps://console.anyscale.com/api/v2/sessions/ses_ha6my3r3kl4mn9jdylcqnfutq1/services?redirect_to=dashboard \u001b[39m\u001b[22m\n",
      "2023-03-09 11:29:11,320\tINFO packaging.py:330 -- Pushing file package 'gcs://_ray_pkg_f302303355eeefa4ea4ee3eb81ca4fb2.zip' (16.84MiB) to Ray cluster...\n",
      "2023-03-09 11:29:11,558\tINFO packaging.py:343 -- Successfully pushed file package 'gcs://_ray_pkg_f302303355eeefa4ea4ee3eb81ca4fb2.zip'.\n",
      "(_get_read_tasks pid=4391, ip=10.0.26.49) 2023-03-09 11:29:13,174\tWARNING file_meta_provider.py:162 -- Expanding 100 path(s). This may be a HIGH LATENCY operation on some cloud storage services. If the specified paths all point to files and never directories, try rerunning this read with `meta_provider=FastFileMetadataProvider()`.\n"
     ]
    }
   ],
   "source": [
    "from uberduck_ml_dev.utils.utils import (\n",
    "    to_gpu,\n",
    ")\n",
    "from uberduck_ml_dev.exec.train_radtts_with_ray import ray_df_to_batch_radtts, get_text\n",
    "\n",
    "ray_dataset = get_ray_dataset()\n",
    "# batch = ray_dataset.take(6)\n",
    "\n"
   ]
  },
  {
   "cell_type": "code",
   "execution_count": 5,
   "id": "3441a483",
   "metadata": {},
   "outputs": [
    {
     "name": "stderr",
     "output_type": "stream",
     "text": [
      "2023-03-09 11:29:14,536\tINFO bulk_executor.py:41 -- Executing DAG InputDataBuffer[Input] -> TaskPoolMapOperator[MapBatches(<lambda>)] -> AllToAllOperator[zip] -> AllToAllOperator[zip] -> AllToAllOperator[zip] -> TaskPoolMapOperator[MapBatches(<lambda>)]\n",
      "MapBatches(<lambda>):   0%|          | 0/100 [00:00<?, ?it/s]"
     ]
    },
    {
     "name": "stdout",
     "output_type": "stream",
     "text": [
      "(autoscaler +11s) Tip: use `ray status` to view detailed cluster status. To disable these messages, set RAY_SCHEDULER_EVENTS=0.\n",
      "(autoscaler +11s) Removing 1 nodes of type worker-node-type-0 (idle).\n"
     ]
    },
    {
     "name": "stderr",
     "output_type": "stream",
     "text": [
      "MapBatches(<lambda>): 100%|██████████| 100/100 [00:03<00:00, 29.24it/s]\n",
      "2023-03-09 11:29:18,119\tINFO bulk_executor.py:41 -- Executing DAG InputDataBuffer[Input] -> TaskPoolMapOperator[read] -> TaskPoolMapOperator[MapBatches(<lambda>)]\n",
      "read:   8%|▊         | 8/100 [00:00<00:11,  8.12it/s]"
     ]
    },
    {
     "name": "stdout",
     "output_type": "stream",
     "text": [
      "(autoscaler +16s) Removing 1 nodes of type worker-node-type-0 (idle).\n"
     ]
    },
    {
     "name": "stderr",
     "output_type": "stream",
     "text": [
      "read: 100%|██████████| 100/100 [00:04<00:00, 24.86it/s]\n",
      "MapBatches(<lambda>): 100%|██████████| 100/100 [00:00<00:00, 1235.40it/s]\n",
      "2023-03-09 11:29:22,410\tINFO bulk_executor.py:41 -- Executing DAG InputDataBuffer[Input] -> TaskPoolMapOperator[MapBatches(<lambda>)]\n",
      "MapBatches(<lambda>): 100%|██████████| 100/100 [00:00<00:00, 2702.88it/s]\n",
      "2023-03-09 11:29:22,588\tINFO bulk_executor.py:41 -- Executing DAG InputDataBuffer[Input] -> TaskPoolMapOperator[MapBatches(<lambda>)]\n",
      "MapBatches(<lambda>): 100%|██████████| 100/100 [00:00<00:00, 2755.73it/s]\n",
      "MapBatches(<lambda>): 100%|██████████| 100/100 [00:00<00:00, 1282.69it/s]\n"
     ]
    },
    {
     "data": {
      "text/plain": [
       "'s3://uberduck-datasets-dirty/lj_for_upload/lj_data/LJSpeech-1.1/wavs/LJ001-0001_22k_normalized.wav'"
      ]
     },
     "execution_count": 5,
     "metadata": {},
     "output_type": "execute_result"
    }
   ],
   "source": [
    "batch = ray_dataset.take(1)\n",
    "batch[0]['path']"
   ]
  },
  {
   "cell_type": "code",
   "execution_count": 6,
   "id": "90b93800",
   "metadata": {},
   "outputs": [],
   "source": [
    "from tqdm import tqdm\n",
    "# sample_text.shape[1]"
   ]
  },
  {
   "cell_type": "code",
   "execution_count": 7,
   "id": "43d7c08a",
   "metadata": {},
   "outputs": [
    {
     "name": "stderr",
     "output_type": "stream",
     "text": [
      "/home/ray/default/uberduck_ml_dev/exec/train_radtts_with_ray.py:457: UserWarning: The given NumPy array is not writable, and PyTorch does not support non-writable tensors. This means writing to this tensor will result in undefined behavior. You may want to copy the array to protect its data or make it writable before converting it to a tensor. This type of warning will be suppressed for the rest of this program. (Triggered internally at ../torch/csrc/utils/tensor_numpy.cpp:199.)\n",
      "  audio = torch.FloatTensor(wav_data)\n"
     ]
    },
    {
     "data": {
      "text/plain": [
       "[['s3://uberduck-datasets-dirty/lj_for_upload/lj_data/LJSpeech-1.1/wavs/LJ001-0001_22k_normalized.wav']]"
      ]
     },
     "execution_count": 7,
     "metadata": {},
     "output_type": "execute_result"
    }
   ],
   "source": [
    "batch_dict = ray_df_to_batch_radtts(next(ray_dataset.iter_batches(batch_size=1)))\n",
    "batch_dict['audiopaths']"
   ]
  },
  {
   "cell_type": "code",
   "execution_count": 8,
   "id": "96e71243",
   "metadata": {},
   "outputs": [],
   "source": [
    "batch_iterator = ray_dataset.iter_batches(batch_size=1)"
   ]
  },
  {
   "cell_type": "code",
   "execution_count": 9,
   "id": "e9fa4308",
   "metadata": {},
   "outputs": [
    {
     "name": "stderr",
     "output_type": "stream",
     "text": [
      "  0%|          | 0/100 [00:00<?, ?it/s]"
     ]
    },
    {
     "name": "stdout",
     "output_type": "stream",
     "text": [
      "LJ001-0001_22k_normalized.wav\n"
     ]
    },
    {
     "name": "stderr",
     "output_type": "stream",
     "text": [
      "  1%|          | 1/100 [00:00<00:36,  2.70it/s]"
     ]
    },
    {
     "name": "stdout",
     "output_type": "stream",
     "text": [
      "(autoscaler +22s) Removing 1 nodes of type worker-node-type-0 (idle).\n",
      "LJ001-0002_22k_normalized.wav\n"
     ]
    },
    {
     "name": "stderr",
     "output_type": "stream",
     "text": [
      "  2%|▏         | 2/100 [00:02<02:42,  1.66s/it]"
     ]
    },
    {
     "name": "stdout",
     "output_type": "stream",
     "text": [
      "LJ001-0003_22k_normalized.wav\n"
     ]
    },
    {
     "name": "stderr",
     "output_type": "stream",
     "text": [
      "  3%|▎         | 3/100 [00:04<02:31,  1.56s/it]"
     ]
    },
    {
     "name": "stdout",
     "output_type": "stream",
     "text": [
      "LJ001-0004_22k_normalized.wav\n"
     ]
    },
    {
     "name": "stderr",
     "output_type": "stream",
     "text": [
      "  4%|▍         | 4/100 [00:06<02:49,  1.77s/it]"
     ]
    },
    {
     "name": "stdout",
     "output_type": "stream",
     "text": [
      "(autoscaler +27s) Removing 1 nodes of type worker-node-type-0 (idle).\n",
      "LJ001-0005_22k_normalized.wav\n",
      "4\n"
     ]
    },
    {
     "name": "stderr",
     "output_type": "stream",
     "text": [
      "  4%|▍         | 4/100 [00:08<03:16,  2.04s/it]\n"
     ]
    }
   ],
   "source": [
    "for i in tqdm(range(100)):\n",
    "    batch_dict = ray_df_to_batch_radtts(next(batch_iterator))\n",
    "    print(batch_dict['audiopaths'][0][0].split('wavs/')[-1])\n",
    "    if batch_dict['audiopaths'][0][0].split('wavs/')[-1] == \"LJ001-0005_22k_normalized.wav\":\n",
    "        print(i)\n",
    "        break\n",
    "#     if batch_dict['text'].shape[1] == sample_text.shape[1]:\n",
    "#         print(i)\n",
    "#         if all(batch_dict['text'] == sample_text):\n",
    "#             print(i)\n",
    "#             break"
   ]
  },
  {
   "cell_type": "code",
   "execution_count": 10,
   "id": "ac5c4a63",
   "metadata": {},
   "outputs": [
    {
     "data": {
      "text/plain": [
       "'/home/ray/default'"
      ]
     },
     "execution_count": 10,
     "metadata": {},
     "output_type": "execute_result"
    }
   ],
   "source": [
    "os.getcwd()"
   ]
  },
  {
   "cell_type": "code",
   "execution_count": 11,
   "id": "cf981e82",
   "metadata": {},
   "outputs": [
    {
     "data": {
      "text/plain": [
       "True"
      ]
     },
     "execution_count": 11,
     "metadata": {},
     "output_type": "execute_result"
    }
   ],
   "source": [
    "all(batch_dict['text'][0] == torch.tensor([  8,  94,  82,  79,   8, 147, 156, 180, 131, 156, 169, 110, 156,   8,\n",
    "         89,  80,   8, 155, 178, 180, 110, 125, 110, 154,   8, 155, 131, 170,\n",
    "        110, 154,   8, 154, 131, 170, 134, 183,   8,  83,  88,   8,  94,  82,\n",
    "         79,   8, 155, 146, 127, 110, 154,   8,  89,  80,   8,  94,  82,  79,\n",
    "          8, 141, 145, 141, 170, 150, 156, 171,   8, 168, 131, 156, 126, 134,\n",
    "        149,   8, 155, 139,   8, 152, 111, 168, 170, 154, 149,   8,  76,  79,\n",
    "          8, 153, 110, 156, 168, 146, 127, 134, 127,   8,  75,  93,   8,  94,\n",
    "         82,  79,   8, 147, 156, 180, 131, 156, 169, 110, 156,   8,  89,  80,\n",
    "          8,  94,  82,  79,   8, 103, 167, 170,   8,  89,  80,   8,  90,  92,\n",
    "         83,  88,  94,  83,  88,  81,   4,   8]))"
   ]
  },
  {
   "cell_type": "code",
   "execution_count": 12,
   "id": "f3dc8194",
   "metadata": {},
   "outputs": [
    {
     "data": {
      "text/plain": [
       "dict_keys(['mel', 'speaker_ids', 'text', 'input_lengths', 'output_lengths', 'audiopaths', 'attn_prior', 'f0', 'p_voiced', 'voiced_mask', 'energy_avg'])"
      ]
     },
     "execution_count": 12,
     "metadata": {},
     "output_type": "execute_result"
    }
   ],
   "source": [
    "batch_dict.keys()"
   ]
  },
  {
   "cell_type": "code",
   "execution_count": 13,
   "id": "192eaa47",
   "metadata": {},
   "outputs": [
    {
     "data": {
      "text/plain": [
       "tensor([[0.7865, 0.1682, 0.0357,  ..., 0.0000, 0.0000, 0.0000],\n",
       "        [0.6183, 0.2649, 0.0846,  ..., 0.0000, 0.0000, 0.0000],\n",
       "        [0.4859, 0.3127, 0.1334,  ..., 0.0000, 0.0000, 0.0000],\n",
       "        ...,\n",
       "        [0.0000, 0.0000, 0.0000,  ..., 0.1334, 0.3127, 0.4859],\n",
       "        [0.0000, 0.0000, 0.0000,  ..., 0.0846, 0.2649, 0.6183],\n",
       "        [0.0000, 0.0000, 0.0000,  ..., 0.0357, 0.1682, 0.7865]])"
      ]
     },
     "execution_count": 13,
     "metadata": {},
     "output_type": "execute_result"
    }
   ],
   "source": [
    "batch_dict['attn_prior'][0]"
   ]
  },
  {
   "cell_type": "code",
   "execution_count": 14,
   "id": "da1cf488",
   "metadata": {},
   "outputs": [
    {
     "data": {
      "text/plain": [
       "<Axes: >"
      ]
     },
     "execution_count": 14,
     "metadata": {},
     "output_type": "execute_result"
    },
    {
     "data": {
      "image/png": "[encoded data removed]",
      "text/plain": [
       "<Figure size 640x480 with 2 Axes>"
      ]
     },
     "metadata": {},
     "output_type": "display_data"
    },
    {
     "name": "stdout",
     "output_type": "stream",
     "text": [
      "(autoscaler +31s) Removing 1 nodes of type worker-node-type-0 (idle).\n",
      "(autoscaler +36s) Removing 1 nodes of type worker-node-type-0 (idle).\n",
      "(autoscaler +41s) Removing 1 nodes of type worker-node-type-0 (idle).\n",
      "(autoscaler +46s) Removing 1 nodes of type worker-node-type-0 (idle).\n",
      "(autoscaler +51s) Removing 1 nodes of type worker-node-type-0 (idle).\n",
      "(autoscaler +1m1s) Resized to 148 CPUs, 1 GPUs.\n",
      "(autoscaler +2m21s) Failed to launch 1 node(s) of type worker-node-type-1. (VcpuLimitExceeded): You have requested more vCPU capacity than your current vCPU limit of 300 allows for the instance bucket that the specified instance type belongs to. Please visit http://aws.amazon.com/contact-us/ec2-request to request an adjustment to this limit.\n",
      "(autoscaler +2m26s) Failed to launch 1 node(s) of type worker-node-type-1. (VcpuLimitExceeded): You have requested more vCPU capacity than your current vCPU limit of 300 allows for the instance bucket that the specified instance type belongs to. Please visit http://aws.amazon.com/contact-us/ec2-request to request an adjustment to this limit.\n",
      "(autoscaler +2m31s) Failed to launch 1 node(s) of type worker-node-type-1. (VcpuLimitExceeded): You have requested more vCPU capacity than your current vCPU limit of 300 allows for the instance bucket that the specified instance type belongs to. Please visit http://aws.amazon.com/contact-us/ec2-request to request an adjustment to this limit.\n",
      "(autoscaler +2m36s) Failed to launch 1 node(s) of type worker-node-type-1. (VcpuLimitExceeded): You have requested more vCPU capacity than your current vCPU limit of 300 allows for the instance bucket that the specified instance type belongs to. Please visit http://aws.amazon.com/contact-us/ec2-request to request an adjustment to this limit.\n",
      "(autoscaler +2m42s) Failed to launch 1 node(s) of type worker-node-type-1. (VcpuLimitExceeded): You have requested more vCPU capacity than your current vCPU limit of 300 allows for the instance bucket that the specified instance type belongs to. Please visit http://aws.amazon.com/contact-us/ec2-request to request an adjustment to this limit.\n",
      "(autoscaler +2m47s) Failed to launch 1 node(s) of type worker-node-type-1. (VcpuLimitExceeded): You have requested more vCPU capacity than your current vCPU limit of 300 allows for the instance bucket that the specified instance type belongs to. Please visit http://aws.amazon.com/contact-us/ec2-request to request an adjustment to this limit.\n",
      "(autoscaler +2m52s) Failed to launch 1 node(s) of type worker-node-type-1. (VcpuLimitExceeded): You have requested more vCPU capacity than your current vCPU limit of 300 allows for the instance bucket that the specified instance type belongs to. Please visit http://aws.amazon.com/contact-us/ec2-request to request an adjustment to this limit.\n",
      "(autoscaler +2m57s) Failed to launch 1 node(s) of type worker-node-type-1. (VcpuLimitExceeded): You have requested more vCPU capacity than your current vCPU limit of 300 allows for the instance bucket that the specified instance type belongs to. Please visit http://aws.amazon.com/contact-us/ec2-request to request an adjustment to this limit.\n",
      "(autoscaler +3m2s) Failed to launch 1 node(s) of type worker-node-type-1. (VcpuLimitExceeded): You have requested more vCPU capacity than your current vCPU limit of 300 allows for the instance bucket that the specified instance type belongs to. Please visit http://aws.amazon.com/contact-us/ec2-request to request an adjustment to this limit.\n",
      "(autoscaler +3m9s) Failed to launch 1 node(s) of type worker-node-type-1. (VcpuLimitExceeded): You have requested more vCPU capacity than your current vCPU limit of 300 allows for the instance bucket that the specified instance type belongs to. Please visit http://aws.amazon.com/contact-us/ec2-request to request an adjustment to this limit.\n",
      "(autoscaler +3m14s) Failed to launch 1 node(s) of type worker-node-type-1. (VcpuLimitExceeded): You have requested more vCPU capacity than your current vCPU limit of 300 allows for the instance bucket that the specified instance type belongs to. Please visit http://aws.amazon.com/contact-us/ec2-request to request an adjustment to this limit.\n",
      "(autoscaler +3m19s) Failed to launch 1 node(s) of type worker-node-type-1. (VcpuLimitExceeded): You have requested more vCPU capacity than your current vCPU limit of 300 allows for the instance bucket that the specified instance type belongs to. Please visit http://aws.amazon.com/contact-us/ec2-request to request an adjustment to this limit.\n",
      "(autoscaler +3m23s) Failed to launch 1 node(s) of type worker-node-type-1. (VcpuLimitExceeded): You have requested more vCPU capacity than your current vCPU limit of 300 allows for the instance bucket that the specified instance type belongs to. Please visit http://aws.amazon.com/contact-us/ec2-request to request an adjustment to this limit.\n",
      "(autoscaler +3m28s) Failed to launch 1 node(s) of type worker-node-type-1. (VcpuLimitExceeded): You have requested more vCPU capacity than your current vCPU limit of 300 allows for the instance bucket that the specified instance type belongs to. Please visit http://aws.amazon.com/contact-us/ec2-request to request an adjustment to this limit.\n",
      "(autoscaler +3m33s) Failed to launch 1 node(s) of type worker-node-type-1. (VcpuLimitExceeded): You have requested more vCPU capacity than your current vCPU limit of 300 allows for the instance bucket that the specified instance type belongs to. Please visit http://aws.amazon.com/contact-us/ec2-request to request an adjustment to this limit.\n",
      "(autoscaler +3m38s) Failed to launch 1 node(s) of type worker-node-type-1. (VcpuLimitExceeded): You have requested more vCPU capacity than your current vCPU limit of 300 allows for the instance bucket that the specified instance type belongs to. Please visit http://aws.amazon.com/contact-us/ec2-request to request an adjustment to this limit.\n",
      "(autoscaler +3m44s) Failed to launch 1 node(s) of type worker-node-type-1. (VcpuLimitExceeded): You have requested more vCPU capacity than your current vCPU limit of 300 allows for the instance bucket that the specified instance type belongs to. Please visit http://aws.amazon.com/contact-us/ec2-request to request an adjustment to this limit.\n",
      "(autoscaler +3m49s) Failed to launch 1 node(s) of type worker-node-type-1. (VcpuLimitExceeded): You have requested more vCPU capacity than your current vCPU limit of 300 allows for the instance bucket that the specified instance type belongs to. Please visit http://aws.amazon.com/contact-us/ec2-request to request an adjustment to this limit.\n",
      "(autoscaler +3m54s) Failed to launch 1 node(s) of type worker-node-type-1. (VcpuLimitExceeded): You have requested more vCPU capacity than your current vCPU limit of 300 allows for the instance bucket that the specified instance type belongs to. Please visit http://aws.amazon.com/contact-us/ec2-request to request an adjustment to this limit.\n",
      "(autoscaler +3m59s) Failed to launch 1 node(s) of type worker-node-type-1. (VcpuLimitExceeded): You have requested more vCPU capacity than your current vCPU limit of 300 allows for the instance bucket that the specified instance type belongs to. Please visit http://aws.amazon.com/contact-us/ec2-request to request an adjustment to this limit.\n",
      "(autoscaler +4m4s) Failed to launch 1 node(s) of type worker-node-type-1. (VcpuLimitExceeded): You have requested more vCPU capacity than your current vCPU limit of 300 allows for the instance bucket that the specified instance type belongs to. Please visit http://aws.amazon.com/contact-us/ec2-request to request an adjustment to this limit.\n",
      "(autoscaler +4m9s) Failed to launch 1 node(s) of type worker-node-type-1. (VcpuLimitExceeded): You have requested more vCPU capacity than your current vCPU limit of 300 allows for the instance bucket that the specified instance type belongs to. Please visit http://aws.amazon.com/contact-us/ec2-request to request an adjustment to this limit.\n",
      "(autoscaler +4m49s) Failed to launch 1 node(s) of type worker-node-type-1. (VcpuLimitExceeded): You have requested more vCPU capacity than your current vCPU limit of 300 allows for the instance bucket that the specified instance type belongs to. Please visit http://aws.amazon.com/contact-us/ec2-request to request an adjustment to this limit.\n",
      "(autoscaler +4m54s) Failed to launch 1 node(s) of type worker-node-type-1.\n",
      "(autoscaler +4m59s) Failed to launch 1 node(s) of type worker-node-type-1.\n",
      "(autoscaler +5m4s) Failed to launch 1 node(s) of type worker-node-type-1. (VcpuLimitExceeded): You have requested more vCPU capacity than your current vCPU limit of 300 allows for the instance bucket that the specified instance type belongs to. Please visit http://aws.amazon.com/contact-us/ec2-request to request an adjustment to this limit.\n",
      "(autoscaler +5m9s) Failed to launch 1 node(s) of type worker-node-type-1. (VcpuLimitExceeded): You have requested more vCPU capacity than your current vCPU limit of 300 allows for the instance bucket that the specified instance type belongs to. Please visit http://aws.amazon.com/contact-us/ec2-request to request an adjustment to this limit.\n",
      "(autoscaler +5m14s) Failed to launch 1 node(s) of type worker-node-type-1. (VcpuLimitExceeded): You have requested more vCPU capacity than your current vCPU limit of 300 allows for the instance bucket that the specified instance type belongs to. Please visit http://aws.amazon.com/contact-us/ec2-request to request an adjustment to this limit.\n",
      "(autoscaler +5m19s) Failed to launch 1 node(s) of type worker-node-type-1. (VcpuLimitExceeded): You have requested more vCPU capacity than your current vCPU limit of 300 allows for the instance bucket that the specified instance type belongs to. Please visit http://aws.amazon.com/contact-us/ec2-request to request an adjustment to this limit.\n",
      "(autoscaler +5m24s) Failed to launch 1 node(s) of type worker-node-type-1. (VcpuLimitExceeded): You have requested more vCPU capacity than your current vCPU limit of 300 allows for the instance bucket that the specified instance type belongs to. Please visit http://aws.amazon.com/contact-us/ec2-request to request an adjustment to this limit.\n",
      "(autoscaler +5m29s) Failed to launch 1 node(s) of type worker-node-type-1. (VcpuLimitExceeded): You have requested more vCPU capacity than your current vCPU limit of 300 allows for the instance bucket that the specified instance type belongs to. Please visit http://aws.amazon.com/contact-us/ec2-request to request an adjustment to this limit.\n",
      "(autoscaler +5m34s) Failed to launch 1 node(s) of type worker-node-type-1. (VcpuLimitExceeded): You have requested more vCPU capacity than your current vCPU limit of 300 allows for the instance bucket that the specified instance type belongs to. Please visit http://aws.amazon.com/contact-us/ec2-request to request an adjustment to this limit.\n",
      "(autoscaler +5m39s) Failed to launch 1 node(s) of type worker-node-type-1. (VcpuLimitExceeded): You have requested more vCPU capacity than your current vCPU limit of 300 allows for the instance bucket that the specified instance type belongs to. Please visit http://aws.amazon.com/contact-us/ec2-request to request an adjustment to this limit.\n",
      "(autoscaler +5m45s) Failed to launch 1 node(s) of type worker-node-type-1. (VcpuLimitExceeded): You have requested more vCPU capacity than your current vCPU limit of 300 allows for the instance bucket that the specified instance type belongs to. Please visit http://aws.amazon.com/contact-us/ec2-request to request an adjustment to this limit.\n",
      "(autoscaler +5m50s) Failed to launch 1 node(s) of type worker-node-type-1. (VcpuLimitExceeded): You have requested more vCPU capacity than your current vCPU limit of 300 allows for the instance bucket that the specified instance type belongs to. Please visit http://aws.amazon.com/contact-us/ec2-request to request an adjustment to this limit.\n",
      "(autoscaler +5m55s) Failed to launch 1 node(s) of type worker-node-type-1. (VcpuLimitExceeded): You have requested more vCPU capacity than your current vCPU limit of 300 allows for the instance bucket that the specified instance type belongs to. Please visit http://aws.amazon.com/contact-us/ec2-request to request an adjustment to this limit.\n",
      "(autoscaler +6m0s) Failed to launch 1 node(s) of type worker-node-type-1. (VcpuLimitExceeded): You have requested more vCPU capacity than your current vCPU limit of 300 allows for the instance bucket that the specified instance type belongs to. Please visit http://aws.amazon.com/contact-us/ec2-request to request an adjustment to this limit.\n",
      "(autoscaler +6m5s) Failed to launch 1 node(s) of type worker-node-type-1. (VcpuLimitExceeded): You have requested more vCPU capacity than your current vCPU limit of 300 allows for the instance bucket that the specified instance type belongs to. Please visit http://aws.amazon.com/contact-us/ec2-request to request an adjustment to this limit.\n",
      "(autoscaler +6m10s) Failed to launch 1 node(s) of type worker-node-type-1. (VcpuLimitExceeded): You have requested more vCPU capacity than your current vCPU limit of 300 allows for the instance bucket that the specified instance type belongs to. Please visit http://aws.amazon.com/contact-us/ec2-request to request an adjustment to this limit.\n",
      "(autoscaler +6m14s) Failed to launch 1 node(s) of type worker-node-type-1. (VcpuLimitExceeded): You have requested more vCPU capacity than your current vCPU limit of 300 allows for the instance bucket that the specified instance type belongs to. Please visit http://aws.amazon.com/contact-us/ec2-request to request an adjustment to this limit.\n",
      "(autoscaler +6m19s) Failed to launch 1 node(s) of type worker-node-type-1. (VcpuLimitExceeded): You have requested more vCPU capacity than your current vCPU limit of 300 allows for the instance bucket that the specified instance type belongs to. Please visit http://aws.amazon.com/contact-us/ec2-request to request an adjustment to this limit.\n",
      "(autoscaler +6m24s) Failed to launch 1 node(s) of type worker-node-type-1. (VcpuLimitExceeded): You have requested more vCPU capacity than your current vCPU limit of 300 allows for the instance bucket that the specified instance type belongs to. Please visit http://aws.amazon.com/contact-us/ec2-request to request an adjustment to this limit.\n",
      "(autoscaler +6m29s) Failed to launch 1 node(s) of type worker-node-type-1. (VcpuLimitExceeded): You have requested more vCPU capacity than your current vCPU limit of 300 allows for the instance bucket that the specified instance type belongs to. Please visit http://aws.amazon.com/contact-us/ec2-request to request an adjustment to this limit.\n",
      "(autoscaler +6m34s) Failed to launch 1 node(s) of type worker-node-type-1. (VcpuLimitExceeded): You have requested more vCPU capacity than your current vCPU limit of 300 allows for the instance bucket that the specified instance type belongs to. Please visit http://aws.amazon.com/contact-us/ec2-request to request an adjustment to this limit.\n",
      "(autoscaler +6m39s) Failed to launch 1 node(s) of type worker-node-type-1. (VcpuLimitExceeded): You have requested more vCPU capacity than your current vCPU limit of 300 allows for the instance bucket that the specified instance type belongs to. Please visit http://aws.amazon.com/contact-us/ec2-request to request an adjustment to this limit.\n",
      "(autoscaler +18m12s) Adding 1 node(s) of type worker-node-type-1.\n"
     ]
    },
    {
     "name": "stderr",
     "output_type": "stream",
     "text": [
      "(raylet, ip=10.0.58.246) /home/ray/anaconda3/lib/python3.10/site-packages/ray/dashboard/agent.py:51: DeprecationWarning: There is no current event loop\n",
      "(raylet, ip=10.0.58.246)   aiogrpc.init_grpc_aio()\n"
     ]
    },
    {
     "name": "stdout",
     "output_type": "stream",
     "text": [
      "(autoscaler +19m18s) Resized to 156 CPUs, 2 GPUs.\n",
      "(autoscaler +19m43s) Adding 1 node(s) of type worker-node-type-0.\n",
      "(autoscaler +19m43s) Failed to launch 1 node(s) of type worker-node-type-1. (VcpuLimitExceeded): You have requested more vCPU capacity than your current vCPU limit of 300 allows for the instance bucket that the specified instance type belongs to. Please visit http://aws.amazon.com/contact-us/ec2-request to request an adjustment to this limit.\n"
     ]
    }
   ],
   "source": [
    "import seaborn as sns\n",
    "%matplotlib inline\n",
    "sns.heatmap(batch_dict['attn_prior'][0])\n",
    "# sns.heatmap(batch_dict['mel'][0])"
   ]
  },
  {
   "cell_type": "code",
   "execution_count": null,
   "id": "70a0e6d8",
   "metadata": {},
   "outputs": [],
   "source": [
    "from uberduck_ml_dev.models.common import get_mel\n",
    "mel = get_mel(torch.FloatTensor(audio_norm), data_config['max_wav_value'], stft)\n",
    "\n"
   ]
  },
  {
   "cell_type": "code",
   "execution_count": null,
   "id": "efd44f80",
   "metadata": {},
   "outputs": [],
   "source": []
  },
  {
   "cell_type": "code",
   "execution_count": null,
   "id": "ff7868d2",
   "metadata": {},
   "outputs": [],
   "source": []
  },
  {
   "cell_type": "code",
   "execution_count": 11,
   "id": "808d4302",
   "metadata": {},
   "outputs": [
    {
     "data": {
      "text/plain": [
       "'LJ001-0001_22k_normalized.wav'"
      ]
     },
     "execution_count": 11,
     "metadata": {},
     "output_type": "execute_result"
    }
   ],
   "source": [
    "batch_dict['audiopaths'][0][0].split('wavs/')[-1]"
   ]
  },
  {
   "cell_type": "code",
   "execution_count": null,
   "id": "4379b46b",
   "metadata": {},
   "outputs": [],
   "source": [
    "binarize = False\n",
    "\n",
    "mel = to_gpu(batch_dict['mel'])\n",
    "speaker_ids = to_gpu(batch_dict['speaker_ids'])\n",
    "attn_prior = to_gpu(batch_dict['attn_prior'])\n",
    "f0 = to_gpu(batch_dict['f0'])\n",
    "voiced_mask = to_gpu(batch_dict['voiced_mask'])\n",
    "p_voiced = to_gpu(batch_dict['p_voiced'])\n",
    "text = to_gpu(batch_dict['text'])\n",
    "in_lens = to_gpu(batch_dict['input_lengths'])\n",
    "out_lens = to_gpu(batch_dict['output_lengths'])\n",
    "energy_avg = to_gpu(batch_dict['energy_avg'])\n",
    "\n",
    "with torch.no_grad():\n",
    "    outputs = model(\n",
    "                mel, speaker_ids, text, in_lens, out_lens,\n",
    "                binarize_attention=binarize, attn_prior=attn_prior,\n",
    "                f0=f0, energy_avg=energy_avg,\n",
    "                voiced_mask=voiced_mask, p_voiced=p_voiced)"
   ]
  },
  {
   "cell_type": "code",
   "execution_count": 20,
   "id": "6b3bda01",
   "metadata": {},
   "outputs": [],
   "source": [
    "sample_text = torch.tensor([[  8,  75,  88,  78,   8,  97,  75,  93,   8,  95,  93,  79,  78,   8,\n",
    "         128, 131, 167,   8,  97,  83,  94,  82,   8, 180, 131, 167, 149,   8,\n",
    "         154, 146, 170, 110, 154,   8, 180, 132, 167, 149, 139, 169, 110, 156,\n",
    "           8, 115, 154,   8, 171, 167, 178,   8,  94,  82,  79,   8,  93,  83,\n",
    "          98,  94,  79,  79,  88,  94,  82,   8,  75,  88,  78,   8, 168, 131,\n",
    "         180, 110, 156, 170, 150, 156, 171,   8, 168, 131, 156, 126, 134, 149,\n",
    "         183,   3,   8,  75,  88,  78,   8, 147, 156, 127, 150, 127,   8,  83,\n",
    "          88,  94,  89,   8,  94,  82,  79,   8,  79,  83,  81,  82,  94,  79,\n",
    "          79,  88,  94,  82,   4,   8]])"
   ]
  },
  {
   "cell_type": "code",
   "execution_count": 29,
   "id": "fc0b5288",
   "metadata": {},
   "outputs": [
    {
     "data": {
      "text/plain": [
       "tensor([  8,  99,  89,  95,  92,   8, 155, 103, 155,   8])"
      ]
     },
     "execution_count": 29,
     "metadata": {},
     "output_type": "execute_result"
    }
   ],
   "source": [
    "get_text('your mom')"
   ]
  },
  {
   "cell_type": "code",
   "execution_count": 30,
   "id": "3a8aec1a",
   "metadata": {},
   "outputs": [
    {
     "data": {
      "text/plain": [
       "tensor([  8,  99,  89,  95,  92,   8, 155, 103, 155,   8,  83,  93,   8,  75,\n",
       "          8, 154, 111, 180, 154, 149,   8, 181, 174, 155, 110, 156,   4,   8])"
      ]
     },
     "execution_count": 30,
     "metadata": {},
     "output_type": "execute_result"
    }
   ],
   "source": [
    "get_text('your mom is a lovely woman.')"
   ]
  },
  {
   "cell_type": "code",
   "execution_count": null,
   "id": "00812b0e",
   "metadata": {},
   "outputs": [],
   "source": []
  }
 ],
 "metadata": {
  "kernelspec": {
   "display_name": "Python 3 (ipykernel)",
   "language": "python",
   "name": "python3"
  },
  "language_info": {
   "codemirror_mode": {
    "name": "ipython",
    "version": 3
   },
   "file_extension": ".py",
   "mimetype": "text/x-python",
   "name": "python",
   "nbconvert_exporter": "python",
   "pygments_lexer": "ipython3",
   "version": "3.10.9"
  }
 },
 "nbformat": 4,
 "nbformat_minor": 5
}
